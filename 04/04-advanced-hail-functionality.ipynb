{
 "cells": [
  {
   "cell_type": "markdown",
   "id": "ed1ae622",
   "metadata": {},
   "source": [
    "# Pfizer 2023 Hail Workshop\n",
    "## 04: Advanced Hail Functionality\n",
    "\n",
    "This notebook is a grab bag of more advanced Hail functionality."
   ]
  },
  {
   "cell_type": "markdown",
   "id": "4d307549",
   "metadata": {},
   "source": [
    "### Approximate CDF\n",
    "\n",
    "Normally computing quantiles or the median requires sorting an entire dataset. Hail uses a sophisticated data structure to get provably good approximations of all quantiles without sorting the data, providing buckets, or using unbounded memory."
   ]
  },
  {
   "cell_type": "code",
   "execution_count": 1,
   "id": "73a71978",
   "metadata": {},
   "outputs": [],
   "source": [
    "import os\n",
    "# Give Hail a bunch of RAM\n",
    "os.environ['PYSPARK_SUBMIT_ARGS'] = '--executor-memory 16G --driver-memory 16G pyspark-shell'"
   ]
  },
  {
   "cell_type": "code",
   "execution_count": 2,
   "id": "1cad57cc",
   "metadata": {},
   "outputs": [
    {
     "data": {
      "text/html": [
       "\n",
       "    <div class=\"bk-root\">\n",
       "        <a href=\"https://bokeh.org\" target=\"_blank\" class=\"bk-logo bk-logo-small bk-logo-notebook\"></a>\n",
       "        <span id=\"1001\">Loading BokehJS ...</span>\n",
       "    </div>"
      ]
     },
     "metadata": {},
     "output_type": "display_data"
    },
    {
     "data": {
      "application/javascript": [
       "\n",
       "(function(root) {\n",
       "  function now() {\n",
       "    return new Date();\n",
       "  }\n",
       "\n",
       "  var force = true;\n",
       "\n",
       "  if (typeof root._bokeh_onload_callbacks === \"undefined\" || force === true) {\n",
       "    root._bokeh_onload_callbacks = [];\n",
       "    root._bokeh_is_loading = undefined;\n",
       "  }\n",
       "\n",
       "  var JS_MIME_TYPE = 'application/javascript';\n",
       "  var HTML_MIME_TYPE = 'text/html';\n",
       "  var EXEC_MIME_TYPE = 'application/vnd.bokehjs_exec.v0+json';\n",
       "  var CLASS_NAME = 'output_bokeh rendered_html';\n",
       "\n",
       "  /**\n",
       "   * Render data to the DOM node\n",
       "   */\n",
       "  function render(props, node) {\n",
       "    var script = document.createElement(\"script\");\n",
       "    node.appendChild(script);\n",
       "  }\n",
       "\n",
       "  /**\n",
       "   * Handle when an output is cleared or removed\n",
       "   */\n",
       "  function handleClearOutput(event, handle) {\n",
       "    var cell = handle.cell;\n",
       "\n",
       "    var id = cell.output_area._bokeh_element_id;\n",
       "    var server_id = cell.output_area._bokeh_server_id;\n",
       "    // Clean up Bokeh references\n",
       "    if (id != null && id in Bokeh.index) {\n",
       "      Bokeh.index[id].model.document.clear();\n",
       "      delete Bokeh.index[id];\n",
       "    }\n",
       "\n",
       "    if (server_id !== undefined) {\n",
       "      // Clean up Bokeh references\n",
       "      var cmd = \"from bokeh.io.state import curstate; print(curstate().uuid_to_server['\" + server_id + \"'].get_sessions()[0].document.roots[0]._id)\";\n",
       "      cell.notebook.kernel.execute(cmd, {\n",
       "        iopub: {\n",
       "          output: function(msg) {\n",
       "            var id = msg.content.text.trim();\n",
       "            if (id in Bokeh.index) {\n",
       "              Bokeh.index[id].model.document.clear();\n",
       "              delete Bokeh.index[id];\n",
       "            }\n",
       "          }\n",
       "        }\n",
       "      });\n",
       "      // Destroy server and session\n",
       "      var cmd = \"import bokeh.io.notebook as ion; ion.destroy_server('\" + server_id + \"')\";\n",
       "      cell.notebook.kernel.execute(cmd);\n",
       "    }\n",
       "  }\n",
       "\n",
       "  /**\n",
       "   * Handle when a new output is added\n",
       "   */\n",
       "  function handleAddOutput(event, handle) {\n",
       "    var output_area = handle.output_area;\n",
       "    var output = handle.output;\n",
       "\n",
       "    // limit handleAddOutput to display_data with EXEC_MIME_TYPE content only\n",
       "    if ((output.output_type != \"display_data\") || (!output.data.hasOwnProperty(EXEC_MIME_TYPE))) {\n",
       "      return\n",
       "    }\n",
       "\n",
       "    var toinsert = output_area.element.find(\".\" + CLASS_NAME.split(' ')[0]);\n",
       "\n",
       "    if (output.metadata[EXEC_MIME_TYPE][\"id\"] !== undefined) {\n",
       "      toinsert[toinsert.length - 1].firstChild.textContent = output.data[JS_MIME_TYPE];\n",
       "      // store reference to embed id on output_area\n",
       "      output_area._bokeh_element_id = output.metadata[EXEC_MIME_TYPE][\"id\"];\n",
       "    }\n",
       "    if (output.metadata[EXEC_MIME_TYPE][\"server_id\"] !== undefined) {\n",
       "      var bk_div = document.createElement(\"div\");\n",
       "      bk_div.innerHTML = output.data[HTML_MIME_TYPE];\n",
       "      var script_attrs = bk_div.children[0].attributes;\n",
       "      for (var i = 0; i < script_attrs.length; i++) {\n",
       "        toinsert[toinsert.length - 1].firstChild.setAttribute(script_attrs[i].name, script_attrs[i].value);\n",
       "      }\n",
       "      // store reference to server id on output_area\n",
       "      output_area._bokeh_server_id = output.metadata[EXEC_MIME_TYPE][\"server_id\"];\n",
       "    }\n",
       "  }\n",
       "\n",
       "  function register_renderer(events, OutputArea) {\n",
       "\n",
       "    function append_mime(data, metadata, element) {\n",
       "      // create a DOM node to render to\n",
       "      var toinsert = this.create_output_subarea(\n",
       "        metadata,\n",
       "        CLASS_NAME,\n",
       "        EXEC_MIME_TYPE\n",
       "      );\n",
       "      this.keyboard_manager.register_events(toinsert);\n",
       "      // Render to node\n",
       "      var props = {data: data, metadata: metadata[EXEC_MIME_TYPE]};\n",
       "      render(props, toinsert[toinsert.length - 1]);\n",
       "      element.append(toinsert);\n",
       "      return toinsert\n",
       "    }\n",
       "\n",
       "    /* Handle when an output is cleared or removed */\n",
       "    events.on('clear_output.CodeCell', handleClearOutput);\n",
       "    events.on('delete.Cell', handleClearOutput);\n",
       "\n",
       "    /* Handle when a new output is added */\n",
       "    events.on('output_added.OutputArea', handleAddOutput);\n",
       "\n",
       "    /**\n",
       "     * Register the mime type and append_mime function with output_area\n",
       "     */\n",
       "    OutputArea.prototype.register_mime_type(EXEC_MIME_TYPE, append_mime, {\n",
       "      /* Is output safe? */\n",
       "      safe: true,\n",
       "      /* Index of renderer in `output_area.display_order` */\n",
       "      index: 0\n",
       "    });\n",
       "  }\n",
       "\n",
       "  // register the mime type if in Jupyter Notebook environment and previously unregistered\n",
       "  if (root.Jupyter !== undefined) {\n",
       "    var events = require('base/js/events');\n",
       "    var OutputArea = require('notebook/js/outputarea').OutputArea;\n",
       "\n",
       "    if (OutputArea.prototype.mime_types().indexOf(EXEC_MIME_TYPE) == -1) {\n",
       "      register_renderer(events, OutputArea);\n",
       "    }\n",
       "  }\n",
       "\n",
       "  \n",
       "  if (typeof (root._bokeh_timeout) === \"undefined\" || force === true) {\n",
       "    root._bokeh_timeout = Date.now() + 5000;\n",
       "    root._bokeh_failed_load = false;\n",
       "  }\n",
       "\n",
       "  var NB_LOAD_WARNING = {'data': {'text/html':\n",
       "     \"<div style='background-color: #fdd'>\\n\"+\n",
       "     \"<p>\\n\"+\n",
       "     \"BokehJS does not appear to have successfully loaded. If loading BokehJS from CDN, this \\n\"+\n",
       "     \"may be due to a slow or bad network connection. Possible fixes:\\n\"+\n",
       "     \"</p>\\n\"+\n",
       "     \"<ul>\\n\"+\n",
       "     \"<li>re-rerun `output_notebook()` to attempt to load from CDN again, or</li>\\n\"+\n",
       "     \"<li>use INLINE resources instead, as so:</li>\\n\"+\n",
       "     \"</ul>\\n\"+\n",
       "     \"<code>\\n\"+\n",
       "     \"from bokeh.resources import INLINE\\n\"+\n",
       "     \"output_notebook(resources=INLINE)\\n\"+\n",
       "     \"</code>\\n\"+\n",
       "     \"</div>\"}};\n",
       "\n",
       "  function display_loaded() {\n",
       "    var el = document.getElementById(\"1001\");\n",
       "    if (el != null) {\n",
       "      el.textContent = \"BokehJS is loading...\";\n",
       "    }\n",
       "    if (root.Bokeh !== undefined) {\n",
       "      if (el != null) {\n",
       "        el.textContent = \"BokehJS \" + root.Bokeh.version + \" successfully loaded.\";\n",
       "      }\n",
       "    } else if (Date.now() < root._bokeh_timeout) {\n",
       "      setTimeout(display_loaded, 100)\n",
       "    }\n",
       "  }\n",
       "\n",
       "\n",
       "  function run_callbacks() {\n",
       "    try {\n",
       "      root._bokeh_onload_callbacks.forEach(function(callback) {\n",
       "        if (callback != null)\n",
       "          callback();\n",
       "      });\n",
       "    } finally {\n",
       "      delete root._bokeh_onload_callbacks\n",
       "    }\n",
       "    console.debug(\"Bokeh: all callbacks have finished\");\n",
       "  }\n",
       "\n",
       "  function load_libs(css_urls, js_urls, callback) {\n",
       "    if (css_urls == null) css_urls = [];\n",
       "    if (js_urls == null) js_urls = [];\n",
       "\n",
       "    root._bokeh_onload_callbacks.push(callback);\n",
       "    if (root._bokeh_is_loading > 0) {\n",
       "      console.debug(\"Bokeh: BokehJS is being loaded, scheduling callback at\", now());\n",
       "      return null;\n",
       "    }\n",
       "    if (js_urls == null || js_urls.length === 0) {\n",
       "      run_callbacks();\n",
       "      return null;\n",
       "    }\n",
       "    console.debug(\"Bokeh: BokehJS not loaded, scheduling load and callback at\", now());\n",
       "    root._bokeh_is_loading = css_urls.length + js_urls.length;\n",
       "\n",
       "    function on_load() {\n",
       "      root._bokeh_is_loading--;\n",
       "      if (root._bokeh_is_loading === 0) {\n",
       "        console.debug(\"Bokeh: all BokehJS libraries/stylesheets loaded\");\n",
       "        run_callbacks()\n",
       "      }\n",
       "    }\n",
       "\n",
       "    function on_error() {\n",
       "      console.error(\"failed to load \" + url);\n",
       "    }\n",
       "\n",
       "    for (var i = 0; i < css_urls.length; i++) {\n",
       "      var url = css_urls[i];\n",
       "      const element = document.createElement(\"link\");\n",
       "      element.onload = on_load;\n",
       "      element.onerror = on_error;\n",
       "      element.rel = \"stylesheet\";\n",
       "      element.type = \"text/css\";\n",
       "      element.href = url;\n",
       "      console.debug(\"Bokeh: injecting link tag for BokehJS stylesheet: \", url);\n",
       "      document.body.appendChild(element);\n",
       "    }\n",
       "\n",
       "    for (var i = 0; i < js_urls.length; i++) {\n",
       "      var url = js_urls[i];\n",
       "      var element = document.createElement('script');\n",
       "      element.onload = on_load;\n",
       "      element.onerror = on_error;\n",
       "      element.async = false;\n",
       "      element.src = url;\n",
       "      console.debug(\"Bokeh: injecting script tag for BokehJS library: \", url);\n",
       "      document.head.appendChild(element);\n",
       "    }\n",
       "  };var element = document.getElementById(\"1001\");\n",
       "  if (element == null) {\n",
       "    console.error(\"Bokeh: ERROR: autoload.js configured with elementid '1001' but no matching script tag was found. \")\n",
       "    return false;\n",
       "  }\n",
       "\n",
       "  function inject_raw_css(css) {\n",
       "    const element = document.createElement(\"style\");\n",
       "    element.appendChild(document.createTextNode(css));\n",
       "    document.body.appendChild(element);\n",
       "  }\n",
       "\n",
       "  \n",
       "  var js_urls = [\"https://cdn.pydata.org/bokeh/release/bokeh-1.4.0.min.js\", \"https://cdn.pydata.org/bokeh/release/bokeh-widgets-1.4.0.min.js\", \"https://cdn.pydata.org/bokeh/release/bokeh-tables-1.4.0.min.js\", \"https://cdn.pydata.org/bokeh/release/bokeh-gl-1.4.0.min.js\"];\n",
       "  var css_urls = [];\n",
       "  \n",
       "\n",
       "  var inline_js = [\n",
       "    function(Bokeh) {\n",
       "      Bokeh.set_log_level(\"info\");\n",
       "    },\n",
       "    function(Bokeh) {\n",
       "    \n",
       "    \n",
       "    }\n",
       "  ];\n",
       "\n",
       "  function run_inline_js() {\n",
       "    \n",
       "    if (root.Bokeh !== undefined || force === true) {\n",
       "      \n",
       "    for (var i = 0; i < inline_js.length; i++) {\n",
       "      inline_js[i].call(root, root.Bokeh);\n",
       "    }\n",
       "    if (force === true) {\n",
       "        display_loaded();\n",
       "      }} else if (Date.now() < root._bokeh_timeout) {\n",
       "      setTimeout(run_inline_js, 100);\n",
       "    } else if (!root._bokeh_failed_load) {\n",
       "      console.log(\"Bokeh: BokehJS failed to load within specified timeout.\");\n",
       "      root._bokeh_failed_load = true;\n",
       "    } else if (force !== true) {\n",
       "      var cell = $(document.getElementById(\"1001\")).parents('.cell').data().cell;\n",
       "      cell.output_area.append_execute_result(NB_LOAD_WARNING)\n",
       "    }\n",
       "\n",
       "  }\n",
       "\n",
       "  if (root._bokeh_is_loading === 0) {\n",
       "    console.debug(\"Bokeh: BokehJS loaded, going straight to plotting\");\n",
       "    run_inline_js();\n",
       "  } else {\n",
       "    load_libs(css_urls, js_urls, function() {\n",
       "      console.debug(\"Bokeh: BokehJS plotting callback run at\", now());\n",
       "      run_inline_js();\n",
       "    });\n",
       "  }\n",
       "}(window));"
      ],
      "application/vnd.bokehjs_load.v0+json": "\n(function(root) {\n  function now() {\n    return new Date();\n  }\n\n  var force = true;\n\n  if (typeof root._bokeh_onload_callbacks === \"undefined\" || force === true) {\n    root._bokeh_onload_callbacks = [];\n    root._bokeh_is_loading = undefined;\n  }\n\n  \n\n  \n  if (typeof (root._bokeh_timeout) === \"undefined\" || force === true) {\n    root._bokeh_timeout = Date.now() + 5000;\n    root._bokeh_failed_load = false;\n  }\n\n  var NB_LOAD_WARNING = {'data': {'text/html':\n     \"<div style='background-color: #fdd'>\\n\"+\n     \"<p>\\n\"+\n     \"BokehJS does not appear to have successfully loaded. If loading BokehJS from CDN, this \\n\"+\n     \"may be due to a slow or bad network connection. Possible fixes:\\n\"+\n     \"</p>\\n\"+\n     \"<ul>\\n\"+\n     \"<li>re-rerun `output_notebook()` to attempt to load from CDN again, or</li>\\n\"+\n     \"<li>use INLINE resources instead, as so:</li>\\n\"+\n     \"</ul>\\n\"+\n     \"<code>\\n\"+\n     \"from bokeh.resources import INLINE\\n\"+\n     \"output_notebook(resources=INLINE)\\n\"+\n     \"</code>\\n\"+\n     \"</div>\"}};\n\n  function display_loaded() {\n    var el = document.getElementById(\"1001\");\n    if (el != null) {\n      el.textContent = \"BokehJS is loading...\";\n    }\n    if (root.Bokeh !== undefined) {\n      if (el != null) {\n        el.textContent = \"BokehJS \" + root.Bokeh.version + \" successfully loaded.\";\n      }\n    } else if (Date.now() < root._bokeh_timeout) {\n      setTimeout(display_loaded, 100)\n    }\n  }\n\n\n  function run_callbacks() {\n    try {\n      root._bokeh_onload_callbacks.forEach(function(callback) {\n        if (callback != null)\n          callback();\n      });\n    } finally {\n      delete root._bokeh_onload_callbacks\n    }\n    console.debug(\"Bokeh: all callbacks have finished\");\n  }\n\n  function load_libs(css_urls, js_urls, callback) {\n    if (css_urls == null) css_urls = [];\n    if (js_urls == null) js_urls = [];\n\n    root._bokeh_onload_callbacks.push(callback);\n    if (root._bokeh_is_loading > 0) {\n      console.debug(\"Bokeh: BokehJS is being loaded, scheduling callback at\", now());\n      return null;\n    }\n    if (js_urls == null || js_urls.length === 0) {\n      run_callbacks();\n      return null;\n    }\n    console.debug(\"Bokeh: BokehJS not loaded, scheduling load and callback at\", now());\n    root._bokeh_is_loading = css_urls.length + js_urls.length;\n\n    function on_load() {\n      root._bokeh_is_loading--;\n      if (root._bokeh_is_loading === 0) {\n        console.debug(\"Bokeh: all BokehJS libraries/stylesheets loaded\");\n        run_callbacks()\n      }\n    }\n\n    function on_error() {\n      console.error(\"failed to load \" + url);\n    }\n\n    for (var i = 0; i < css_urls.length; i++) {\n      var url = css_urls[i];\n      const element = document.createElement(\"link\");\n      element.onload = on_load;\n      element.onerror = on_error;\n      element.rel = \"stylesheet\";\n      element.type = \"text/css\";\n      element.href = url;\n      console.debug(\"Bokeh: injecting link tag for BokehJS stylesheet: \", url);\n      document.body.appendChild(element);\n    }\n\n    for (var i = 0; i < js_urls.length; i++) {\n      var url = js_urls[i];\n      var element = document.createElement('script');\n      element.onload = on_load;\n      element.onerror = on_error;\n      element.async = false;\n      element.src = url;\n      console.debug(\"Bokeh: injecting script tag for BokehJS library: \", url);\n      document.head.appendChild(element);\n    }\n  };var element = document.getElementById(\"1001\");\n  if (element == null) {\n    console.error(\"Bokeh: ERROR: autoload.js configured with elementid '1001' but no matching script tag was found. \")\n    return false;\n  }\n\n  function inject_raw_css(css) {\n    const element = document.createElement(\"style\");\n    element.appendChild(document.createTextNode(css));\n    document.body.appendChild(element);\n  }\n\n  \n  var js_urls = [\"https://cdn.pydata.org/bokeh/release/bokeh-1.4.0.min.js\", \"https://cdn.pydata.org/bokeh/release/bokeh-widgets-1.4.0.min.js\", \"https://cdn.pydata.org/bokeh/release/bokeh-tables-1.4.0.min.js\", \"https://cdn.pydata.org/bokeh/release/bokeh-gl-1.4.0.min.js\"];\n  var css_urls = [];\n  \n\n  var inline_js = [\n    function(Bokeh) {\n      Bokeh.set_log_level(\"info\");\n    },\n    function(Bokeh) {\n    \n    \n    }\n  ];\n\n  function run_inline_js() {\n    \n    if (root.Bokeh !== undefined || force === true) {\n      \n    for (var i = 0; i < inline_js.length; i++) {\n      inline_js[i].call(root, root.Bokeh);\n    }\n    if (force === true) {\n        display_loaded();\n      }} else if (Date.now() < root._bokeh_timeout) {\n      setTimeout(run_inline_js, 100);\n    } else if (!root._bokeh_failed_load) {\n      console.log(\"Bokeh: BokehJS failed to load within specified timeout.\");\n      root._bokeh_failed_load = true;\n    } else if (force !== true) {\n      var cell = $(document.getElementById(\"1001\")).parents('.cell').data().cell;\n      cell.output_area.append_execute_result(NB_LOAD_WARNING)\n    }\n\n  }\n\n  if (root._bokeh_is_loading === 0) {\n    console.debug(\"Bokeh: BokehJS loaded, going straight to plotting\");\n    run_inline_js();\n  } else {\n    load_libs(css_urls, js_urls, function() {\n      console.debug(\"Bokeh: BokehJS plotting callback run at\", now());\n      run_inline_js();\n    });\n  }\n}(window));"
     },
     "metadata": {},
     "output_type": "display_data"
    }
   ],
   "source": [
    "import hail as hl\n",
    "hl.plot.output_notebook()"
   ]
  },
  {
   "cell_type": "code",
   "execution_count": 3,
   "id": "bef65878",
   "metadata": {},
   "outputs": [
    {
     "name": "stderr",
     "output_type": "stream",
     "text": [
      "Initializing Hail with default parameters...\n"
     ]
    },
    {
     "name": "stdout",
     "output_type": "stream",
     "text": [
      "2023-01-11 14:45:40.378 WARN  NativeCodeLoader:60 - Unable to load native-hadoop library for your platform... using builtin-java classes where applicable\n"
     ]
    },
    {
     "name": "stderr",
     "output_type": "stream",
     "text": [
      "Setting default log level to \"WARN\".\n",
      "To adjust logging level use sc.setLogLevel(newLevel). For SparkR, use setLogLevel(newLevel).\n"
     ]
    },
    {
     "name": "stdout",
     "output_type": "stream",
     "text": [
      "2023-01-11 14:45:42.185 WARN  Utils:69 - Service 'SparkUI' could not bind on port 4040. Attempting port 4041.\n",
      "2023-01-11 14:45:42.186 WARN  Utils:69 - Service 'SparkUI' could not bind on port 4041. Attempting port 4042.\n"
     ]
    },
    {
     "name": "stderr",
     "output_type": "stream",
     "text": [
      "Running on Apache Spark version 3.1.3\n",
      "SparkUI available at http://148.168.60.57:4042\n",
      "Welcome to\n",
      "     __  __     <>__\n",
      "    / /_/ /__  __/ /\n",
      "   / __  / _ `/ / /\n",
      "  /_/ /_/\\_,_/_/_/   version 0.2.107-2387bb00ceee\n",
      "LOGGING: writing to /Users/dking/projects/pfizer-2023-01-11/04/hail-20230111-1445-0.2.107-2387bb00ceee.log\n",
      "[Stage 0:>                                                          (0 + 4) / 4]\r"
     ]
    },
    {
     "data": {
      "text/plain": [
       "Struct(values=[0.5633802816901409, 0.6161971830985915, 0.6795774647887324, 0.6971830985915493, 0.8028169014084507, 0.8556338028169014, 0.8661971830985915, 0.9049295774647887, 0.9225352112676056, 0.9330985915492958, 0.9401408450704225, 0.9436619718309859, 0.9471830985915493, 0.9507042253521126, 0.954225352112676, 0.9577464788732394, 0.9612676056338029, 0.9647887323943662, 0.9683098591549296, 0.971830985915493, 0.9753521126760564, 0.9788732394366197, 0.9823943661971831, 0.9859154929577465, 0.9894366197183099, 0.9929577464788732, 0.9964788732394366, 1.0], ranks=[0, 1, 2, 3, 5, 9, 25, 57, 58, 122, 186, 250, 314, 378, 379, 444, 572, 700, 828, 956, 1212, 1597, 2109, 2621, 3645, 5053, 6909, 9149, 10879], _compaction_counts=[165, 61, 23, 8, 3, 1, 0, 0])"
      ]
     },
     "execution_count": 3,
     "metadata": {},
     "output_type": "execute_result"
    }
   ],
   "source": [
    "mt = hl.read_matrix_table('resources/1kg.mt')\n",
    "mt = hl.variant_qc(mt)\n",
    "cdf = mt.aggregate_rows(hl.agg.approx_cdf(mt.variant_qc.call_rate))\n",
    "cdf"
   ]
  },
  {
   "cell_type": "code",
   "execution_count": 4,
   "id": "abc1e33a",
   "metadata": {},
   "outputs": [
    {
     "data": {
      "text/html": [
       "\n",
       "\n",
       "\n",
       "\n",
       "\n",
       "\n",
       "  <div class=\"bk-root\" id=\"9cb5305a-64fa-43fb-89ad-326e05c86a9e\" data-root-id=\"1002\"></div>\n"
      ]
     },
     "metadata": {},
     "output_type": "display_data"
    },
    {
     "data": {
      "application/javascript": [
       "(function(root) {\n",
       "  function embed_document(root) {\n",
       "    \n",
       "  var docs_json = {\"cfa389a2-7efc-4f27-a592-24ec50da0df5\":{\"roots\":{\"references\":[{\"attributes\":{\"below\":[{\"id\":\"1013\",\"type\":\"LinearAxis\"}],\"center\":[{\"id\":\"1017\",\"type\":\"Grid\"},{\"id\":\"1022\",\"type\":\"Grid\"}],\"left\":[{\"id\":\"1018\",\"type\":\"LinearAxis\"}],\"plot_height\":400,\"plot_width\":400,\"renderers\":[{\"id\":\"1039\",\"type\":\"GlyphRenderer\"}],\"title\":{\"id\":\"1003\",\"type\":\"Title\"},\"toolbar\":{\"id\":\"1029\",\"type\":\"Toolbar\"},\"x_range\":{\"id\":\"1005\",\"type\":\"DataRange1d\"},\"x_scale\":{\"id\":\"1009\",\"type\":\"LinearScale\"},\"y_range\":{\"id\":\"1007\",\"type\":\"DataRange1d\"},\"y_scale\":{\"id\":\"1011\",\"type\":\"LinearScale\"}},\"id\":\"1002\",\"subtype\":\"Figure\",\"type\":\"Plot\"},{\"attributes\":{\"source\":{\"id\":\"1036\",\"type\":\"ColumnDataSource\"}},\"id\":\"1040\",\"type\":\"CDSView\"},{\"attributes\":{},\"id\":\"1019\",\"type\":\"BasicTicker\"},{\"attributes\":{},\"id\":\"1009\",\"type\":\"LinearScale\"},{\"attributes\":{\"ticker\":{\"id\":\"1014\",\"type\":\"BasicTicker\"}},\"id\":\"1017\",\"type\":\"Grid\"},{\"attributes\":{},\"id\":\"1045\",\"type\":\"BasicTickFormatter\"},{\"attributes\":{\"line_alpha\":{\"value\":0.1},\"line_color\":{\"value\":\"#1f77b4\"},\"line_width\":{\"value\":2},\"x\":{\"field\":\"x\"},\"y\":{\"field\":\"y\"}},\"id\":\"1038\",\"type\":\"Step\"},{\"attributes\":{},\"id\":\"1048\",\"type\":\"Selection\"},{\"attributes\":{\"active_drag\":\"auto\",\"active_inspect\":\"auto\",\"active_multi\":null,\"active_scroll\":\"auto\",\"active_tap\":\"auto\",\"tools\":[{\"id\":\"1023\",\"type\":\"PanTool\"},{\"id\":\"1024\",\"type\":\"WheelZoomTool\"},{\"id\":\"1025\",\"type\":\"BoxZoomTool\"},{\"id\":\"1026\",\"type\":\"SaveTool\"},{\"id\":\"1027\",\"type\":\"ResetTool\"},{\"id\":\"1028\",\"type\":\"HelpTool\"}]},\"id\":\"1029\",\"type\":\"Toolbar\"},{\"attributes\":{\"dimension\":1,\"ticker\":{\"id\":\"1019\",\"type\":\"BasicTicker\"}},\"id\":\"1022\",\"type\":\"Grid\"},{\"attributes\":{\"text\":\"Approximate CDF of Call Rate\"},\"id\":\"1003\",\"type\":\"Title\"},{\"attributes\":{},\"id\":\"1047\",\"type\":\"UnionRenderers\"},{\"attributes\":{\"callback\":null},\"id\":\"1007\",\"type\":\"DataRange1d\"},{\"attributes\":{},\"id\":\"1043\",\"type\":\"BasicTickFormatter\"},{\"attributes\":{\"overlay\":{\"id\":\"1046\",\"type\":\"BoxAnnotation\"}},\"id\":\"1025\",\"type\":\"BoxZoomTool\"},{\"attributes\":{},\"id\":\"1024\",\"type\":\"WheelZoomTool\"},{\"attributes\":{\"bottom_units\":\"screen\",\"fill_alpha\":{\"value\":0.5},\"fill_color\":{\"value\":\"lightgrey\"},\"left_units\":\"screen\",\"level\":\"overlay\",\"line_alpha\":{\"value\":1.0},\"line_color\":{\"value\":\"black\"},\"line_dash\":[4,4],\"line_width\":{\"value\":2},\"render_mode\":\"css\",\"right_units\":\"screen\",\"top_units\":\"screen\"},\"id\":\"1046\",\"type\":\"BoxAnnotation\"},{\"attributes\":{\"callback\":null,\"data\":{\"x\":[0,0.5633802816901409,0.6161971830985915,0.6795774647887324,0.6971830985915493,0.8028169014084507,0.8556338028169014,0.8661971830985915,0.9049295774647887,0.9225352112676056,0.9330985915492958,0.9401408450704225,0.9436619718309859,0.9471830985915493,0.9507042253521126,0.954225352112676,0.9577464788732394,0.9612676056338029,0.9647887323943662,0.9683098591549296,0.971830985915493,0.9753521126760564,0.9788732394366197,0.9823943661971831,0.9859154929577465,0.9894366197183099,0.9929577464788732,0.9964788732394366,1.0,1.0],\"y\":[0,0.0,9.192021325489476e-05,0.0001838404265097895,0.00027576063976468427,0.0004596010662744738,0.0008272819192940528,0.002298005331372369,0.005239452155529001,0.005331372368783896,0.01121426601709716,0.017097159665410425,0.022980053313723686,0.02886294696203695,0.034745840610350215,0.03483776082360511,0.04081257468517327,0.0525783619817998,0.06434414927842633,0.07610993657505286,0.08787572387167938,0.11140729846493244,0.1467965805680669,0.19385972975457302,0.24092287894107914,0.3350491773140914,0.46447283757698316,0.6350767533780678,0.8409780310690321,1.0]},\"selected\":{\"id\":\"1048\",\"type\":\"Selection\"},\"selection_policy\":{\"id\":\"1047\",\"type\":\"UnionRenderers\"}},\"id\":\"1036\",\"type\":\"ColumnDataSource\"},{\"attributes\":{},\"id\":\"1028\",\"type\":\"HelpTool\"},{\"attributes\":{},\"id\":\"1023\",\"type\":\"PanTool\"},{\"attributes\":{},\"id\":\"1027\",\"type\":\"ResetTool\"},{\"attributes\":{\"callback\":null},\"id\":\"1005\",\"type\":\"DataRange1d\"},{\"attributes\":{\"formatter\":{\"id\":\"1045\",\"type\":\"BasicTickFormatter\"},\"ticker\":{\"id\":\"1014\",\"type\":\"BasicTicker\"}},\"id\":\"1013\",\"type\":\"LinearAxis\"},{\"attributes\":{},\"id\":\"1026\",\"type\":\"SaveTool\"},{\"attributes\":{},\"id\":\"1011\",\"type\":\"LinearScale\"},{\"attributes\":{\"line_width\":{\"value\":2},\"x\":{\"field\":\"x\"},\"y\":{\"field\":\"y\"}},\"id\":\"1037\",\"type\":\"Step\"},{\"attributes\":{\"data_source\":{\"id\":\"1036\",\"type\":\"ColumnDataSource\"},\"glyph\":{\"id\":\"1037\",\"type\":\"Step\"},\"hover_glyph\":null,\"muted_glyph\":null,\"nonselection_glyph\":{\"id\":\"1038\",\"type\":\"Step\"},\"selection_glyph\":null,\"view\":{\"id\":\"1040\",\"type\":\"CDSView\"}},\"id\":\"1039\",\"type\":\"GlyphRenderer\"},{\"attributes\":{},\"id\":\"1014\",\"type\":\"BasicTicker\"},{\"attributes\":{\"formatter\":{\"id\":\"1043\",\"type\":\"BasicTickFormatter\"},\"ticker\":{\"id\":\"1019\",\"type\":\"BasicTicker\"}},\"id\":\"1018\",\"type\":\"LinearAxis\"}],\"root_ids\":[\"1002\"]},\"title\":\"Bokeh Application\",\"version\":\"1.4.0\"}};\n",
       "  var render_items = [{\"docid\":\"cfa389a2-7efc-4f27-a592-24ec50da0df5\",\"roots\":{\"1002\":\"9cb5305a-64fa-43fb-89ad-326e05c86a9e\"}}];\n",
       "  root.Bokeh.embed.embed_items_notebook(docs_json, render_items);\n",
       "\n",
       "  }\n",
       "  if (root.Bokeh !== undefined) {\n",
       "    embed_document(root);\n",
       "  } else {\n",
       "    var attempts = 0;\n",
       "    var timer = setInterval(function(root) {\n",
       "      if (root.Bokeh !== undefined) {\n",
       "        clearInterval(timer);\n",
       "        embed_document(root);\n",
       "      } else {\n",
       "        attempts++;\n",
       "        if (attempts > 100) {\n",
       "          clearInterval(timer);\n",
       "          console.log(\"Bokeh: ERROR: Unable to run BokehJS code because BokehJS library is missing\");\n",
       "        }\n",
       "      }\n",
       "    }, 10, root)\n",
       "  }\n",
       "})(window);"
      ],
      "application/vnd.bokehjs_exec.v0+json": ""
     },
     "metadata": {
      "application/vnd.bokehjs_exec.v0+json": {
       "id": "1002"
      }
     },
     "output_type": "display_data"
    }
   ],
   "source": [
    "import bokeh.plotting as bp\n",
    "\n",
    "def plot_cdf(cdf, title):\n",
    "    values = cdf['values']\n",
    "    values = values + [values[-1]]\n",
    "    ranks = cdf['ranks']\n",
    "    ranks = [x / ranks[-1] for x in ranks]\n",
    "\n",
    "    p = bp.figure(title=title, plot_width=400, plot_height=400)\n",
    "    p.step(x=[0] + values, y=[0] + ranks, line_width=2, line_color='black')\n",
    "\n",
    "    hl.plot.show(p)\n",
    "    \n",
    "plot_cdf(cdf, 'Approximate CDF of Call Rate')"
   ]
  },
  {
   "cell_type": "code",
   "execution_count": 5,
   "id": "045a8c0b",
   "metadata": {},
   "outputs": [
    {
     "data": {
      "text/html": [
       "\n",
       "\n",
       "\n",
       "\n",
       "\n",
       "\n",
       "  <div class=\"bk-root\" id=\"0c14abcc-a562-4db8-8a84-e74fef322516\" data-root-id=\"1097\"></div>\n"
      ]
     },
     "metadata": {},
     "output_type": "display_data"
    },
    {
     "data": {
      "application/javascript": [
       "(function(root) {\n",
       "  function embed_document(root) {\n",
       "    \n",
       "  var docs_json = {\"d463439f-766e-4fd0-996f-e14509de1eb6\":{\"roots\":{\"references\":[{\"attributes\":{\"below\":[{\"id\":\"1108\",\"type\":\"LinearAxis\"}],\"center\":[{\"id\":\"1112\",\"type\":\"Grid\"},{\"id\":\"1117\",\"type\":\"Grid\"}],\"left\":[{\"id\":\"1113\",\"type\":\"LinearAxis\"}],\"plot_height\":400,\"plot_width\":400,\"renderers\":[{\"id\":\"1134\",\"type\":\"GlyphRenderer\"}],\"title\":{\"id\":\"1098\",\"type\":\"Title\"},\"toolbar\":{\"id\":\"1124\",\"type\":\"Toolbar\"},\"x_range\":{\"id\":\"1100\",\"type\":\"DataRange1d\"},\"x_scale\":{\"id\":\"1104\",\"type\":\"LinearScale\"},\"y_range\":{\"id\":\"1102\",\"type\":\"DataRange1d\"},\"y_scale\":{\"id\":\"1106\",\"type\":\"LinearScale\"}},\"id\":\"1097\",\"subtype\":\"Figure\",\"type\":\"Plot\"},{\"attributes\":{},\"id\":\"1109\",\"type\":\"BasicTicker\"},{\"attributes\":{},\"id\":\"1114\",\"type\":\"BasicTicker\"},{\"attributes\":{},\"id\":\"1119\",\"type\":\"WheelZoomTool\"},{\"attributes\":{},\"id\":\"1150\",\"type\":\"UnionRenderers\"},{\"attributes\":{},\"id\":\"1106\",\"type\":\"LinearScale\"},{\"attributes\":{},\"id\":\"1104\",\"type\":\"LinearScale\"},{\"attributes\":{\"ticker\":{\"id\":\"1109\",\"type\":\"BasicTicker\"}},\"id\":\"1112\",\"type\":\"Grid\"},{\"attributes\":{\"overlay\":{\"id\":\"1149\",\"type\":\"BoxAnnotation\"}},\"id\":\"1120\",\"type\":\"BoxZoomTool\"},{\"attributes\":{\"line_width\":{\"value\":2},\"x\":{\"field\":\"x\"},\"y\":{\"field\":\"y\"}},\"id\":\"1132\",\"type\":\"Step\"},{\"attributes\":{\"callback\":null},\"id\":\"1100\",\"type\":\"DataRange1d\"},{\"attributes\":{\"callback\":null,\"data\":{\"x\":[0,0.0,0.003787878787878788,0.032490974729241874,0.03914590747330961,0.05,0.1003584229390681,0.11010830324909747,0.12411347517730496,0.15178571428571427,0.16607773851590105,0.1813186813186813,0.19160583941605838,0.20390070921985815,0.2137809187279152,0.22340425531914893,0.2306338028169014,0.2517857142857143,0.25880281690140844,0.2669039145907473,0.2746478873239437,0.2909090909090909,0.3,0.30892857142857144,0.3196428571428571,0.3274647887323944,0.3397887323943662,0.34124087591240876,0.35335689045936397,0.36428571428571427,0.3665480427046263,0.3763250883392226,0.3861209964412811,0.39501779359430605,0.40602836879432624,0.4119718309859155,0.4204946996466431,0.427536231884058,0.43636363636363634,0.4438405797101449,0.450354609929078,0.4574468085106383,0.4627659574468085,0.4714285714285714,0.477112676056338,0.4859154929577465,0.4908759124087591,0.49469964664310956,0.5035211267605634,0.5124113475177305,0.5177304964539007,0.5230496453900709,0.531021897810219,0.5388692579505301,0.5459363957597173,0.5501792114695341,0.5571428571428572,0.558303886925795,0.568904593639576,0.5716845878136201,0.5795053003533569,0.5821428571428572,0.5915492957746479,0.5957446808510638,0.597864768683274,0.60431654676259,0.6107142857142858,0.6161971830985915,0.6182795698924731,0.6263345195729537,0.6334519572953736,0.6387900355871886,0.6395759717314488,0.6446428571428572,0.6467391304347826,0.6537102473498233,0.6578014184397163,0.6631205673758865,0.6713780918727915,0.675531914893617,0.6810035842293907,0.6821428571428572,0.6883802816901409,0.6913357400722022,0.697841726618705,0.7031802120141343,0.7043010752688172,0.7077464788732394,0.7160714285714286,0.7178571428571429,0.7226148409893993,0.7256317689530686,0.7332155477031802,0.7394366197183099,0.7411347517730497,0.7445652173913043,0.7508833922261484,0.7535460992907801,0.7579505300353356,0.7658450704225352,0.7678571428571429,0.7730496453900709,0.7791519434628975,0.7839285714285714,0.7862190812720848,0.7880434782608695,0.7913669064748201,0.7950530035335689,0.8045774647887324,0.8057553956834532,0.8096085409252669,0.8122743682310469,0.8183453237410072,0.8214285714285714,0.8256227758007118,0.8297872340425532,0.8308823529411765,0.8356890459363958,0.8380281690140845,0.8421985815602837,0.8464285714285714,0.852112676056338,0.8533568904593639,0.8599290780141844,0.8625,0.8710247349823321,0.875886524822695,0.8767605633802817,0.8820422535211268,0.8851590106007067,0.8880866425992779,0.895017793594306,0.8992932862190812,0.9029304029304029,0.9066901408450704,0.9151943462897526,0.9202127659574468,0.9262589928057554,0.9290780141843972,0.9348591549295775,0.9464285714285714,0.9539007092198581,0.9574468085106383,0.9646643109540636,0.9735915492957746,0.9783393501805054,0.9823321554770318,0.987410071942446,0.9893617021276596,0.9894366197183099,0.991166077738516,0.9927272727272727,0.9929078014184397,0.9945848375451264,0.9946236559139785,0.9946808510638298,0.9946996466431095,0.996309963099631,0.9963636363636363,0.9964539007092199,0.9964664310954063,0.9980769230769231,0.9981884057971014,0.9982014388489209,0.9982142857142857,0.998220640569395,0.9982332155477032,0.9982394366197183,1.0,1.0],\"y\":[0,0.0,0.00027576063976468427,0.0017464840518430003,0.004687930875999632,0.004871771302509422,0.005239452155529001,0.011122345803842264,0.01121426601709716,0.017097159665410425,0.022980053313723686,0.02886294696203695,0.028954867175291846,0.03483776082360511,0.040720654471918374,0.04660354812023164,0.0524864417685449,0.05836933541685817,0.06425222906517143,0.0701351227134847,0.07601801636179796,0.08190091001011122,0.08778380365842449,0.09366669730673775,0.09954959095505102,0.10543248460336428,0.11131537825167755,0.11719827189999081,0.12308116554830408,0.12896405919661733,0.1348469528449306,0.14072984649324385,0.14661274014155712,0.15249563378987038,0.15837852743818365,0.1642614210864969,0.17014431473481018,0.17602720838312344,0.1819101020314367,0.18779299567974997,0.19367588932806323,0.1995587829763765,0.20544167662468976,0.21132457027300303,0.2172074639213163,0.22309035756962955,0.22897325121794282,0.23485614486625608,0.24073903851456935,0.2466219321628826,0.2525048258111959,0.25838771945950917,0.2642706131078224,0.2701535067561357,0.27603640040444893,0.2819192940527622,0.28780218770107546,0.29368508134938875,0.299567974997702,0.3054508686460153,0.3113337622943285,0.3172166559426418,0.32309954959095505,0.32898244323926834,0.3348653368875816,0.34074823053589487,0.3466311241842081,0.3525140178325214,0.35839691148083463,0.3642798051291479,0.37016269877746116,0.37604559242577446,0.3819284860740877,0.38781137972240093,0.3936942733707142,0.39957716701902746,0.40546006066734075,0.411342954315654,0.4172258479639673,0.4231087416122805,0.4289916352605938,0.43487452890890704,0.44075742255722034,0.44664031620553357,0.45252320985384686,0.4584061035021601,0.4642889971504734,0.47017189079878663,0.4760547844470999,0.48193767809541316,0.48782057174372645,0.4937034653920397,0.499586359040353,0.5054692526886663,0.5113521463369795,0.5172350399852927,0.523117933633606,0.5290008272819193,0.5348837209302325,0.5407666145785458,0.5466495082268591,0.5525324018751724,0.5584152955234856,0.5642981891717989,0.5701810828201122,0.5760639764684254,0.5819468701167386,0.5878297637650519,0.5937126574133652,0.5995955510616785,0.6054784447099917,0.611361338358305,0.6172442320066183,0.6231271256549316,0.6290100193032447,0.634892912951558,0.6407758065998713,0.6466587002481846,0.6525415938964978,0.6584244875448111,0.6643073811931244,0.6701902748414377,0.6760731684897509,0.6819560621380641,0.6878389557863774,0.6937218494346907,0.6996047430830039,0.7054876367313172,0.7113705303796305,0.7172534240279438,0.723136317676257,0.7290192113245703,0.7349021049728836,0.7407849986211968,0.74666789226951,0.7525507859178233,0.7584336795661366,0.7643165732144499,0.7701994668627631,0.7760823605110764,0.7819652541593897,0.787848147807703,0.7937310414560161,0.7996139351043294,0.8054968287526427,0.811379722400956,0.8172626160492692,0.8231455096975825,0.8290284033458958,0.8349112969942091,0.8407941906425223,0.8466770842908355,0.8525599779391488,0.8584428715874621,0.8643257652357753,0.8702086588840886,0.8760915525324019,0.8819744461807152,0.8820663663939701,0.8879492600422833,0.8997150473389098,0.9055979409872231,0.9114808346355363,0.9173637282838496,0.9232466219321629,0.9291295155804762,0.9350124092287894,0.9408953028771027,0.946778196525416,1.0]},\"selected\":{\"id\":\"1151\",\"type\":\"Selection\"},\"selection_policy\":{\"id\":\"1150\",\"type\":\"UnionRenderers\"}},\"id\":\"1131\",\"type\":\"ColumnDataSource\"},{\"attributes\":{},\"id\":\"1151\",\"type\":\"Selection\"},{\"attributes\":{\"text\":\"Approximate CDF of Reference AF\"},\"id\":\"1098\",\"type\":\"Title\"},{\"attributes\":{\"dimension\":1,\"ticker\":{\"id\":\"1114\",\"type\":\"BasicTicker\"}},\"id\":\"1117\",\"type\":\"Grid\"},{\"attributes\":{},\"id\":\"1121\",\"type\":\"SaveTool\"},{\"attributes\":{\"line_alpha\":{\"value\":0.1},\"line_color\":{\"value\":\"#1f77b4\"},\"line_width\":{\"value\":2},\"x\":{\"field\":\"x\"},\"y\":{\"field\":\"y\"}},\"id\":\"1133\",\"type\":\"Step\"},{\"attributes\":{},\"id\":\"1122\",\"type\":\"ResetTool\"},{\"attributes\":{\"formatter\":{\"id\":\"1148\",\"type\":\"BasicTickFormatter\"},\"ticker\":{\"id\":\"1109\",\"type\":\"BasicTicker\"}},\"id\":\"1108\",\"type\":\"LinearAxis\"},{\"attributes\":{\"source\":{\"id\":\"1131\",\"type\":\"ColumnDataSource\"}},\"id\":\"1135\",\"type\":\"CDSView\"},{\"attributes\":{\"bottom_units\":\"screen\",\"fill_alpha\":{\"value\":0.5},\"fill_color\":{\"value\":\"lightgrey\"},\"left_units\":\"screen\",\"level\":\"overlay\",\"line_alpha\":{\"value\":1.0},\"line_color\":{\"value\":\"black\"},\"line_dash\":[4,4],\"line_width\":{\"value\":2},\"render_mode\":\"css\",\"right_units\":\"screen\",\"top_units\":\"screen\"},\"id\":\"1149\",\"type\":\"BoxAnnotation\"},{\"attributes\":{},\"id\":\"1148\",\"type\":\"BasicTickFormatter\"},{\"attributes\":{\"formatter\":{\"id\":\"1146\",\"type\":\"BasicTickFormatter\"},\"ticker\":{\"id\":\"1114\",\"type\":\"BasicTicker\"}},\"id\":\"1113\",\"type\":\"LinearAxis\"},{\"attributes\":{\"active_drag\":\"auto\",\"active_inspect\":\"auto\",\"active_multi\":null,\"active_scroll\":\"auto\",\"active_tap\":\"auto\",\"tools\":[{\"id\":\"1118\",\"type\":\"PanTool\"},{\"id\":\"1119\",\"type\":\"WheelZoomTool\"},{\"id\":\"1120\",\"type\":\"BoxZoomTool\"},{\"id\":\"1121\",\"type\":\"SaveTool\"},{\"id\":\"1122\",\"type\":\"ResetTool\"},{\"id\":\"1123\",\"type\":\"HelpTool\"}]},\"id\":\"1124\",\"type\":\"Toolbar\"},{\"attributes\":{\"data_source\":{\"id\":\"1131\",\"type\":\"ColumnDataSource\"},\"glyph\":{\"id\":\"1132\",\"type\":\"Step\"},\"hover_glyph\":null,\"muted_glyph\":null,\"nonselection_glyph\":{\"id\":\"1133\",\"type\":\"Step\"},\"selection_glyph\":null,\"view\":{\"id\":\"1135\",\"type\":\"CDSView\"}},\"id\":\"1134\",\"type\":\"GlyphRenderer\"},{\"attributes\":{\"callback\":null},\"id\":\"1102\",\"type\":\"DataRange1d\"},{\"attributes\":{},\"id\":\"1118\",\"type\":\"PanTool\"},{\"attributes\":{},\"id\":\"1146\",\"type\":\"BasicTickFormatter\"},{\"attributes\":{},\"id\":\"1123\",\"type\":\"HelpTool\"}],\"root_ids\":[\"1097\"]},\"title\":\"Bokeh Application\",\"version\":\"1.4.0\"}};\n",
       "  var render_items = [{\"docid\":\"d463439f-766e-4fd0-996f-e14509de1eb6\",\"roots\":{\"1097\":\"0c14abcc-a562-4db8-8a84-e74fef322516\"}}];\n",
       "  root.Bokeh.embed.embed_items_notebook(docs_json, render_items);\n",
       "\n",
       "  }\n",
       "  if (root.Bokeh !== undefined) {\n",
       "    embed_document(root);\n",
       "  } else {\n",
       "    var attempts = 0;\n",
       "    var timer = setInterval(function(root) {\n",
       "      if (root.Bokeh !== undefined) {\n",
       "        clearInterval(timer);\n",
       "        embed_document(root);\n",
       "      } else {\n",
       "        attempts++;\n",
       "        if (attempts > 100) {\n",
       "          clearInterval(timer);\n",
       "          console.log(\"Bokeh: ERROR: Unable to run BokehJS code because BokehJS library is missing\");\n",
       "        }\n",
       "      }\n",
       "    }, 10, root)\n",
       "  }\n",
       "})(window);"
      ],
      "application/vnd.bokehjs_exec.v0+json": ""
     },
     "metadata": {
      "application/vnd.bokehjs_exec.v0+json": {
       "id": "1097"
      }
     },
     "output_type": "display_data"
    }
   ],
   "source": [
    "mt = hl.read_matrix_table('resources/1kg.mt')\n",
    "mt = hl.variant_qc(mt)\n",
    "cdf = mt.aggregate_rows(hl.agg.approx_cdf(mt.variant_qc.AF[0]))\n",
    "plot_cdf(cdf, 'Approximate CDF of Reference AF')"
   ]
  },
  {
   "cell_type": "markdown",
   "id": "bc9b7a69",
   "metadata": {},
   "source": [
    "You can also ask directly for the median:"
   ]
  },
  {
   "cell_type": "code",
   "execution_count": 6,
   "id": "393454e6",
   "metadata": {},
   "outputs": [
    {
     "data": {
      "text/plain": [
       "0.7307692307692307"
      ]
     },
     "execution_count": 6,
     "metadata": {},
     "output_type": "execute_result"
    }
   ],
   "source": [
    "mt.aggregate_rows(hl.agg.approx_median(mt.variant_qc.AF[0]))"
   ]
  },
  {
   "cell_type": "markdown",
   "id": "6e6dc304",
   "metadata": {},
   "source": [
    "### PCA on Unusual Values\n",
    "\n",
    "Flexible, general-purpose methods enable analysts to explore data sets with novel statistics."
   ]
  },
  {
   "cell_type": "code",
   "execution_count": 7,
   "id": "a1605a06",
   "metadata": {
    "scrolled": false
   },
   "outputs": [
    {
     "name": "stderr",
     "output_type": "stream",
     "text": [
      "2023-01-11 14:47:26.961 Hail: INFO: pca: running PCA with 2 components...4) / 4]\n",
      "2023-01-11 14:47:32.481 Hail: INFO: wrote table with 0 rows in 0 partitions to /tmp/persist_tablet5ConpVaEV\n",
      "    Total size: 6.26 KiB\n",
      "    * Rows: 0.00 B\n",
      "    * Globals: 6.26 KiB\n",
      "    * Smallest partition: N/A\n",
      "    * Largest partition:  N/A\n"
     ]
    },
    {
     "data": {
      "text/html": [
       "\n",
       "\n",
       "\n",
       "\n",
       "\n",
       "\n",
       "  <div class=\"bk-root\" id=\"019ab5ca-1a5e-416a-8817-cd105ce8351c\" data-root-id=\"1200\"></div>\n"
      ]
     },
     "metadata": {},
     "output_type": "display_data"
    },
    {
     "data": {
      "application/javascript": [
       "(function(root) {\n",
       "  function embed_document(root) {\n",
       "    \n",
       "  var docs_json = {\"693bfefd-7be9-47dc-aa76-8437ac7ec3cd\":{\"roots\":{\"references\":[{\"attributes\":{\"below\":[{\"id\":\"1210\",\"type\":\"LinearAxis\"}],\"center\":[{\"id\":\"1214\",\"type\":\"Grid\"},{\"id\":\"1219\",\"type\":\"Grid\"}],\"left\":[{\"id\":\"1215\",\"type\":\"LinearAxis\"}],\"plot_height\":800,\"plot_width\":800,\"renderers\":[{\"id\":\"1239\",\"type\":\"GlyphRenderer\"}],\"title\":null,\"toolbar\":{\"id\":\"1226\",\"type\":\"Toolbar\"},\"x_range\":{\"id\":\"1202\",\"type\":\"DataRange1d\"},\"x_scale\":{\"id\":\"1206\",\"type\":\"LinearScale\"},\"y_range\":{\"id\":\"1204\",\"type\":\"DataRange1d\"},\"y_scale\":{\"id\":\"1208\",\"type\":\"LinearScale\"}},\"id\":\"1200\",\"subtype\":\"Figure\",\"type\":\"Plot\"},{\"attributes\":{\"active_drag\":\"auto\",\"active_inspect\":\"auto\",\"active_multi\":null,\"active_scroll\":\"auto\",\"active_tap\":\"auto\",\"tools\":[{\"id\":\"1220\",\"type\":\"PanTool\"},{\"id\":\"1221\",\"type\":\"WheelZoomTool\"},{\"id\":\"1222\",\"type\":\"BoxZoomTool\"},{\"id\":\"1223\",\"type\":\"SaveTool\"},{\"id\":\"1224\",\"type\":\"ResetTool\"},{\"id\":\"1225\",\"type\":\"HelpTool\"},{\"id\":\"1234\",\"type\":\"HoverTool\"}]},\"id\":\"1226\",\"type\":\"Toolbar\"},{\"attributes\":{},\"id\":\"1208\",\"type\":\"LinearScale\"},{\"attributes\":{\"ticker\":{\"id\":\"1211\",\"type\":\"BasicTicker\"}},\"id\":\"1214\",\"type\":\"Grid\"},{\"attributes\":{\"bottom_units\":\"screen\",\"fill_alpha\":{\"value\":0.5},\"fill_color\":{\"value\":\"lightgrey\"},\"left_units\":\"screen\",\"level\":\"overlay\",\"line_alpha\":{\"value\":1.0},\"line_color\":{\"value\":\"black\"},\"line_dash\":[4,4],\"line_width\":{\"value\":2},\"render_mode\":\"css\",\"right_units\":\"screen\",\"top_units\":\"screen\"},\"id\":\"1262\",\"type\":\"BoxAnnotation\"},{\"attributes\":{},\"id\":\"1224\",\"type\":\"ResetTool\"},{\"attributes\":{\"callback\":null,\"tooltips\":[[\"x\",\"@x\"],[\"y\",\"@y\"]]},\"id\":\"1234\",\"type\":\"HoverTool\"},{\"attributes\":{\"fill_alpha\":{\"value\":0.1},\"fill_color\":{\"value\":\"#1f77b4\"},\"line_alpha\":{\"value\":0.1},\"line_color\":{\"value\":\"#1f77b4\"},\"x\":{\"field\":\"x\"},\"y\":{\"field\":\"y\"}},\"id\":\"1238\",\"type\":\"Circle\"},{\"attributes\":{\"data_source\":{\"id\":\"1235\",\"type\":\"ColumnDataSource\"},\"glyph\":{\"id\":\"1237\",\"type\":\"Circle\"},\"hover_glyph\":null,\"muted_glyph\":null,\"nonselection_glyph\":{\"id\":\"1238\",\"type\":\"Circle\"},\"selection_glyph\":null,\"view\":{\"id\":\"1240\",\"type\":\"CDSView\"}},\"id\":\"1239\",\"type\":\"GlyphRenderer\"},{\"attributes\":{\"callback\":null},\"id\":\"1202\",\"type\":\"DataRange1d\"},{\"attributes\":{\"callback\":null,\"data\":{\"index\":[0,1,2,3,4,5,6,7,8,9,10,11,12,13,14,15,16,17,18,19,20,21,22,23,24,25,26,27,28,29,30,31,32,33,34,35,36,37,38,39,40,41,42,43,44,45,46,47,48,49,50,51,52,53,54,55,56,57,58,59,60,61,62,63,64,65,66,67,68,69,70,71,72,73,74,75,76,77,78,79,80,81,82,83,84,85,86,87,88,89,90,91,92,93,94,95,96,97,98,99,100,101,102,103,104,105,106,107,108,109,110,111,112,113,114,115,116,117,118,119,120,121,122,123,124,125,126,127,128,129,130,131,132,133,134,135],\"x\":{\"__ndarray__\":\"VBZOAsTxIMDhZy13q40hwHC7Sr80wB/AOIoW4ASCH8DuQYagkAkgwEmm7PeLkiDAsl5iv6d5HsBehuTX9rsewOur1OnIhB7AZPIzFV8tHsCyzK51Em4dwHbPTx1Xax3AOViFrN9ZHMAXmxEwh5EcwK6ZJlv4+BzAsl369sXTGsBHOAnidlUawOUQOyUxRBrAaWhgxzWbGsA/2Hw+zVobwJk/yNeVKBvA+k14RDo1GcDOAIoO0uEYwBXMrGHkExnAuBKyMcR3GcCP6ECc63MXwJmucqUYpRbAlv2cfwRxFsB4gZUacpAXwGhBqYE77hbAapIWDW/TFsCSNEyAJQ0XwMFEXEEuxhXAYOlhD9EXFsCDN4WO3fMUwMgvuT2AwhTAvfSyd35KFMD599iSe+UTwMg+85AszxLAkLKkhgHBE8DZaKilqBQTwPpl4QMsPRTAkQgeXLyiE8CFMjP+4iwSwJY9uNvMEhHASAzU4uPCEcBGlVN03XgRwKCXe2xsNRHA0ERKoR14D8BUEAcF3/EPwNjcKU9gBA3A6ee7OdwOCsBoyCaA7LYMwCGKZtCUdQbA35iHwDjfCMCyfx9Gn+YGwML0mmI5vQPA+DbG0NTCBcAcGDhObK8EwFOZqWzPVgTAP1DUGgPqAcCPNap8i5UBwPeAwGIe7fm/CKSxSQ6A+r/ffjRRMZP4v+mB6IIv7Pa/IN8lIAIo8r8EBKSUbCXsv/YVuorlW/S/36PSdPpZ3L8dB/eD6ubkv681ZpMMH9O/u8r6zh2nlD8TKW634ECxv+QZVNtRocM/8DINrvY25j9eF/cKoXDqP31yIEZGteU/0y6gAX5s9D+o3eDu5EjzP6Cny83WjPk/9sLx/BL7+T8hIXA3eO7+P4faA9mxcwRAMwZR/IZgA0Dsh8FovgoIQIS6FWIK6wxA/L6BIN5tDUBczZlio74KQJ5wuQoeVw1AyPelnA+REEBgQlM3jgYRQHtaj1BkORJAW1GAQXJKE0Dr/XLQ6/sSQHT+vqo5mxNA/va+JrvSFUCPehCwxgQVQLSZalQtIhhALHrYqKALF0DpY90lXzQaQG665lMzQxxAHHnHVGmIHkDlc+dV8IMeQHcmFVPv6B9Adm3Gwp0WIUD+DSkbGughQFodmzb0yiNAY3oT0bwHJkAsrjsuQuYmQECF2PAdLyhAi/7WxK3lJ0CzV3xE2IUpQIWPqnV51StAYIQonLuyLEBGybNHW90uQDHZYeIt5jBA/ku/A6v3M0DuuaNiWiM1QKX5aLt62DVAzycGP0KFNUARikL6pgA2QBeYp/xTWTdAlVxcdrzsO0DDry2Dp7I8QNEFwrFeaUFAMxF4G/aIQUC/J+q5YdlJQMRT9XBJwU1AOnvJbkiFUkCFv4FTujxTQGbjICj801NAhFpcTzGFVUBf54iUT3VaQLEMOlaqYmRA61pDMwkIbEA=\",\"dtype\":\"float64\",\"shape\":[136]},\"y\":{\"__ndarray__\":\"VSIfOqcP+j/xmdgJ4OsBQC9qqu9py8M/RjLY9c6b6T8tiKUGxQPyP4g13t2bFv4/H6VbcEeFuD96yrZC5lzmP0VZlRbTVvM/HMZQ0wbb/j+GZE1nunrmv3rRI67ywdw/lTF2mOyH+j+IhaZY5K0CQG9wNgv8tQZA8ZIkcEes+b+aiZI25e/xv/T6SJaCldQ/3Dz/Sq+I8T+RYfOZvLQCQEzk3eHcwgdAPDGHki7467+8kZVW5+rwP/Fi8aUwnvY/xv7NxBJlBUC0mBGP8e3qv3tvRES3UdK/lmHZf8QR4j8B9OaPxznyP3sNtdXulgJATIOZu/hoCkBExfHbvo8LQET4qs0ZKgPArWitpErQ4j83jO1o1PECQFXTktwCTwhAo5aUAr+nE8DPmH/I1zIOwLL6a+5u7QvAgFNJac6/1b+q5z2aXcfsP7ZMWyXVEv8/wMktwMEoCEBELnWjTf4QwADHdqx72/2/vBQEOAYX9L+ymJCmoAi3v3ogTkw+WfM/3kkxsCwOAEBeZNuNCAQGQKtzjhVd8xDAwIBiu77YC8AoYrzNAiv7P1oHQvRFaxvAxv2F5k7rCcAgMfgx56zqP/cACkfeiiHAIEzx+2h8+78yoavoNTzWv6clPvC8JhBA04zgnA7zE8D65RPxwXQRwPcbNrYLayHAC8bfExfo5b9GHcNmmZYKQOrgWqvAIQ5AW1BlO6zFCsDHJvhl82TYv+bfVQxxdQ5Aw1E98YOCEMCgEF/qEzcOQL/SOfHnmSXAKVsng5kQxT9LU72Y3o4UQMX2L3VfjQ9AWWH++LkuCMC+hbjRaR8BwHQJtcpQBhBA4NWGCftS3D/cqZbydKoUQOMYpzGsHRJAqCsGZ05ZF0D56Re8S0rcv1/2nPVZKijAmUJXnWSi/j/vai5lfD8FQHEQAi6NyDDAv2rHjF98GcB60K4RMikCwKmpySAZaRJAuMEFzkQQ8j9eBgWaNEHvv01Mg97M+xVANEp/3TDUK8AE21ASq2MTQHHRt57kvRxAAlg32t/mD0CZAbmg6zwbQPn4/abhrDbAIMVQtbmoEEDkiNmLibwFwN0uncV6NBlABPxqzwsHMsDGcCYW6JIXQFNbcP016QvAVGXCs2IBHED0KJDLUya8Pzi2cw1eWgtAIEhAa4mcHkCNX+32rvciQFSGuON6QyzAgXiM/eR/EsAoiiu7aakwwIetYRhDSCJAGX1xTOlYGEDOdK2lRO1CwAnLGEDTEkTA+WTEXHZjIcCp1z/dQhUdwMomRsG8nEfA+BIJkBQwEsD7UI+K+TdOwOcMOX0+litAs26HNoiNKUBFSekKrXkhwEl3HuNeWiVAs/zBAU49I0DZglACiXExQFIRU4ENrDxAjfi6XxOUMUDY9KgovigxwO88oknm/THAm99+MMM8IECTRCPZx/pxwL1I+6lZME9AcOpfN7ZtWkA=\",\"dtype\":\"float64\",\"shape\":[136]}},\"selected\":{\"id\":\"1264\",\"type\":\"Selection\"},\"selection_policy\":{\"id\":\"1263\",\"type\":\"UnionRenderers\"}},\"id\":\"1235\",\"type\":\"ColumnDataSource\"},{\"attributes\":{\"dimension\":1,\"ticker\":{\"id\":\"1216\",\"type\":\"BasicTicker\"}},\"id\":\"1219\",\"type\":\"Grid\"},{\"attributes\":{},\"id\":\"1216\",\"type\":\"BasicTicker\"},{\"attributes\":{},\"id\":\"1211\",\"type\":\"BasicTicker\"},{\"attributes\":{},\"id\":\"1221\",\"type\":\"WheelZoomTool\"},{\"attributes\":{},\"id\":\"1261\",\"type\":\"BasicTickFormatter\"},{\"attributes\":{},\"id\":\"1263\",\"type\":\"UnionRenderers\"},{\"attributes\":{\"overlay\":{\"id\":\"1262\",\"type\":\"BoxAnnotation\"}},\"id\":\"1222\",\"type\":\"BoxZoomTool\"},{\"attributes\":{},\"id\":\"1264\",\"type\":\"Selection\"},{\"attributes\":{\"formatter\":{\"id\":\"1259\",\"type\":\"BasicTickFormatter\"},\"ticker\":{\"id\":\"1216\",\"type\":\"BasicTicker\"}},\"id\":\"1215\",\"type\":\"LinearAxis\"},{\"attributes\":{\"source\":{\"id\":\"1235\",\"type\":\"ColumnDataSource\"}},\"id\":\"1240\",\"type\":\"CDSView\"},{\"attributes\":{},\"id\":\"1223\",\"type\":\"SaveTool\"},{\"attributes\":{},\"id\":\"1259\",\"type\":\"BasicTickFormatter\"},{\"attributes\":{},\"id\":\"1225\",\"type\":\"HelpTool\"},{\"attributes\":{},\"id\":\"1220\",\"type\":\"PanTool\"},{\"attributes\":{},\"id\":\"1206\",\"type\":\"LinearScale\"},{\"attributes\":{\"fill_color\":{\"value\":\"#1f77b4\"},\"line_color\":{\"value\":\"#1f77b4\"},\"x\":{\"field\":\"x\"},\"y\":{\"field\":\"y\"}},\"id\":\"1237\",\"type\":\"Circle\"},{\"attributes\":{\"formatter\":{\"id\":\"1261\",\"type\":\"BasicTickFormatter\"},\"ticker\":{\"id\":\"1211\",\"type\":\"BasicTicker\"}},\"id\":\"1210\",\"type\":\"LinearAxis\"},{\"attributes\":{\"callback\":null},\"id\":\"1204\",\"type\":\"DataRange1d\"}],\"root_ids\":[\"1200\"]},\"title\":\"Bokeh Application\",\"version\":\"1.4.0\"}};\n",
       "  var render_items = [{\"docid\":\"693bfefd-7be9-47dc-aa76-8437ac7ec3cd\",\"roots\":{\"1200\":\"019ab5ca-1a5e-416a-8817-cd105ce8351c\"}}];\n",
       "  root.Bokeh.embed.embed_items_notebook(docs_json, render_items);\n",
       "\n",
       "  }\n",
       "  if (root.Bokeh !== undefined) {\n",
       "    embed_document(root);\n",
       "  } else {\n",
       "    var attempts = 0;\n",
       "    var timer = setInterval(function(root) {\n",
       "      if (root.Bokeh !== undefined) {\n",
       "        clearInterval(timer);\n",
       "        embed_document(root);\n",
       "      } else {\n",
       "        attempts++;\n",
       "        if (attempts > 100) {\n",
       "          clearInterval(timer);\n",
       "          console.log(\"Bokeh: ERROR: Unable to run BokehJS code because BokehJS library is missing\");\n",
       "        }\n",
       "      }\n",
       "    }, 10, root)\n",
       "  }\n",
       "})(window);"
      ],
      "application/vnd.bokehjs_exec.v0+json": ""
     },
     "metadata": {
      "application/vnd.bokehjs_exec.v0+json": {
       "id": "1200"
      }
     },
     "output_type": "display_data"
    }
   ],
   "source": [
    "mt = hl.read_matrix_table('resources/1kg.mt')\n",
    "mt = mt.filter_rows(hl.agg.any(hl.is_missing(mt.GT)))\n",
    "mt = mt.annotate_entries(\n",
    "    is_missing = hl.is_missing(mt.GT)\n",
    ")\n",
    "mt = mt.annotate_rows(\n",
    "    is_missing_stats = hl.agg.stats(mt.is_missing)\n",
    ")\n",
    "mt = mt.annotate_entries(\n",
    "    normed_is_missing = (mt.is_missing - mt.is_missing_stats.mean) / mt.is_missing_stats.stdev\n",
    ")\n",
    "_, scores, _ = hl.pca(mt.normed_is_missing, k=2)\n",
    "hl.plot.show(hl.plot.scatter(scores.scores[0], scores.scores[1]))"
   ]
  },
  {
   "cell_type": "markdown",
   "id": "6b24ffab",
   "metadata": {},
   "source": [
    "### LD Prune"
   ]
  },
  {
   "cell_type": "code",
   "execution_count": 9,
   "id": "c9529fcb",
   "metadata": {},
   "outputs": [],
   "source": [
    "?hl.ld_prune"
   ]
  },
  {
   "cell_type": "code",
   "execution_count": 8,
   "id": "ad940602",
   "metadata": {},
   "outputs": [
    {
     "name": "stdout",
     "output_type": "stream",
     "text": [
      "Before pruning we have: 19151\n"
     ]
    },
    {
     "name": "stderr",
     "output_type": "stream",
     "text": [
      "2023-01-11 14:48:09.127 Hail: INFO: ld_prune: running local pruning stage with max queue size of 61681 variants\n",
      "2023-01-11 14:48:19.298 Hail: INFO: wrote table with 2389 rows in 100 partitions to /tmp/persist_tabletUZWOBnbAf\n",
      "    Total size: 95.93 KiB\n",
      "    * Rows: 95.92 KiB\n",
      "    * Globals: 11.00 B\n",
      "    * Smallest partition: 0 rows (21.00 B)\n",
      "    * Largest partition:  126 rows (4.49 KiB)\n",
      "2023-01-11 14:48:24.414 Hail: INFO: wrote table with 2389 rows in 100 partitions to /tmp/1GbEd3sczwrKGSu4mV68JG\n",
      "2023-01-11 14:48:38.503 Hail: INFO: Wrote all 2 blocks of 2389 x 4151 matrix with block size 4096.\n",
      "2023-01-11 14:48:48.126 Hail: INFO: wrote table with 1027 rows in 1 partition to /tmp/ipcajvgdPpB5J74dF3IrLO\n",
      "    Total size: 49.82 KiB\n",
      "    * Rows: 15.05 KiB\n",
      "    * Globals: 34.77 KiB\n",
      "    * Smallest partition: 1027 rows (15.05 KiB)\n",
      "    * Largest partition:  1027 rows (15.05 KiB)\n",
      "2023-01-11 14:48:54.138 Hail: INFO: wrote table with 1920 rows in 100 partitions to /tmp/persist_tablehddJ5XwGbw\n",
      "2023-01-11 14:48:57.543 Hail: INFO: wrote table with 1920 rows in 100 partitions to output/pruned_variants.ht\n",
      "[Stage 48:=====================================================> (97 + 3) / 100]\r"
     ]
    },
    {
     "name": "stdout",
     "output_type": "stream",
     "text": [
      "After pruning we have: 1920\n"
     ]
    }
   ],
   "source": [
    "mt = hl.read_matrix_table('resources/qced-hgdp-1kg.mt')\n",
    "print(f'Before pruning we have: {mt.count_rows()}')\n",
    "pruned_variants = hl.ld_prune(mt.GT)\n",
    "pruned_variants.write('output/pruned_variants.ht', overwrite=True)\n",
    "pruned_variants = hl.read_table('output/pruned_variants.ht')\n",
    "\n",
    "mt = mt.filter_rows(hl.is_defined(pruned_variants[mt.row_key]))\n",
    "print(f'After pruning we have: {mt.count_rows()}')"
   ]
  },
  {
   "cell_type": "markdown",
   "id": "d088dfca",
   "metadata": {},
   "source": [
    "### Kinship Estimators\n",
    "\n",
    "Hail supports a number of different kinship estimators."
   ]
  },
  {
   "cell_type": "markdown",
   "id": "fc66bfa8",
   "metadata": {},
   "source": [
    "Getting PC Relate to produce good-looking results is tricky! Here we see what happens when you don't quality control the variants well enough."
   ]
  },
  {
   "cell_type": "code",
   "execution_count": 10,
   "id": "3e277370",
   "metadata": {
    "scrolled": false
   },
   "outputs": [
    {
     "name": "stderr",
     "output_type": "stream",
     "text": [
      "2023-01-11 14:49:56.437 Hail: INFO: hwe_normalize: found 19151 variants after filtering out monomorphic sites.\n",
      "2023-01-11 14:50:00.494 Hail: INFO: pca: running PCA with 4 components... / 100]\n",
      "2023-01-11 14:50:14.420 Hail: INFO: wrote table with 0 rows in 0 partitions to /tmp/persist_tablerWSLMmzZmL\n",
      "    Total size: 155.63 KiB\n",
      "    * Rows: 0.00 B\n",
      "    * Globals: 155.63 KiB\n",
      "    * Smallest partition: N/A\n",
      "    * Largest partition:  N/A\n",
      "2023-01-11 14:50:23.619 Hail: INFO: Wrote all 10 blocks of 19151 x 4151 matrix with block size 4096.\n",
      "2023-01-11 14:50:24.968 Hail: INFO: wrote matrix with 5 rows and 19151 columns as 5 blocks of size 4096 to /tmp/pcrelate-write-read-7w2g7F0nv3EpAzKdGPmnfo.bm\n",
      "2023-01-11 14:50:25.467 Hail: INFO: wrote matrix with 19151 rows and 4151 columns as 10 blocks of size 4096 to /tmp/pcrelate-write-read-6ojsB8LWNAOEUtbs29nrcK.bm\n",
      "2023-01-11 14:50:27.113 Hail: INFO: wrote matrix with 19151 rows and 4151 columns as 10 blocks of size 4096 to /tmp/pcrelate-write-read-su6UN1FqnMYFTHTUe6Z6iD.bm\n",
      "2023-01-11 14:50:34.727 Hail: INFO: wrote matrix with 4151 rows and 4151 columns as 4 blocks of size 4096 to /tmp/pcrelate-write-read-JV7FetGcJHV9cjyONsMsMh.bm\n",
      "2023-01-11 14:50:40.713 Hail: INFO: wrote matrix with 4151 rows and 4151 columns as 4 blocks of size 4096 to /tmp/pcrelate-write-read-1MUcRsZ9Jv4MTCqUmhs3AS.bm\n",
      "2023-01-11 14:50:41.337 Hail: INFO: wrote matrix with 4151 rows and 4151 columns as 4 blocks of size 4096 to /tmp/pcrelate-write-read-ywFzoIy3JDgSZKm6jWI9Z9.bm\n",
      "2023-01-11 14:50:51.903 Hail: INFO: wrote matrix with 4151 rows and 4151 columns as 4 blocks of size 4096 to /tmp/pcrelate-write-read-6p5GHymGONKwvhlog7LpLs.bm\n",
      "2023-01-11 14:50:58.945 Hail: INFO: wrote matrix with 4151 rows and 4151 columns as 4 blocks of size 4096 to /tmp/pcrelate-write-read-V8ZxrkljkObs2KW5XgEO17.bm\n",
      "2023-01-11 14:51:00.158 Hail: INFO: wrote matrix with 4151 rows and 4151 columns as 4 blocks of size 4096 to /tmp/pcrelate-write-read-tKJDupFdSS3JbknVAMpsTc.bm\n",
      "2023-01-11 14:51:11.512 Hail: INFO: wrote matrix with 4151 rows and 4151 columns as 4 blocks of size 4096 to /tmp/pcrelate-write-read-dxbKnnF9KTi2DoN1psee93.bm\n",
      "2023-01-11 14:51:21.866 Hail: INFO: wrote matrix with 4151 rows and 4151 columns as 4 blocks of size 4096 to /tmp/pcrelate-write-read-jQXWnZpuSesHosSKiG6fZb.bm\n",
      "2023-01-11 14:51:23.303 Hail: INFO: Ordering unsorted dataset with network shuffle\n",
      "2023-01-11 14:51:26.054 Hail: INFO: wrote table with 24254 rows in 4 partitions to /tmp/persist_tableXrCb1v5YJn\n",
      "    Total size: 824.73 KiB\n",
      "    * Rows: 824.72 KiB\n",
      "    * Globals: 11.00 B\n",
      "    * Smallest partition: 42 rows (1.29 KiB)\n",
      "    * Largest partition:  10810 rows (370.37 KiB)\n",
      "2023-01-11 14:51:27.635 Hail: INFO: Ordering unsorted dataset with network shuffle\n",
      "2023-01-11 14:51:28.566 Hail: INFO: wrote table with 20103 rows in 4 partitions to /tmp/persist_tablehwlynscC6T\n",
      "2023-01-11 14:51:29.375 Hail: INFO: wrote table with 20103 rows in 4 partitions to output/pc_kin.ht\n"
     ]
    },
    {
     "data": {
      "text/html": [
       "\n",
       "\n",
       "\n",
       "\n",
       "\n",
       "\n",
       "  <div class=\"bk-root\" id=\"a5190330-c091-404a-9c58-93f3d1321faa\" data-root-id=\"1313\"></div>\n"
      ]
     },
     "metadata": {},
     "output_type": "display_data"
    },
    {
     "data": {
      "application/javascript": [
       "(function(root) {\n",
       "  function embed_document(root) {\n",
       "    \n",
       "  var docs_json = {\"514b2b1b-f84e-41bd-a38f-97c3bc01e4cb\":{\"roots\":{\"references\":[{\"attributes\":{\"below\":[{\"id\":\"1323\",\"type\":\"LinearAxis\"}],\"center\":[{\"id\":\"1327\",\"type\":\"Grid\"},{\"id\":\"1332\",\"type\":\"Grid\"}],\"left\":[{\"id\":\"1328\",\"type\":\"LinearAxis\"}],\"plot_height\":400,\"plot_width\":400,\"renderers\":[{\"id\":\"1352\",\"type\":\"GlyphRenderer\"}],\"title\":null,\"toolbar\":{\"id\":\"1339\",\"type\":\"Toolbar\"},\"x_range\":{\"id\":\"1315\",\"type\":\"DataRange1d\"},\"x_scale\":{\"id\":\"1319\",\"type\":\"LinearScale\"},\"y_range\":{\"id\":\"1317\",\"type\":\"DataRange1d\"},\"y_scale\":{\"id\":\"1321\",\"type\":\"LinearScale\"}},\"id\":\"1313\",\"subtype\":\"Figure\",\"type\":\"Plot\"},{\"attributes\":{},\"id\":\"1319\",\"type\":\"LinearScale\"},{\"attributes\":{\"callback\":null,\"data\":{\"index\":[0,1,2,3,4,5,6,7,8,9,10,11,12,13,14,15,16,17,18,19,20,21,22,23,24,25,26,27,28,29,30,31,32,33,34,35,36,37,38,39,40,41,42,43,44,45,46,47,48,49,50,51,52,53,54,55,56,57,58,59,60,61,62,63,64,65,66,67,68,69,70,71,72,73,74,75,76,77,78,79,80,81,82,83,84,85,86,87,88,89,90,91,92,93,94,95,96,97,98,99,100,101,102,103,104,105,106,107,108,109,110,111,112,113,114,115,116,117,118,119,120,121,122,123,124,125,126,127,128,129,130,131,132,133,134,135,136,137,138,139,140,141,142,143,144,145,146,147,148,149,150,151,152,153,154,155,156,157,158,159,160,161,162,163,164,165,166,167,168,169,170,171,172,173,174,175,176,177,178,179,180,181,182,183,184,185,186,187,188,189,190,191,192,193,194,195,196,197,198,199,200,201,202,203,204,205,206,207,208,209,210,211,212,213,214,215,216,217,218,219,220,221,222,223,224,225,226,227,228,229,230,231,232,233,234,235,236,237,238,239,240,241,242,243,244,245,246,247,248,249,250,251,252,253,254,255,256,257,258,259,260,261,262,263,264,265,266,267,268,269,270,271,272,273,274,275,276,277,278,279,280,281,282,283,284,285,286,287,288,289,290,291,292,293,294,295,296,297,298,299,300,301,302,303,304,305,306,307,308,309,310,311,312,313,314,315,316,317,318,319,320,321,322,323,324,325,326,327,328,329,330,331,332,333,334,335,336,337,338,339,340,341,342,343,344,345,346,347,348,349,350,351,352,353,354,355,356,357,358,359,360,361,362,363,364,365,366,367,368,369,370,371,372,373,374,375,376,377,378,379,380,381,382,383,384,385,386,387,388,389,390,391,392,393,394,395,396,397,398,399,400,401,402,403,404,405,406,407,408,409,410,411,412,413,414,415,416,417,418,419,420,421,422,423,424,425,426,427,428,429,430,431,432,433,434,435,436,437,438,439,440,441,442,443,444,445,446,447,448,449,450,451,452,453,454,455,456,457,458,459,460,461,462,463,464,465,466,467,468,469,470,471,472,473,474,475,476,477,478,479,480,481,482,483,484,485,486,487,488,489,490,491,492,493,494,495,496,497,498,499,500,501,502,503,504,505,506,507,508,509,510,511,512,513,514,515,516,517,518,519,520,521,522,523,524,525,526,527,528,529,530,531,532,533,534,535,536,537,538,539,540,541,542,543,544,545,546,547,548,549,550,551,552,553,554,555,556,557,558,559,560,561,562,563,564,565,566,567,568,569,570,571,572,573,574,575,576,577,578,579,580,581,582,583,584,585,586,587,588,589,590,591,592,593,594,595,596,597,598,599,600,601,602,603,604,605,606,607,608,609,610,611,612,613,614,615,616,617,618,619,620,621,622,623,624,625,626,627,628,629,630,631,632,633,634,635,636,637,638,639,640,641,642,643,644,645,646,647,648,649,650,651,652,653,654,655,656,657,658,659,660,661,662,663,664,665,666,667,668,669,670,671,672,673,674,675,676,677,678,679,680,681,682,683,684,685,686,687,688,689,690,691,692,693,694,695,696,697,698,699,700,701,702,703,704,705,706,707,708,709,710,711,712,713,714,715,716,717,718,719,720,721,722,723,724,725,726,727,728,729,730,731,732,733,734,735,736,737,738,739,740,741,742,743,744,745,746,747,748,749,750,751,752,753,754,755,756,757,758,759,760,761,762,763,764,765,766,767,768,769,770,771,772,773,774,775,776,777,778,779,780,781,782,783,784,785,786,787,788,789,790,791,792,793,794,795,796,797,798,799,800,801,802,803,804,805,806,807,808,809,810,811,812,813,814,815,816,817,818,819,820,821,822,823,824,825,826,827,828,829,830,831,832,833,834,835,836,837,838,839,840,841,842,843,844,845,846,847,848,849,850,851,852,853,854,855,856,857,858,859,860,861,862,863,864,865,866,867,868,869,870,871,872,873,874,875,876,877,878,879,880,881,882,883,884,885,886,887,888,889,890,891,892,893,894,895,896,897,898,899,900,901,902,903,904,905,906,907,908,909,910,911,912,913,914,915,916,917,918,919,920,921,922,923,924,925,926,927,928,929,930,931,932,933,934,935,936,937,938,939,940,941,942,943,944,945,946,947,948,949,950,951,952,953,954,955,956,957,958,959,960,961,962,963,964,965,966,967,968,969,970,971,972,973,974,975,976,977,978,979,980,981,982,983,984,985,986,987,988,989,990,991,992,993,994,995,996,997,998,999,1000,1001,1002,1003,1004,1005,1006,1007,1008,1009,1010,1011,1012,1013,1014,1015,1016,1017,1018,1019,1020,1021,1022,1023,1024,1025,1026,1027,1028,1029,1030,1031,1032,1033,1034,1035,1036,1037,1038,1039,1040,1041,1042,1043,1044,1045,1046,1047,1048,1049,1050,1051,1052,1053,1054,1055,1056,1057,1058,1059,1060,1061,1062,1063,1064,1065,1066,1067,1068,1069,1070,1071,1072,1073,1074,1075,1076,1077,1078,1079,1080,1081,1082,1083,1084,1085,1086,1087,1088,1089,1090,1091,1092,1093,1094,1095,1096,1097,1098,1099,1100,1101,1102,1103,1104,1105,1106,1107,1108,1109,1110,1111,1112,1113,1114,1115,1116,1117,1118,1119,1120,1121,1122,1123,1124,1125,1126,1127,1128,1129,1130,1131,1132,1133,1134,1135,1136,1137,1138,1139,1140,1141,1142,1143,1144,1145,1146,1147,1148,1149,1150,1151,1152,1153,1154,1155,1156,1157,1158,1159,1160,1161,1162,1163,1164,1165,1166,1167,1168,1169,1170,1171,1172,1173,1174,1175,1176,1177,1178,1179,1180,1181,1182,1183,1184,1185,1186,1187,1188,1189,1190,1191,1192,1193,1194,1195,1196,1197,1198,1199,1200,1201,1202,1203,1204,1205,1206,1207,1208,1209,1210,1211,1212,1213,1214,1215,1216,1217,1218,1219,1220,1221,1222,1223,1224,1225,1226,1227,1228,1229,1230,1231,1232,1233,1234,1235,1236,1237,1238,1239,1240,1241,1242,1243,1244,1245,1246,1247,1248,1249,1250,1251,1252,1253,1254,1255,1256,1257,1258,1259,1260,1261,1262,1263,1264,1265,1266,1267,1268,1269,1270,1271,1272,1273,1274,1275,1276,1277,1278,1279,1280,1281,1282,1283,1284,1285,1286,1287,1288,1289,1290,1291,1292,1293,1294,1295,1296,1297,1298,1299,1300,1301,1302,1303,1304,1305,1306,1307,1308,1309,1310,1311,1312,1313,1314,1315,1316,1317,1318,1319,1320,1321,1322,1323,1324,1325,1326,1327,1328,1329,1330,1331,1332,1333,1334,1335,1336,1337,1338,1339,1340,1341,1342,1343,1344,1345,1346,1347,1348,1349,1350,1351,1352,1353,1354,1355,1356,1357,1358,1359,1360,1361,1362,1363,1364,1365,1366,1367,1368,1369,1370,1371,1372,1373,1374,1375,1376,1377,1378,1379,1380,1381,1382,1383,1384,1385,1386,1387,1388,1389,1390,1391,1392,1393,1394,1395,1396,1397,1398,1399,1400,1401,1402,1403,1404,1405,1406,1407,1408,1409,1410,1411,1412,1413,1414,1415,1416,1417,1418,1419,1420,1421,1422,1423,1424,1425,1426,1427,1428,1429,1430,1431,1432,1433,1434,1435,1436,1437,1438,1439,1440,1441,1442,1443,1444,1445,1446,1447,1448,1449,1450,1451,1452,1453,1454,1455,1456,1457,1458,1459,1460,1461,1462,1463,1464,1465,1466,1467,1468,1469,1470,1471,1472,1473,1474,1475,1476,1477,1478,1479,1480,1481,1482,1483,1484,1485,1486,1487,1488,1489,1490,1491,1492,1493,1494,1495,1496,1497,1498,1499,1500,1501,1502,1503,1504,1505,1506,1507,1508,1509,1510,1511,1512,1513,1514,1515,1516,1517,1518,1519,1520,1521,1522,1523,1524,1525,1526,1527,1528,1529,1530,1531,1532,1533,1534,1535,1536,1537,1538,1539,1540,1541,1542,1543,1544,1545,1546,1547,1548,1549,1550,1551,1552,1553,1554,1555,1556,1557,1558,1559,1560,1561,1562,1563,1564,1565,1566,1567,1568,1569,1570,1571,1572,1573,1574,1575,1576,1577,1578,1579,1580,1581,1582,1583,1584,1585,1586,1587,1588,1589,1590,1591,1592,1593,1594,1595,1596,1597,1598,1599,1600,1601,1602,1603,1604,1605,1606,1607,1608,1609,1610,1611,1612,1613,1614,1615,1616,1617,1618,1619,1620,1621,1622,1623,1624,1625,1626,1627,1628,1629,1630,1631,1632,1633,1634,1635,1636,1637,1638,1639,1640,1641,1642,1643,1644,1645,1646,1647,1648,1649,1650,1651,1652,1653,1654,1655,1656,1657,1658,1659,1660,1661,1662,1663,1664,1665,1666,1667,1668,1669,1670,1671,1672,1673,1674,1675,1676,1677,1678,1679,1680,1681,1682,1683,1684,1685,1686,1687,1688,1689,1690,1691,1692,1693,1694,1695,1696,1697,1698,1699,1700,1701,1702,1703,1704,1705,1706,1707,1708,1709,1710,1711,1712,1713,1714,1715,1716,1717,1718,1719,1720,1721,1722,1723,1724,1725,1726,1727,1728,1729,1730,1731,1732,1733,1734,1735,1736,1737,1738,1739,1740,1741,1742,1743,1744,1745,1746,1747,1748,1749,1750,1751,1752,1753,1754,1755,1756,1757,1758,1759,1760,1761,1762,1763,1764,1765,1766,1767,1768,1769,1770,1771,1772,1773,1774,1775,1776,1777,1778,1779,1780,1781,1782,1783,1784,1785,1786,1787,1788,1789,1790,1791,1792,1793,1794,1795,1796,1797,1798,1799,1800,1801,1802,1803,1804,1805,1806,1807,1808,1809,1810,1811,1812,1813,1814,1815,1816,1817,1818,1819,1820,1821,1822,1823,1824,1825,1826,1827,1828,1829,1830,1831,1832,1833,1834,1835,1836,1837,1838,1839,1840,1841,1842,1843,1844,1845,1846,1847,1848,1849,1850,1851,1852,1853,1854,1855,1856,1857,1858,1859,1860,1861,1862,1863,1864,1865,1866,1867,1868,1869,1870,1871,1872,1873,1874,1875,1876,1877,1878,1879,1880,1881,1882,1883,1884,1885,1886,1887,1888,1889,1890,1891,1892,1893,1894,1895,1896,1897,1898,1899,1900,1901,1902,1903,1904,1905,1906,1907,1908,1909,1910,1911,1912,1913,1914,1915,1916,1917,1918,1919,1920,1921,1922,1923,1924,1925,1926,1927,1928,1929,1930,1931,1932,1933,1934,1935,1936,1937,1938,1939,1940,1941,1942,1943,1944,1945,1946,1947,1948,1949,1950,1951,1952,1953,1954,1955,1956,1957,1958,1959,1960,1961,1962,1963,1964,1965,1966,1967,1968,1969,1970,1971,1972,1973,1974,1975,1976,1977,1978,1979,1980,1981,1982,1983,1984,1985,1986,1987,1988,1989,1990,1991,1992,1993,1994,1995,1996,1997,1998,1999,2000,2001,2002,2003,2004,2005,2006,2007,2008,2009,2010,2011,2012,2013,2014,2015,2016,2017,2018,2019,2020,2021,2022,2023,2024,2025,2026,2027,2028,2029,2030,2031,2032,2033,2034,2035,2036,2037,2038,2039,2040,2041,2042,2043,2044,2045,2046,2047,2048,2049,2050,2051,2052,2053,2054,2055,2056,2057,2058,2059,2060,2061,2062,2063,2064,2065,2066,2067,2068,2069,2070,2071,2072,2073,2074,2075,2076,2077,2078,2079,2080,2081,2082,2083,2084,2085,2086,2087,2088,2089,2090,2091,2092,2093,2094,2095,2096,2097,2098,2099,2100,2101,2102,2103,2104,2105,2106,2107,2108,2109,2110,2111,2112,2113,2114,2115,2116,2117,2118,2119,2120,2121,2122,2123,2124,2125,2126,2127,2128,2129,2130,2131,2132,2133,2134,2135,2136,2137,2138,2139,2140,2141,2142,2143,2144,2145,2146,2147,2148,2149,2150,2151,2152,2153,2154,2155,2156,2157,2158,2159,2160,2161,2162,2163,2164,2165,2166,2167,2168,2169,2170,2171,2172,2173,2174,2175,2176,2177,2178,2179,2180,2181,2182,2183,2184,2185,2186,2187,2188,2189,2190,2191,2192,2193,2194,2195,2196,2197,2198,2199,2200,2201,2202,2203,2204,2205,2206,2207,2208,2209,2210,2211,2212,2213,2214,2215,2216,2217,2218,2219,2220,2221,2222,2223,2224,2225,2226,2227,2228,2229,2230,2231,2232,2233,2234,2235,2236,2237,2238,2239,2240,2241,2242,2243,2244,2245,2246,2247,2248,2249,2250,2251,2252,2253,2254,2255,2256,2257,2258,2259,2260,2261,2262,2263,2264,2265,2266,2267,2268,2269,2270,2271,2272,2273,2274,2275,2276,2277,2278,2279,2280,2281,2282,2283,2284,2285,2286,2287,2288,2289,2290,2291,2292,2293,2294,2295,2296,2297,2298,2299,2300,2301,2302,2303,2304,2305,2306,2307,2308,2309,2310,2311,2312,2313,2314,2315,2316,2317,2318,2319,2320,2321,2322,2323,2324,2325,2326,2327,2328,2329,2330,2331,2332,2333,2334,2335,2336,2337,2338,2339,2340,2341,2342,2343,2344,2345,2346,2347,2348,2349,2350,2351,2352,2353,2354,2355,2356,2357,2358,2359,2360,2361,2362,2363,2364,2365,2366,2367,2368,2369,2370,2371,2372,2373,2374,2375,2376,2377,2378,2379,2380,2381,2382,2383,2384,2385,2386,2387,2388,2389,2390,2391,2392,2393,2394,2395,2396,2397,2398,2399,2400,2401,2402,2403,2404,2405,2406,2407,2408,2409,2410,2411,2412,2413,2414,2415,2416,2417,2418,2419,2420,2421,2422,2423,2424,2425,2426,2427,2428,2429,2430,2431,2432,2433,2434,2435,2436,2437,2438,2439,2440,2441,2442,2443,2444,2445,2446,2447,2448,2449,2450,2451,2452,2453,2454,2455,2456,2457,2458,2459,2460,2461,2462,2463,2464,2465,2466,2467,2468,2469,2470,2471,2472,2473,2474,2475,2476,2477,2478,2479,2480,2481,2482,2483,2484,2485,2486,2487,2488,2489,2490,2491,2492,2493,2494,2495,2496,2497,2498,2499,2500,2501,2502,2503,2504,2505,2506,2507,2508,2509,2510,2511,2512,2513,2514,2515,2516,2517,2518,2519,2520,2521,2522,2523,2524,2525,2526,2527,2528,2529,2530,2531,2532,2533,2534,2535,2536,2537,2538,2539,2540,2541,2542,2543,2544,2545,2546,2547,2548,2549,2550,2551,2552,2553,2554,2555,2556,2557,2558,2559,2560,2561,2562,2563,2564,2565,2566,2567,2568,2569,2570,2571,2572,2573,2574,2575,2576,2577,2578,2579,2580,2581,2582,2583,2584,2585,2586,2587,2588,2589,2590,2591,2592,2593,2594,2595,2596,2597,2598,2599,2600,2601,2602,2603,2604,2605,2606,2607,2608,2609,2610,2611,2612,2613,2614,2615,2616,2617,2618,2619,2620,2621,2622,2623,2624,2625,2626,2627,2628,2629,2630,2631,2632,2633,2634,2635,2636,2637,2638,2639,2640,2641,2642,2643,2644,2645,2646,2647,2648,2649,2650,2651,2652,2653,2654,2655,2656,2657,2658,2659,2660,2661,2662,2663,2664,2665,2666,2667,2668,2669,2670,2671,2672,2673,2674,2675,2676,2677,2678,2679,2680,2681,2682,2683,2684,2685,2686,2687,2688,2689,2690,2691,2692,2693,2694,2695,2696,2697,2698,2699,2700,2701,2702,2703,2704,2705,2706,2707,2708,2709,2710,2711,2712,2713,2714,2715,2716,2717,2718,2719,2720,2721,2722,2723,2724,2725,2726,2727,2728,2729,2730,2731,2732,2733,2734,2735,2736,2737,2738,2739,2740,2741,2742,2743,2744,2745,2746,2747,2748,2749,2750,2751,2752,2753,2754,2755,2756,2757,2758,2759,2760,2761,2762,2763,2764,2765,2766,2767,2768,2769,2770,2771,2772,2773,2774,2775,2776,2777,2778,2779,2780,2781,2782,2783,2784,2785,2786,2787,2788,2789,2790,2791,2792,2793,2794,2795,2796,2797,2798,2799,2800,2801,2802,2803,2804,2805,2806,2807,2808,2809,2810,2811,2812,2813,2814,2815,2816,2817,2818,2819,2820,2821,2822,2823,2824,2825,2826,2827,2828,2829,2830,2831,2832,2833,2834,2835,2836,2837,2838,2839,2840,2841,2842,2843,2844,2845,2846,2847,2848,2849,2850,2851,2852,2853,2854,2855,2856,2857,2858,2859,2860,2861,2862,2863,2864,2865,2866,2867,2868,2869,2870,2871,2872,2873,2874,2875,2876,2877,2878,2879,2880,2881,2882,2883,2884,2885,2886,2887,2888,2889,2890,2891,2892,2893,2894,2895,2896,2897,2898,2899,2900,2901,2902,2903,2904,2905,2906,2907,2908,2909,2910,2911,2912,2913,2914,2915,2916,2917,2918,2919,2920,2921,2922,2923,2924,2925,2926,2927,2928,2929,2930,2931,2932,2933,2934,2935,2936,2937,2938,2939,2940,2941,2942,2943,2944,2945,2946,2947,2948,2949,2950,2951,2952,2953,2954,2955,2956,2957,2958,2959,2960,2961,2962,2963,2964,2965,2966,2967,2968,2969,2970,2971,2972,2973,2974,2975,2976,2977,2978,2979,2980,2981,2982,2983,2984,2985,2986,2987,2988,2989,2990,2991,2992,2993,2994,2995,2996,2997,2998,2999,3000,3001,3002,3003,3004,3005,3006,3007,3008,3009,3010,3011,3012,3013,3014,3015,3016,3017,3018,3019,3020,3021,3022,3023,3024,3025,3026,3027,3028,3029,3030,3031,3032,3033,3034,3035,3036,3037,3038,3039,3040,3041,3042,3043,3044,3045,3046,3047,3048,3049,3050,3051,3052,3053,3054,3055,3056,3057,3058,3059,3060,3061,3062,3063,3064,3065,3066,3067,3068,3069,3070,3071,3072,3073,3074,3075,3076,3077,3078,3079,3080,3081,3082,3083,3084,3085,3086,3087,3088,3089,3090,3091,3092,3093,3094,3095,3096,3097,3098,3099,3100,3101,3102,3103,3104,3105,3106,3107,3108,3109,3110,3111,3112,3113,3114,3115,3116,3117,3118,3119,3120,3121,3122,3123,3124,3125,3126,3127,3128,3129,3130,3131,3132,3133,3134,3135,3136,3137,3138,3139,3140,3141,3142,3143,3144,3145,3146,3147,3148,3149,3150,3151,3152,3153,3154,3155,3156,3157,3158,3159,3160,3161,3162,3163,3164,3165,3166,3167,3168,3169,3170,3171,3172,3173,3174,3175,3176,3177,3178,3179,3180,3181,3182,3183,3184,3185,3186,3187,3188,3189,3190,3191,3192,3193,3194,3195,3196,3197,3198,3199,3200,3201,3202,3203,3204,3205,3206,3207,3208,3209,3210,3211,3212,3213,3214,3215,3216,3217,3218,3219,3220,3221,3222,3223,3224,3225,3226,3227,3228,3229,3230,3231,3232,3233,3234,3235,3236,3237,3238,3239,3240,3241,3242,3243,3244,3245,3246,3247,3248,3249,3250,3251,3252,3253,3254,3255,3256,3257,3258,3259,3260,3261,3262,3263,3264,3265,3266,3267,3268,3269,3270,3271,3272,3273,3274,3275,3276,3277,3278,3279,3280,3281,3282,3283,3284,3285,3286,3287,3288,3289,3290,3291,3292,3293,3294,3295,3296,3297,3298,3299,3300,3301,3302,3303,3304,3305,3306,3307,3308,3309,3310,3311,3312,3313,3314,3315,3316,3317,3318,3319,3320,3321,3322,3323,3324,3325,3326,3327,3328,3329,3330,3331,3332,3333,3334,3335,3336,3337,3338,3339,3340,3341,3342,3343,3344,3345,3346,3347,3348,3349,3350,3351,3352,3353,3354,3355,3356,3357,3358,3359,3360,3361,3362,3363,3364,3365,3366,3367,3368,3369,3370,3371,3372,3373,3374,3375,3376,3377,3378,3379,3380,3381,3382,3383,3384,3385,3386,3387,3388,3389,3390,3391,3392,3393,3394,3395,3396,3397,3398,3399,3400,3401,3402,3403,3404,3405,3406,3407,3408,3409,3410,3411,3412,3413,3414,3415,3416,3417,3418,3419,3420,3421,3422,3423,3424,3425,3426,3427,3428,3429,3430,3431,3432,3433,3434,3435,3436,3437,3438,3439,3440,3441,3442,3443,3444,3445,3446,3447,3448,3449,3450,3451,3452,3453,3454,3455,3456,3457,3458,3459,3460,3461,3462,3463,3464,3465,3466,3467,3468,3469,3470,3471,3472,3473,3474,3475,3476,3477,3478,3479,3480,3481,3482,3483,3484,3485,3486,3487,3488,3489,3490,3491,3492,3493,3494,3495,3496,3497,3498,3499,3500,3501,3502,3503,3504,3505,3506,3507,3508,3509,3510,3511,3512,3513,3514,3515,3516,3517,3518,3519,3520,3521,3522,3523,3524,3525,3526,3527,3528,3529,3530,3531,3532,3533,3534,3535,3536,3537,3538,3539,3540,3541,3542,3543,3544,3545,3546,3547,3548,3549,3550,3551,3552,3553,3554,3555,3556,3557,3558,3559,3560,3561,3562,3563,3564,3565,3566,3567,3568,3569,3570,3571,3572,3573,3574,3575,3576,3577,3578,3579,3580,3581,3582,3583,3584,3585,3586,3587,3588,3589,3590,3591,3592,3593,3594,3595,3596,3597,3598,3599,3600,3601,3602,3603,3604,3605,3606,3607,3608,3609,3610,3611,3612,3613,3614,3615,3616,3617,3618],\"x\":{\"__ndarray__\":\"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\",\"dtype\":\"float64\",\"shape\":[3619]},\"y\":{\"__ndarray__\":\"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\",\"dtype\":\"float64\",\"shape\":[3619]}},\"selected\":{\"id\":\"1385\",\"type\":\"Selection\"},\"selection_policy\":{\"id\":\"1384\",\"type\":\"UnionRenderers\"}},\"id\":\"1348\",\"type\":\"ColumnDataSource\"},{\"attributes\":{},\"id\":\"1324\",\"type\":\"BasicTicker\"},{\"attributes\":{\"formatter\":{\"id\":\"1380\",\"type\":\"BasicTickFormatter\"},\"ticker\":{\"id\":\"1329\",\"type\":\"BasicTicker\"}},\"id\":\"1328\",\"type\":\"LinearAxis\"},{\"attributes\":{\"callback\":null},\"id\":\"1317\",\"type\":\"DataRange1d\"},{\"attributes\":{},\"id\":\"1321\",\"type\":\"LinearScale\"},{\"attributes\":{\"source\":{\"id\":\"1348\",\"type\":\"ColumnDataSource\"}},\"id\":\"1353\",\"type\":\"CDSView\"},{\"attributes\":{\"active_drag\":\"auto\",\"active_inspect\":\"auto\",\"active_multi\":null,\"active_scroll\":\"auto\",\"active_tap\":\"auto\",\"tools\":[{\"id\":\"1333\",\"type\":\"PanTool\"},{\"id\":\"1334\",\"type\":\"WheelZoomTool\"},{\"id\":\"1335\",\"type\":\"BoxZoomTool\"},{\"id\":\"1336\",\"type\":\"SaveTool\"},{\"id\":\"1337\",\"type\":\"ResetTool\"},{\"id\":\"1338\",\"type\":\"HelpTool\"},{\"id\":\"1347\",\"type\":\"HoverTool\"}]},\"id\":\"1339\",\"type\":\"Toolbar\"},{\"attributes\":{\"callback\":null},\"id\":\"1315\",\"type\":\"DataRange1d\"},{\"attributes\":{},\"id\":\"1338\",\"type\":\"HelpTool\"},{\"attributes\":{\"bottom_units\":\"screen\",\"fill_alpha\":{\"value\":0.5},\"fill_color\":{\"value\":\"lightgrey\"},\"left_units\":\"screen\",\"level\":\"overlay\",\"line_alpha\":{\"value\":1.0},\"line_color\":{\"value\":\"black\"},\"line_dash\":[4,4],\"line_width\":{\"value\":2},\"render_mode\":\"css\",\"right_units\":\"screen\",\"top_units\":\"screen\"},\"id\":\"1383\",\"type\":\"BoxAnnotation\"},{\"attributes\":{\"ticker\":{\"id\":\"1324\",\"type\":\"BasicTicker\"}},\"id\":\"1327\",\"type\":\"Grid\"},{\"attributes\":{\"formatter\":{\"id\":\"1382\",\"type\":\"BasicTickFormatter\"},\"ticker\":{\"id\":\"1324\",\"type\":\"BasicTicker\"}},\"id\":\"1323\",\"type\":\"LinearAxis\"},{\"attributes\":{\"fill_alpha\":{\"value\":0.1},\"fill_color\":{\"value\":\"#1f77b4\"},\"line_alpha\":{\"value\":0.1},\"line_color\":{\"value\":\"#1f77b4\"},\"size\":{\"units\":\"screen\",\"value\":3},\"x\":{\"field\":\"x\"},\"y\":{\"field\":\"y\"}},\"id\":\"1351\",\"type\":\"Circle\"},{\"attributes\":{},\"id\":\"1329\",\"type\":\"BasicTicker\"},{\"attributes\":{\"data_source\":{\"id\":\"1348\",\"type\":\"ColumnDataSource\"},\"glyph\":{\"id\":\"1350\",\"type\":\"Circle\"},\"hover_glyph\":null,\"muted_glyph\":null,\"nonselection_glyph\":{\"id\":\"1351\",\"type\":\"Circle\"},\"selection_glyph\":null,\"view\":{\"id\":\"1353\",\"type\":\"CDSView\"}},\"id\":\"1352\",\"type\":\"GlyphRenderer\"},{\"attributes\":{\"callback\":null,\"tooltips\":[[\"x\",\"@x\"],[\"y\",\"@y\"]]},\"id\":\"1347\",\"type\":\"HoverTool\"},{\"attributes\":{\"overlay\":{\"id\":\"1383\",\"type\":\"BoxAnnotation\"}},\"id\":\"1335\",\"type\":\"BoxZoomTool\"},{\"attributes\":{},\"id\":\"1380\",\"type\":\"BasicTickFormatter\"},{\"attributes\":{},\"id\":\"1382\",\"type\":\"BasicTickFormatter\"},{\"attributes\":{},\"id\":\"1334\",\"type\":\"WheelZoomTool\"},{\"attributes\":{},\"id\":\"1385\",\"type\":\"Selection\"},{\"attributes\":{},\"id\":\"1336\",\"type\":\"SaveTool\"},{\"attributes\":{\"dimension\":1,\"ticker\":{\"id\":\"1329\",\"type\":\"BasicTicker\"}},\"id\":\"1332\",\"type\":\"Grid\"},{\"attributes\":{\"fill_color\":{\"value\":\"#1f77b4\"},\"line_color\":{\"value\":\"#1f77b4\"},\"size\":{\"units\":\"screen\",\"value\":3},\"x\":{\"field\":\"x\"},\"y\":{\"field\":\"y\"}},\"id\":\"1350\",\"type\":\"Circle\"},{\"attributes\":{},\"id\":\"1337\",\"type\":\"ResetTool\"},{\"attributes\":{},\"id\":\"1384\",\"type\":\"UnionRenderers\"},{\"attributes\":{},\"id\":\"1333\",\"type\":\"PanTool\"}],\"root_ids\":[\"1313\"]},\"title\":\"Bokeh Application\",\"version\":\"1.4.0\"}};\n",
       "  var render_items = [{\"docid\":\"514b2b1b-f84e-41bd-a38f-97c3bc01e4cb\",\"roots\":{\"1313\":\"a5190330-c091-404a-9c58-93f3d1321faa\"}}];\n",
       "  root.Bokeh.embed.embed_items_notebook(docs_json, render_items);\n",
       "\n",
       "  }\n",
       "  if (root.Bokeh !== undefined) {\n",
       "    embed_document(root);\n",
       "  } else {\n",
       "    var attempts = 0;\n",
       "    var timer = setInterval(function(root) {\n",
       "      if (root.Bokeh !== undefined) {\n",
       "        clearInterval(timer);\n",
       "        embed_document(root);\n",
       "      } else {\n",
       "        attempts++;\n",
       "        if (attempts > 100) {\n",
       "          clearInterval(timer);\n",
       "          console.log(\"Bokeh: ERROR: Unable to run BokehJS code because BokehJS library is missing\");\n",
       "        }\n",
       "      }\n",
       "    }, 10, root)\n",
       "  }\n",
       "})(window);"
      ],
      "application/vnd.bokehjs_exec.v0+json": ""
     },
     "metadata": {
      "application/vnd.bokehjs_exec.v0+json": {
       "id": "1313"
      }
     },
     "output_type": "display_data"
    }
   ],
   "source": [
    "mt = hl.read_matrix_table('resources/qced-hgdp-1kg.mt')\n",
    "\n",
    "pc_kin = hl.pc_relate(mt.GT, 0.1, k=4, statistics='kin20', min_kinship=0.1)\n",
    "pc_kin.write('output/pc_kin.ht', overwrite=True)\n",
    "pc_kin = hl.read_table('output/pc_kin.ht')\n",
    "\n",
    "hl.plot.show(\n",
    "    hl.plot.scatter(\n",
    "        pc_kin.kin,\n",
    "        pc_kin.ibd0,\n",
    "        width=400,\n",
    "        height=400,\n",
    "        size=3\n",
    "    )\n",
    ")"
   ]
  },
  {
   "cell_type": "code",
   "execution_count": 11,
   "id": "db762690",
   "metadata": {
    "scrolled": false
   },
   "outputs": [
    {
     "name": "stderr",
     "output_type": "stream",
     "text": [
      "2023-01-11 14:51:36.891 Hail: INFO: Wrote all 10 blocks of 19151 x 4151 matrix with block size 4096.\n",
      "2023-01-11 14:51:42.811 Hail: INFO: Wrote all 10 blocks of 19151 x 4151 matrix with block size 4096.\n",
      "2023-01-11 14:51:49.255 Hail: INFO: Wrote all 10 blocks of 19151 x 4151 matrix with block size 4096.\n",
      "2023-01-11 14:51:54.697 Hail: INFO: Wrote all 10 blocks of 19151 x 4151 matrix with block size 4096.\n",
      "2023-01-11 14:52:02.657 Hail: INFO: wrote matrix with 4151 rows and 4151 columns as 4 blocks of size 4096 to /tmp/icEy71iOgKWyKp1oEnTS1n\n",
      "2023-01-11 14:52:10.180 Hail: INFO: wrote matrix with 4151 rows and 4151 columns as 4 blocks of size 4096 to /tmp/d3IhDPkISALQjZkBvHRzbj\n",
      "2023-01-11 14:52:17.277 Hail: INFO: wrote matrix with 4151 rows and 4151 columns as 4 blocks of size 4096 to /tmp/DBKFebgFovXoyisCBglL5x\n",
      "2023-01-11 14:52:18.300 Hail: INFO: wrote matrix with 4151 rows and 4151 columns as 4 blocks of size 4096 to /tmp/bbhFh5OIsvuDH2qTG6UNGz\n",
      "2023-01-11 14:52:18.993 Hail: INFO: wrote matrix with 4151 rows and 4151 columns as 4 blocks of size 4096 to /tmp/7ETPZewSLp4mgs8Q7sXPgc\n",
      "2023-01-11 14:52:19.639 Hail: INFO: wrote matrix with 4151 rows and 4151 columns as 4 blocks of size 4096 to /tmp/1SYYym41J59A1pGjFHBjzm\n",
      "2023-01-11 14:52:19.663 Hail: WARN: cols(): Resulting column table is sorted by 'col_key'.\n",
      "    To preserve matrix table column order, first unkey columns with 'key_cols_by()'\n",
      "2023-01-11 14:52:19.881 Hail: WARN: entries(): Resulting entries table is sorted by '(row_key, col_key)'.\n",
      "    To preserve row-major matrix table order, first unkey columns with 'key_cols_by()'\n",
      "2023-01-11 14:52:25.185 Hail: INFO: Coerced sorted dataset\n",
      "2023-01-11 14:52:29.128 Hail: INFO: Ordering unsorted dataset with network shuffle\n",
      "2023-01-11 14:52:34.538 Hail: INFO: wrote table with 208017 rows in 10 partitions to output/king_kin.ht\n",
      "    Total size: 3.80 MiB\n",
      "    * Rows: 3.80 MiB\n",
      "    * Globals: 11.00 B\n",
      "    * Smallest partition: 8926 rows (164.83 KiB)\n",
      "    * Largest partition:  33190 rows (613.29 KiB)\n"
     ]
    },
    {
     "data": {
      "text/html": [
       "\n",
       "\n",
       "\n",
       "\n",
       "\n",
       "\n",
       "  <div class=\"bk-root\" id=\"a1745c28-d011-498a-9138-81fd74912596\" data-root-id=\"1434\"></div>\n"
      ]
     },
     "metadata": {},
     "output_type": "display_data"
    },
    {
     "data": {
      "application/javascript": [
       "(function(root) {\n",
       "  function embed_document(root) {\n",
       "    \n",
       "  var docs_json = {\"8ff26183-2839-427b-89a6-55cfa3adcc62\":{\"roots\":{\"references\":[{\"attributes\":{\"background_fill_color\":{\"value\":\"#EEEEEE\"},\"below\":[{\"id\":\"1444\",\"type\":\"LinearAxis\"}],\"center\":[{\"id\":\"1448\",\"type\":\"Grid\"},{\"id\":\"1453\",\"type\":\"Grid\"},{\"id\":\"1478\",\"type\":\"Legend\"}],\"left\":[{\"id\":\"1449\",\"type\":\"LinearAxis\"}],\"renderers\":[{\"id\":\"1470\",\"type\":\"GlyphRenderer\"}],\"title\":null,\"toolbar\":{\"id\":\"1460\",\"type\":\"Toolbar\"},\"x_range\":{\"id\":\"1436\",\"type\":\"Range1d\"},\"x_scale\":{\"id\":\"1440\",\"type\":\"LinearScale\"},\"y_range\":{\"id\":\"1438\",\"type\":\"DataRange1d\"},\"y_scale\":{\"id\":\"1442\",\"type\":\"LinearScale\"}},\"id\":\"1434\",\"subtype\":\"Figure\",\"type\":\"Plot\"},{\"attributes\":{\"formatter\":{\"id\":\"1476\",\"type\":\"BasicTickFormatter\"},\"ticker\":{\"id\":\"1445\",\"type\":\"BasicTicker\"}},\"id\":\"1444\",\"type\":\"LinearAxis\"},{\"attributes\":{},\"id\":\"1454\",\"type\":\"PanTool\"},{\"attributes\":{},\"id\":\"1458\",\"type\":\"ResetTool\"},{\"attributes\":{\"axis_label\":\"Frequency\",\"formatter\":{\"id\":\"1474\",\"type\":\"BasicTickFormatter\"},\"ticker\":{\"id\":\"1450\",\"type\":\"BasicTicker\"}},\"id\":\"1449\",\"type\":\"LinearAxis\"},{\"attributes\":{\"callback\":null,\"data\":{\"left\":[0.10000784067743451,0.10800768386388582,0.11600752705033714,0.12400737023678844,0.13200721342323976,0.14000705660969107,0.14800689979614237,0.15600674298259368,0.164006586169045,0.17200642935549632,0.18000627254194762,0.18800611572839893,0.19600595891485023,0.20400580210130154,0.21200564528775284,0.22000548847420417,0.22800533166065548,0.23600517484710679,0.2440050180335581,0.2520048612200094,0.26000470440646073,0.26800454759291203,0.27600439077936334,0.28400423396581465,0.29200407715226595,0.30000392033871726,0.30800376352516856,0.31600360671161987,0.32400344989807117,0.3320032930845225,0.34000313627097384,0.34800297945742514,0.35600282264387645,0.36400266583032775,0.37200250901677906,0.38000235220323036,0.38800219538968167,0.396002038576133,0.40400188176258434,0.41200172494903564,0.42000156813548695,0.42800141132193825,0.43600125450838956,0.44400109769484086,0.45200094088129217,0.4600007840677435,0.4680006272541948,0.4760004704406461,0.4840003136270974,0.49200015681354875],\"right\":[0.10800768386388582,0.11600752705033714,0.12400737023678844,0.13200721342323976,0.14000705660969107,0.14800689979614237,0.15600674298259368,0.164006586169045,0.17200642935549632,0.18000627254194762,0.18800611572839893,0.19600595891485023,0.20400580210130154,0.21200564528775284,0.22000548847420417,0.22800533166065548,0.23600517484710679,0.2440050180335581,0.2520048612200094,0.26000470440646073,0.26800454759291203,0.27600439077936334,0.28400423396581465,0.29200407715226595,0.30000392033871726,0.30800376352516856,0.31600360671161987,0.32400344989807117,0.3320032930845225,0.34000313627097384,0.34800297945742514,0.35600282264387645,0.36400266583032775,0.37200250901677906,0.38000235220323036,0.38800219538968167,0.396002038576133,0.40400188176258434,0.41200172494903564,0.42000156813548695,0.42800141132193825,0.43600125450838956,0.44400109769484086,0.45200094088129217,0.4600007840677435,0.4680006272541948,0.4760004704406461,0.4840003136270974,0.49200015681354875,0.5],\"top\":[63568,45766,32588,22126,14376,9274,5642,3414,2036,1136,646,308,210,174,158,206,206,292,310,368,324,270,184,112,62,40,22,6,10,2,2,0,0,4,0,4,0,0,0,0,0,0,0,0,0,0,0,0,6,4165]},\"selected\":{\"id\":\"1519\",\"type\":\"Selection\"},\"selection_policy\":{\"id\":\"1518\",\"type\":\"UnionRenderers\"}},\"id\":\"1467\",\"type\":\"ColumnDataSource\"},{\"attributes\":{},\"id\":\"1474\",\"type\":\"BasicTickFormatter\"},{\"attributes\":{},\"id\":\"1442\",\"type\":\"LinearScale\"},{\"attributes\":{\"ticker\":{\"id\":\"1445\",\"type\":\"BasicTicker\"}},\"id\":\"1448\",\"type\":\"Grid\"},{\"attributes\":{\"source\":{\"id\":\"1467\",\"type\":\"ColumnDataSource\"}},\"id\":\"1471\",\"type\":\"CDSView\"},{\"attributes\":{\"bottom_units\":\"screen\",\"fill_alpha\":{\"value\":0.5},\"fill_color\":{\"value\":\"lightgrey\"},\"left_units\":\"screen\",\"level\":\"overlay\",\"line_alpha\":{\"value\":1.0},\"line_color\":{\"value\":\"black\"},\"line_dash\":[4,4],\"line_width\":{\"value\":2},\"render_mode\":\"css\",\"right_units\":\"screen\",\"top_units\":\"screen\"},\"id\":\"1477\",\"type\":\"BoxAnnotation\"},{\"attributes\":{},\"id\":\"1476\",\"type\":\"BasicTickFormatter\"},{\"attributes\":{},\"id\":\"1519\",\"type\":\"Selection\"},{\"attributes\":{\"callback\":null},\"id\":\"1438\",\"type\":\"DataRange1d\"},{\"attributes\":{},\"id\":\"1450\",\"type\":\"BasicTicker\"},{\"attributes\":{\"data_source\":{\"id\":\"1467\",\"type\":\"ColumnDataSource\"},\"glyph\":{\"id\":\"1468\",\"type\":\"Quad\"},\"hover_glyph\":null,\"muted_glyph\":null,\"nonselection_glyph\":{\"id\":\"1469\",\"type\":\"Quad\"},\"selection_glyph\":null,\"view\":{\"id\":\"1471\",\"type\":\"CDSView\"}},\"id\":\"1470\",\"type\":\"GlyphRenderer\"},{\"attributes\":{},\"id\":\"1518\",\"type\":\"UnionRenderers\"},{\"attributes\":{\"callback\":null,\"end\":0.5199996079661283,\"start\":0.08000823271130623},\"id\":\"1436\",\"type\":\"Range1d\"},{\"attributes\":{\"active_drag\":\"auto\",\"active_inspect\":\"auto\",\"active_multi\":null,\"active_scroll\":\"auto\",\"active_tap\":\"auto\",\"tools\":[{\"id\":\"1454\",\"type\":\"PanTool\"},{\"id\":\"1455\",\"type\":\"WheelZoomTool\"},{\"id\":\"1456\",\"type\":\"BoxZoomTool\"},{\"id\":\"1457\",\"type\":\"SaveTool\"},{\"id\":\"1458\",\"type\":\"ResetTool\"},{\"id\":\"1459\",\"type\":\"HelpTool\"}]},\"id\":\"1460\",\"type\":\"Toolbar\"},{\"attributes\":{},\"id\":\"1440\",\"type\":\"LinearScale\"},{\"attributes\":{\"bottom\":{\"value\":0},\"fill_color\":{\"value\":\"#1f77b4\"},\"left\":{\"field\":\"left\"},\"right\":{\"field\":\"right\"},\"top\":{\"field\":\"top\"}},\"id\":\"1468\",\"type\":\"Quad\"},{\"attributes\":{\"bottom\":{\"value\":0},\"fill_alpha\":{\"value\":0.1},\"fill_color\":{\"value\":\"#1f77b4\"},\"left\":{\"field\":\"left\"},\"line_alpha\":{\"value\":0.1},\"line_color\":{\"value\":\"#1f77b4\"},\"right\":{\"field\":\"right\"},\"top\":{\"field\":\"top\"}},\"id\":\"1469\",\"type\":\"Quad\"},{\"attributes\":{},\"id\":\"1457\",\"type\":\"SaveTool\"},{\"attributes\":{},\"id\":\"1459\",\"type\":\"HelpTool\"},{\"attributes\":{},\"id\":\"1445\",\"type\":\"BasicTicker\"},{\"attributes\":{\"dimension\":1,\"ticker\":{\"id\":\"1450\",\"type\":\"BasicTicker\"}},\"id\":\"1453\",\"type\":\"Grid\"},{\"attributes\":{\"label\":{\"value\":\"\"},\"renderers\":[{\"id\":\"1470\",\"type\":\"GlyphRenderer\"}]},\"id\":\"1479\",\"type\":\"LegendItem\"},{\"attributes\":{},\"id\":\"1455\",\"type\":\"WheelZoomTool\"},{\"attributes\":{\"overlay\":{\"id\":\"1477\",\"type\":\"BoxAnnotation\"}},\"id\":\"1456\",\"type\":\"BoxZoomTool\"},{\"attributes\":{\"items\":[{\"id\":\"1479\",\"type\":\"LegendItem\"}]},\"id\":\"1478\",\"type\":\"Legend\"}],\"root_ids\":[\"1434\"]},\"title\":\"Bokeh Application\",\"version\":\"1.4.0\"}};\n",
       "  var render_items = [{\"docid\":\"8ff26183-2839-427b-89a6-55cfa3adcc62\",\"roots\":{\"1434\":\"a1745c28-d011-498a-9138-81fd74912596\"}}];\n",
       "  root.Bokeh.embed.embed_items_notebook(docs_json, render_items);\n",
       "\n",
       "  }\n",
       "  if (root.Bokeh !== undefined) {\n",
       "    embed_document(root);\n",
       "  } else {\n",
       "    var attempts = 0;\n",
       "    var timer = setInterval(function(root) {\n",
       "      if (root.Bokeh !== undefined) {\n",
       "        clearInterval(timer);\n",
       "        embed_document(root);\n",
       "      } else {\n",
       "        attempts++;\n",
       "        if (attempts > 100) {\n",
       "          clearInterval(timer);\n",
       "          console.log(\"Bokeh: ERROR: Unable to run BokehJS code because BokehJS library is missing\");\n",
       "        }\n",
       "      }\n",
       "    }, 10, root)\n",
       "  }\n",
       "})(window);"
      ],
      "application/vnd.bokehjs_exec.v0+json": ""
     },
     "metadata": {
      "application/vnd.bokehjs_exec.v0+json": {
       "id": "1434"
      }
     },
     "output_type": "display_data"
    }
   ],
   "source": [
    "mt = hl.read_matrix_table('resources/qced-hgdp-1kg.mt')\n",
    "\n",
    "king_kin = hl.king(mt.GT)\n",
    "king_kin = king_kin.filter_entries(king_kin.phi > 0.1).entries()\n",
    "king_kin.write('output/king_kin.ht', overwrite=True)\n",
    "king_kin = hl.read_table('output/king_kin.ht')\n",
    "\n",
    "hl.plot.show(\n",
    "    hl.plot.histogram(\n",
    "        king_kin.phi\n",
    "    )\n",
    ")"
   ]
  },
  {
   "cell_type": "code",
   "execution_count": 19,
   "id": "35e70424",
   "metadata": {},
   "outputs": [
    {
     "data": {
      "text/html": [
       "<table><thead><tr><td style=\"white-space: nowrap; max-width: 500px; overflow: hidden; text-overflow: ellipsis; \" colspan=\"1\"><div style=\"text-align: left;\"></div></td><td style=\"white-space: nowrap; max-width: 500px; overflow: hidden; text-overflow: ellipsis; \" colspan=\"1\"><div style=\"text-align: left;\"></div></td><td style=\"white-space: nowrap; max-width: 500px; overflow: hidden; text-overflow: ellipsis; \" colspan=\"1\"><div style=\"text-align: left;\"></div></td></tr><tr><td style=\"white-space: nowrap; max-width: 500px; overflow: hidden; text-overflow: ellipsis; \" colspan=\"1\"><div style=\"text-align: left;border-bottom: solid 2px #000; padding-bottom: 5px\">s_1</div></td><td style=\"white-space: nowrap; max-width: 500px; overflow: hidden; text-overflow: ellipsis; \" colspan=\"1\"><div style=\"text-align: left;border-bottom: solid 2px #000; padding-bottom: 5px\">s</div></td><td style=\"white-space: nowrap; max-width: 500px; overflow: hidden; text-overflow: ellipsis; \" colspan=\"1\"><div style=\"text-align: left;border-bottom: solid 2px #000; padding-bottom: 5px\">phi</div></td></tr><tr><td style=\"white-space: nowrap; max-width: 500px; overflow: hidden; text-overflow: ellipsis; text-align: left;\">str</td><td style=\"white-space: nowrap; max-width: 500px; overflow: hidden; text-overflow: ellipsis; text-align: left;\">str</td><td style=\"white-space: nowrap; max-width: 500px; overflow: hidden; text-overflow: ellipsis; text-align: left;\">float64</td></tr>\n",
       "</thead><tbody><tr><td style=\"white-space: nowrap; max-width: 500px; overflow: hidden; text-overflow: ellipsis; \">&quot;CHMI_CHMI3_WGS2&quot;</td><td style=\"white-space: nowrap; max-width: 500px; overflow: hidden; text-overflow: ellipsis; \">&quot;HG00114&quot;</td><td style=\"white-space: nowrap; max-width: 500px; overflow: hidden; text-overflow: ellipsis; \">1.30e-01</td></tr>\n",
       "<tr><td style=\"white-space: nowrap; max-width: 500px; overflow: hidden; text-overflow: ellipsis; \">&quot;CHMI_CHMI3_WGS2&quot;</td><td style=\"white-space: nowrap; max-width: 500px; overflow: hidden; text-overflow: ellipsis; \">&quot;HG00183&quot;</td><td style=\"white-space: nowrap; max-width: 500px; overflow: hidden; text-overflow: ellipsis; \">1.06e-01</td></tr>\n",
       "<tr><td style=\"white-space: nowrap; max-width: 500px; overflow: hidden; text-overflow: ellipsis; \">&quot;CHMI_CHMI3_WGS2&quot;</td><td style=\"white-space: nowrap; max-width: 500px; overflow: hidden; text-overflow: ellipsis; \">&quot;HG00243&quot;</td><td style=\"white-space: nowrap; max-width: 500px; overflow: hidden; text-overflow: ellipsis; \">1.01e-01</td></tr>\n",
       "<tr><td style=\"white-space: nowrap; max-width: 500px; overflow: hidden; text-overflow: ellipsis; \">&quot;CHMI_CHMI3_WGS2&quot;</td><td style=\"white-space: nowrap; max-width: 500px; overflow: hidden; text-overflow: ellipsis; \">&quot;HG00246&quot;</td><td style=\"white-space: nowrap; max-width: 500px; overflow: hidden; text-overflow: ellipsis; \">1.01e-01</td></tr>\n",
       "<tr><td style=\"white-space: nowrap; max-width: 500px; overflow: hidden; text-overflow: ellipsis; \">&quot;CHMI_CHMI3_WGS2&quot;</td><td style=\"white-space: nowrap; max-width: 500px; overflow: hidden; text-overflow: ellipsis; \">&quot;HG00282&quot;</td><td style=\"white-space: nowrap; max-width: 500px; overflow: hidden; text-overflow: ellipsis; \">1.03e-01</td></tr>\n",
       "<tr><td style=\"white-space: nowrap; max-width: 500px; overflow: hidden; text-overflow: ellipsis; \">&quot;CHMI_CHMI3_WGS2&quot;</td><td style=\"white-space: nowrap; max-width: 500px; overflow: hidden; text-overflow: ellipsis; \">&quot;HG00308&quot;</td><td style=\"white-space: nowrap; max-width: 500px; overflow: hidden; text-overflow: ellipsis; \">1.16e-01</td></tr>\n",
       "<tr><td style=\"white-space: nowrap; max-width: 500px; overflow: hidden; text-overflow: ellipsis; \">&quot;CHMI_CHMI3_WGS2&quot;</td><td style=\"white-space: nowrap; max-width: 500px; overflow: hidden; text-overflow: ellipsis; \">&quot;HG00311&quot;</td><td style=\"white-space: nowrap; max-width: 500px; overflow: hidden; text-overflow: ellipsis; \">1.04e-01</td></tr>\n",
       "<tr><td style=\"white-space: nowrap; max-width: 500px; overflow: hidden; text-overflow: ellipsis; \">&quot;CHMI_CHMI3_WGS2&quot;</td><td style=\"white-space: nowrap; max-width: 500px; overflow: hidden; text-overflow: ellipsis; \">&quot;HG00351&quot;</td><td style=\"white-space: nowrap; max-width: 500px; overflow: hidden; text-overflow: ellipsis; \">1.25e-01</td></tr>\n",
       "<tr><td style=\"white-space: nowrap; max-width: 500px; overflow: hidden; text-overflow: ellipsis; \">&quot;CHMI_CHMI3_WGS2&quot;</td><td style=\"white-space: nowrap; max-width: 500px; overflow: hidden; text-overflow: ellipsis; \">&quot;HG00639&quot;</td><td style=\"white-space: nowrap; max-width: 500px; overflow: hidden; text-overflow: ellipsis; \">1.16e-01</td></tr>\n",
       "<tr><td style=\"white-space: nowrap; max-width: 500px; overflow: hidden; text-overflow: ellipsis; \">&quot;CHMI_CHMI3_WGS2&quot;</td><td style=\"white-space: nowrap; max-width: 500px; overflow: hidden; text-overflow: ellipsis; \">&quot;HG00640&quot;</td><td style=\"white-space: nowrap; max-width: 500px; overflow: hidden; text-overflow: ellipsis; \">1.00e-01</td></tr>\n",
       "</tbody></table><p style=\"background: #fdd; padding: 0.4em;\">showing top 10 rows</p>\n"
      ],
      "text/plain": [
       "+-------------------+-----------+----------+\n",
       "| s_1               | s         |      phi |\n",
       "+-------------------+-----------+----------+\n",
       "| str               | str       |  float64 |\n",
       "+-------------------+-----------+----------+\n",
       "| \"CHMI_CHMI3_WGS2\" | \"HG00114\" | 1.30e-01 |\n",
       "| \"CHMI_CHMI3_WGS2\" | \"HG00183\" | 1.06e-01 |\n",
       "| \"CHMI_CHMI3_WGS2\" | \"HG00243\" | 1.01e-01 |\n",
       "| \"CHMI_CHMI3_WGS2\" | \"HG00246\" | 1.01e-01 |\n",
       "| \"CHMI_CHMI3_WGS2\" | \"HG00282\" | 1.03e-01 |\n",
       "| \"CHMI_CHMI3_WGS2\" | \"HG00308\" | 1.16e-01 |\n",
       "| \"CHMI_CHMI3_WGS2\" | \"HG00311\" | 1.04e-01 |\n",
       "| \"CHMI_CHMI3_WGS2\" | \"HG00351\" | 1.25e-01 |\n",
       "| \"CHMI_CHMI3_WGS2\" | \"HG00639\" | 1.16e-01 |\n",
       "| \"CHMI_CHMI3_WGS2\" | \"HG00640\" | 1.00e-01 |\n",
       "+-------------------+-----------+----------+\n",
       "showing top 10 rows"
      ]
     },
     "metadata": {},
     "output_type": "display_data"
    }
   ],
   "source": [
    "king_kin.filter(king_kin.phi < 0.45).show()"
   ]
  },
  {
   "cell_type": "markdown",
   "id": "bf7a8c08",
   "metadata": {},
   "source": [
    "Hail also supports identity-by-descent calculation but it's currently broken for the new Apple M1 chips because it uses some fast native code that hasn't been compiled for M1 yet. Expect a fix soon!"
   ]
  },
  {
   "cell_type": "markdown",
   "id": "4495f0bb",
   "metadata": {},
   "source": [
    "### Polygenic Score Calculation\n",
    "\n",
    "In this section, I import a height polygenic score from the [PGS Catalog](https://www.pgscatalog.org/score/PGS000297/), and use it to calculate the polygenic score in our toy dataset. Our toy dataset does not have enough shared variants with the score to produce useful estimates, but the code below could be effectively applied to a larger, quality-controlled dataset."
   ]
  },
  {
   "cell_type": "code",
   "execution_count": 13,
   "id": "a9c6ebad",
   "metadata": {},
   "outputs": [
    {
     "name": "stderr",
     "output_type": "stream",
     "text": [
      "2023-01-11 14:53:25.098 Hail: INFO: wrote table with 3291 rows in 1 partition to /tmp/persist_tableivSmIMEc2i\n",
      "2023-01-11 14:53:26.114 Hail: INFO: Reading table to impute column types\n",
      "2023-01-11 14:53:27.469 Hail: INFO: Finished type imputation\n",
      "  Loading field 'rsID' as type str (imputed)\n",
      "  Loading field 'chr_name' as type int32 (imputed)\n",
      "  Loading field 'chr_position' as type int32 (imputed)\n",
      "  Loading field 'effect_allele' as type str (imputed)\n",
      "  Loading field 'other_allele' as type str (imputed)\n",
      "  Loading field 'effect_weight' as type float64 (imputed)\n",
      "  Loading field 'variant_description' as type str (imputed)\n",
      "2023-01-11 14:53:28.156 Hail: INFO: Coerced sorted dataset\n",
      "2023-01-11 14:53:28.995 Hail: INFO: wrote table with 3290 rows in 1 partition to output/height-polygenic-score.ht\n"
     ]
    }
   ],
   "source": [
    "ht = hl.import_table('resources/height-polygenic-score.txt', comment='#', impute=True)\n",
    "ht = ht.key_by(\n",
    "    locus = hl.locus(hl.str(ht.chr_name), ht.chr_position)\n",
    ")\n",
    "ht.write('output/height-polygenic-score.ht', overwrite=True)"
   ]
  },
  {
   "cell_type": "code",
   "execution_count": 14,
   "id": "3bf97c31",
   "metadata": {},
   "outputs": [],
   "source": [
    "ht = hl.read_table('output/height-polygenic-score.ht')"
   ]
  },
  {
   "cell_type": "code",
   "execution_count": 15,
   "id": "56136c6c",
   "metadata": {},
   "outputs": [
    {
     "data": {
      "text/html": [
       "<table><thead><tr><td style=\"white-space: nowrap; max-width: 500px; overflow: hidden; text-overflow: ellipsis; \" colspan=\"1\"><div style=\"text-align: left;\"></div></td><td style=\"white-space: nowrap; max-width: 500px; overflow: hidden; text-overflow: ellipsis; \" colspan=\"1\"><div style=\"text-align: left;\"></div></td><td style=\"white-space: nowrap; max-width: 500px; overflow: hidden; text-overflow: ellipsis; \" colspan=\"1\"><div style=\"text-align: left;\"></div></td><td style=\"white-space: nowrap; max-width: 500px; overflow: hidden; text-overflow: ellipsis; \" colspan=\"1\"><div style=\"text-align: left;\"></div></td><td style=\"white-space: nowrap; max-width: 500px; overflow: hidden; text-overflow: ellipsis; \" colspan=\"1\"><div style=\"text-align: left;\"></div></td><td style=\"white-space: nowrap; max-width: 500px; overflow: hidden; text-overflow: ellipsis; \" colspan=\"1\"><div style=\"text-align: left;\"></div></td><td style=\"white-space: nowrap; max-width: 500px; overflow: hidden; text-overflow: ellipsis; \" colspan=\"1\"><div style=\"text-align: left;\"></div></td><td style=\"white-space: nowrap; max-width: 500px; overflow: hidden; text-overflow: ellipsis; \" colspan=\"1\"><div style=\"text-align: left;\"></div></td></tr><tr><td style=\"white-space: nowrap; max-width: 500px; overflow: hidden; text-overflow: ellipsis; \" colspan=\"1\"><div style=\"text-align: left;border-bottom: solid 2px #000; padding-bottom: 5px\">rsID</div></td><td style=\"white-space: nowrap; max-width: 500px; overflow: hidden; text-overflow: ellipsis; \" colspan=\"1\"><div style=\"text-align: left;border-bottom: solid 2px #000; padding-bottom: 5px\">chr_name</div></td><td style=\"white-space: nowrap; max-width: 500px; overflow: hidden; text-overflow: ellipsis; \" colspan=\"1\"><div style=\"text-align: left;border-bottom: solid 2px #000; padding-bottom: 5px\">chr_position</div></td><td style=\"white-space: nowrap; max-width: 500px; overflow: hidden; text-overflow: ellipsis; \" colspan=\"1\"><div style=\"text-align: left;border-bottom: solid 2px #000; padding-bottom: 5px\">effect_allele</div></td><td style=\"white-space: nowrap; max-width: 500px; overflow: hidden; text-overflow: ellipsis; \" colspan=\"1\"><div style=\"text-align: left;border-bottom: solid 2px #000; padding-bottom: 5px\">other_allele</div></td><td style=\"white-space: nowrap; max-width: 500px; overflow: hidden; text-overflow: ellipsis; \" colspan=\"1\"><div style=\"text-align: left;border-bottom: solid 2px #000; padding-bottom: 5px\">effect_weight</div></td><td style=\"white-space: nowrap; max-width: 500px; overflow: hidden; text-overflow: ellipsis; \" colspan=\"1\"><div style=\"text-align: left;border-bottom: solid 2px #000; padding-bottom: 5px\">variant_description</div></td><td style=\"white-space: nowrap; max-width: 500px; overflow: hidden; text-overflow: ellipsis; \" colspan=\"1\"><div style=\"text-align: left;border-bottom: solid 2px #000; padding-bottom: 5px\">locus</div></td></tr><tr><td style=\"white-space: nowrap; max-width: 500px; overflow: hidden; text-overflow: ellipsis; text-align: left;\">str</td><td style=\"white-space: nowrap; max-width: 500px; overflow: hidden; text-overflow: ellipsis; text-align: left;\">int32</td><td style=\"white-space: nowrap; max-width: 500px; overflow: hidden; text-overflow: ellipsis; text-align: left;\">int32</td><td style=\"white-space: nowrap; max-width: 500px; overflow: hidden; text-overflow: ellipsis; text-align: left;\">str</td><td style=\"white-space: nowrap; max-width: 500px; overflow: hidden; text-overflow: ellipsis; text-align: left;\">str</td><td style=\"white-space: nowrap; max-width: 500px; overflow: hidden; text-overflow: ellipsis; text-align: left;\">float64</td><td style=\"white-space: nowrap; max-width: 500px; overflow: hidden; text-overflow: ellipsis; text-align: left;\">str</td><td style=\"white-space: nowrap; max-width: 500px; overflow: hidden; text-overflow: ellipsis; text-align: left;\">locus&lt;GRCh37&gt;</td></tr>\n",
       "</thead><tbody><tr><td style=\"white-space: nowrap; max-width: 500px; overflow: hidden; text-overflow: ellipsis; \">&quot;rs385039&quot;</td><td style=\"white-space: nowrap; max-width: 500px; overflow: hidden; text-overflow: ellipsis; \">1</td><td style=\"white-space: nowrap; max-width: 500px; overflow: hidden; text-overflow: ellipsis; \">2077409</td><td style=\"white-space: nowrap; max-width: 500px; overflow: hidden; text-overflow: ellipsis; \">&quot;G&quot;</td><td style=\"white-space: nowrap; max-width: 500px; overflow: hidden; text-overflow: ellipsis; \">&quot;A&quot;</td><td style=\"white-space: nowrap; max-width: 500px; overflow: hidden; text-overflow: ellipsis; \">2.05e-02</td><td style=\"white-space: nowrap; max-width: 500px; overflow: hidden; text-overflow: ellipsis; \">&quot;lead SNPs&quot;</td><td style=\"white-space: nowrap; max-width: 500px; overflow: hidden; text-overflow: ellipsis; \">1:2077409</td></tr>\n",
       "<tr><td style=\"white-space: nowrap; max-width: 500px; overflow: hidden; text-overflow: ellipsis; \">&quot;rs12743493&quot;</td><td style=\"white-space: nowrap; max-width: 500px; overflow: hidden; text-overflow: ellipsis; \">1</td><td style=\"white-space: nowrap; max-width: 500px; overflow: hidden; text-overflow: ellipsis; \">2224836</td><td style=\"white-space: nowrap; max-width: 500px; overflow: hidden; text-overflow: ellipsis; \">&quot;A&quot;</td><td style=\"white-space: nowrap; max-width: 500px; overflow: hidden; text-overflow: ellipsis; \">&quot;G&quot;</td><td style=\"white-space: nowrap; max-width: 500px; overflow: hidden; text-overflow: ellipsis; \">1.39e-02</td><td style=\"white-space: nowrap; max-width: 500px; overflow: hidden; text-overflow: ellipsis; \">&quot;lead SNPs&quot;</td><td style=\"white-space: nowrap; max-width: 500px; overflow: hidden; text-overflow: ellipsis; \">1:2224836</td></tr>\n",
       "<tr><td style=\"white-space: nowrap; max-width: 500px; overflow: hidden; text-overflow: ellipsis; \">&quot;rs2843146&quot;</td><td style=\"white-space: nowrap; max-width: 500px; overflow: hidden; text-overflow: ellipsis; \">1</td><td style=\"white-space: nowrap; max-width: 500px; overflow: hidden; text-overflow: ellipsis; \">2265969</td><td style=\"white-space: nowrap; max-width: 500px; overflow: hidden; text-overflow: ellipsis; \">&quot;T&quot;</td><td style=\"white-space: nowrap; max-width: 500px; overflow: hidden; text-overflow: ellipsis; \">&quot;G&quot;</td><td style=\"white-space: nowrap; max-width: 500px; overflow: hidden; text-overflow: ellipsis; \">5.37e-03</td><td style=\"white-space: nowrap; max-width: 500px; overflow: hidden; text-overflow: ellipsis; \">&quot;secondary&quot;</td><td style=\"white-space: nowrap; max-width: 500px; overflow: hidden; text-overflow: ellipsis; \">1:2265969</td></tr>\n",
       "<tr><td style=\"white-space: nowrap; max-width: 500px; overflow: hidden; text-overflow: ellipsis; \">&quot;rs4648832&quot;</td><td style=\"white-space: nowrap; max-width: 500px; overflow: hidden; text-overflow: ellipsis; \">1</td><td style=\"white-space: nowrap; max-width: 500px; overflow: hidden; text-overflow: ellipsis; \">2286127</td><td style=\"white-space: nowrap; max-width: 500px; overflow: hidden; text-overflow: ellipsis; \">&quot;G&quot;</td><td style=\"white-space: nowrap; max-width: 500px; overflow: hidden; text-overflow: ellipsis; \">&quot;C&quot;</td><td style=\"white-space: nowrap; max-width: 500px; overflow: hidden; text-overflow: ellipsis; \">9.18e-03</td><td style=\"white-space: nowrap; max-width: 500px; overflow: hidden; text-overflow: ellipsis; \">&quot;secondary&quot;</td><td style=\"white-space: nowrap; max-width: 500px; overflow: hidden; text-overflow: ellipsis; \">1:2286127</td></tr>\n",
       "<tr><td style=\"white-space: nowrap; max-width: 500px; overflow: hidden; text-overflow: ellipsis; \">&quot;rs16823193&quot;</td><td style=\"white-space: nowrap; max-width: 500px; overflow: hidden; text-overflow: ellipsis; \">1</td><td style=\"white-space: nowrap; max-width: 500px; overflow: hidden; text-overflow: ellipsis; \">2847985</td><td style=\"white-space: nowrap; max-width: 500px; overflow: hidden; text-overflow: ellipsis; \">&quot;T&quot;</td><td style=\"white-space: nowrap; max-width: 500px; overflow: hidden; text-overflow: ellipsis; \">&quot;A&quot;</td><td style=\"white-space: nowrap; max-width: 500px; overflow: hidden; text-overflow: ellipsis; \">1.11e-02</td><td style=\"white-space: nowrap; max-width: 500px; overflow: hidden; text-overflow: ellipsis; \">&quot;lead SNPs&quot;</td><td style=\"white-space: nowrap; max-width: 500px; overflow: hidden; text-overflow: ellipsis; \">1:2847985</td></tr>\n",
       "<tr><td style=\"white-space: nowrap; max-width: 500px; overflow: hidden; text-overflow: ellipsis; \">&quot;rs6704012&quot;</td><td style=\"white-space: nowrap; max-width: 500px; overflow: hidden; text-overflow: ellipsis; \">1</td><td style=\"white-space: nowrap; max-width: 500px; overflow: hidden; text-overflow: ellipsis; \">3038530</td><td style=\"white-space: nowrap; max-width: 500px; overflow: hidden; text-overflow: ellipsis; \">&quot;C&quot;</td><td style=\"white-space: nowrap; max-width: 500px; overflow: hidden; text-overflow: ellipsis; \">&quot;T&quot;</td><td style=\"white-space: nowrap; max-width: 500px; overflow: hidden; text-overflow: ellipsis; \">8.42e-03</td><td style=\"white-space: nowrap; max-width: 500px; overflow: hidden; text-overflow: ellipsis; \">&quot;secondary&quot;</td><td style=\"white-space: nowrap; max-width: 500px; overflow: hidden; text-overflow: ellipsis; \">1:3038530</td></tr>\n",
       "<tr><td style=\"white-space: nowrap; max-width: 500px; overflow: hidden; text-overflow: ellipsis; \">&quot;rs10909940&quot;</td><td style=\"white-space: nowrap; max-width: 500px; overflow: hidden; text-overflow: ellipsis; \">1</td><td style=\"white-space: nowrap; max-width: 500px; overflow: hidden; text-overflow: ellipsis; \">3316756</td><td style=\"white-space: nowrap; max-width: 500px; overflow: hidden; text-overflow: ellipsis; \">&quot;A&quot;</td><td style=\"white-space: nowrap; max-width: 500px; overflow: hidden; text-overflow: ellipsis; \">&quot;G&quot;</td><td style=\"white-space: nowrap; max-width: 500px; overflow: hidden; text-overflow: ellipsis; \">1.13e-02</td><td style=\"white-space: nowrap; max-width: 500px; overflow: hidden; text-overflow: ellipsis; \">&quot;lead SNPs&quot;</td><td style=\"white-space: nowrap; max-width: 500px; overflow: hidden; text-overflow: ellipsis; \">1:3316756</td></tr>\n",
       "<tr><td style=\"white-space: nowrap; max-width: 500px; overflow: hidden; text-overflow: ellipsis; \">&quot;rs17404435&quot;</td><td style=\"white-space: nowrap; max-width: 500px; overflow: hidden; text-overflow: ellipsis; \">1</td><td style=\"white-space: nowrap; max-width: 500px; overflow: hidden; text-overflow: ellipsis; \">3766286</td><td style=\"white-space: nowrap; max-width: 500px; overflow: hidden; text-overflow: ellipsis; \">&quot;G&quot;</td><td style=\"white-space: nowrap; max-width: 500px; overflow: hidden; text-overflow: ellipsis; \">&quot;T&quot;</td><td style=\"white-space: nowrap; max-width: 500px; overflow: hidden; text-overflow: ellipsis; \">9.08e-03</td><td style=\"white-space: nowrap; max-width: 500px; overflow: hidden; text-overflow: ellipsis; \">&quot;lead SNPs&quot;</td><td style=\"white-space: nowrap; max-width: 500px; overflow: hidden; text-overflow: ellipsis; \">1:3766286</td></tr>\n",
       "<tr><td style=\"white-space: nowrap; max-width: 500px; overflow: hidden; text-overflow: ellipsis; \">&quot;rs12046884&quot;</td><td style=\"white-space: nowrap; max-width: 500px; overflow: hidden; text-overflow: ellipsis; \">1</td><td style=\"white-space: nowrap; max-width: 500px; overflow: hidden; text-overflow: ellipsis; \">6594561</td><td style=\"white-space: nowrap; max-width: 500px; overflow: hidden; text-overflow: ellipsis; \">&quot;G&quot;</td><td style=\"white-space: nowrap; max-width: 500px; overflow: hidden; text-overflow: ellipsis; \">&quot;A&quot;</td><td style=\"white-space: nowrap; max-width: 500px; overflow: hidden; text-overflow: ellipsis; \">1.50e-02</td><td style=\"white-space: nowrap; max-width: 500px; overflow: hidden; text-overflow: ellipsis; \">&quot;lead SNPs&quot;</td><td style=\"white-space: nowrap; max-width: 500px; overflow: hidden; text-overflow: ellipsis; \">1:6594561</td></tr>\n",
       "<tr><td style=\"white-space: nowrap; max-width: 500px; overflow: hidden; text-overflow: ellipsis; \">&quot;rs28624&quot;</td><td style=\"white-space: nowrap; max-width: 500px; overflow: hidden; text-overflow: ellipsis; \">1</td><td style=\"white-space: nowrap; max-width: 500px; overflow: hidden; text-overflow: ellipsis; \">8084355</td><td style=\"white-space: nowrap; max-width: 500px; overflow: hidden; text-overflow: ellipsis; \">&quot;C&quot;</td><td style=\"white-space: nowrap; max-width: 500px; overflow: hidden; text-overflow: ellipsis; \">&quot;A&quot;</td><td style=\"white-space: nowrap; max-width: 500px; overflow: hidden; text-overflow: ellipsis; \">1.64e-02</td><td style=\"white-space: nowrap; max-width: 500px; overflow: hidden; text-overflow: ellipsis; \">&quot;lead SNPs&quot;</td><td style=\"white-space: nowrap; max-width: 500px; overflow: hidden; text-overflow: ellipsis; \">1:8084355</td></tr>\n",
       "</tbody></table><p style=\"background: #fdd; padding: 0.4em;\">showing top 10 rows</p>\n"
      ],
      "text/plain": [
       "+--------------+----------+--------------+---------------+--------------+\n",
       "| rsID         | chr_name | chr_position | effect_allele | other_allele |\n",
       "+--------------+----------+--------------+---------------+--------------+\n",
       "| str          |    int32 |        int32 | str           | str          |\n",
       "+--------------+----------+--------------+---------------+--------------+\n",
       "| \"rs385039\"   |        1 |      2077409 | \"G\"           | \"A\"          |\n",
       "| \"rs12743493\" |        1 |      2224836 | \"A\"           | \"G\"          |\n",
       "| \"rs2843146\"  |        1 |      2265969 | \"T\"           | \"G\"          |\n",
       "| \"rs4648832\"  |        1 |      2286127 | \"G\"           | \"C\"          |\n",
       "| \"rs16823193\" |        1 |      2847985 | \"T\"           | \"A\"          |\n",
       "| \"rs6704012\"  |        1 |      3038530 | \"C\"           | \"T\"          |\n",
       "| \"rs10909940\" |        1 |      3316756 | \"A\"           | \"G\"          |\n",
       "| \"rs17404435\" |        1 |      3766286 | \"G\"           | \"T\"          |\n",
       "| \"rs12046884\" |        1 |      6594561 | \"G\"           | \"A\"          |\n",
       "| \"rs28624\"    |        1 |      8084355 | \"C\"           | \"A\"          |\n",
       "+--------------+----------+--------------+---------------+--------------+\n",
       "\n",
       "+---------------+---------------------+---------------+\n",
       "| effect_weight | variant_description | locus         |\n",
       "+---------------+---------------------+---------------+\n",
       "|       float64 | str                 | locus<GRCh37> |\n",
       "+---------------+---------------------+---------------+\n",
       "|      2.05e-02 | \"lead SNPs\"         | 1:2077409     |\n",
       "|      1.39e-02 | \"lead SNPs\"         | 1:2224836     |\n",
       "|      5.37e-03 | \"secondary\"         | 1:2265969     |\n",
       "|      9.18e-03 | \"secondary\"         | 1:2286127     |\n",
       "|      1.11e-02 | \"lead SNPs\"         | 1:2847985     |\n",
       "|      8.42e-03 | \"secondary\"         | 1:3038530     |\n",
       "|      1.13e-02 | \"lead SNPs\"         | 1:3316756     |\n",
       "|      9.08e-03 | \"lead SNPs\"         | 1:3766286     |\n",
       "|      1.50e-02 | \"lead SNPs\"         | 1:6594561     |\n",
       "|      1.64e-02 | \"lead SNPs\"         | 1:8084355     |\n",
       "+---------------+---------------------+---------------+\n",
       "showing top 10 rows"
      ]
     },
     "metadata": {},
     "output_type": "display_data"
    }
   ],
   "source": [
    "ht.show()"
   ]
  },
  {
   "cell_type": "code",
   "execution_count": 16,
   "id": "5035d96b",
   "metadata": {},
   "outputs": [
    {
     "name": "stderr",
     "output_type": "stream",
     "text": [
      "\r",
      "[Stage 166:>                                                        (0 + 4) / 4]\r"
     ]
    },
    {
     "data": {
      "text/html": [
       "<table><thead><tr><td style=\"white-space: nowrap; max-width: 500px; overflow: hidden; text-overflow: ellipsis; \" colspan=\"1\"><div style=\"text-align: left;\"></div></td><td style=\"white-space: nowrap; max-width: 500px; overflow: hidden; text-overflow: ellipsis; \" colspan=\"1\"><div style=\"text-align: left;\"></div></td><td style=\"white-space: nowrap; max-width: 500px; overflow: hidden; text-overflow: ellipsis; \" colspan=\"1\"><div style=\"text-align: left;\"></div></td></tr><tr><td style=\"white-space: nowrap; max-width: 500px; overflow: hidden; text-overflow: ellipsis; \" colspan=\"1\"><div style=\"text-align: left;border-bottom: solid 2px #000; padding-bottom: 5px\">s</div></td><td style=\"white-space: nowrap; max-width: 500px; overflow: hidden; text-overflow: ellipsis; \" colspan=\"1\"><div style=\"text-align: left;border-bottom: solid 2px #000; padding-bottom: 5px\">prs</div></td><td style=\"white-space: nowrap; max-width: 500px; overflow: hidden; text-overflow: ellipsis; \" colspan=\"1\"><div style=\"text-align: left;border-bottom: solid 2px #000; padding-bottom: 5px\">n_useful_variants</div></td></tr><tr><td style=\"white-space: nowrap; max-width: 500px; overflow: hidden; text-overflow: ellipsis; text-align: left;\">str</td><td style=\"white-space: nowrap; max-width: 500px; overflow: hidden; text-overflow: ellipsis; text-align: left;\">float64</td><td style=\"white-space: nowrap; max-width: 500px; overflow: hidden; text-overflow: ellipsis; text-align: left;\">int64</td></tr>\n",
       "</thead><tbody><tr><td style=\"white-space: nowrap; max-width: 500px; overflow: hidden; text-overflow: ellipsis; \">&quot;HG00096&quot;</td><td style=\"white-space: nowrap; max-width: 500px; overflow: hidden; text-overflow: ellipsis; \">2.97e-01</td><td style=\"white-space: nowrap; max-width: 500px; overflow: hidden; text-overflow: ellipsis; \">13</td></tr>\n",
       "<tr><td style=\"white-space: nowrap; max-width: 500px; overflow: hidden; text-overflow: ellipsis; \">&quot;HG00099&quot;</td><td style=\"white-space: nowrap; max-width: 500px; overflow: hidden; text-overflow: ellipsis; \">3.27e-01</td><td style=\"white-space: nowrap; max-width: 500px; overflow: hidden; text-overflow: ellipsis; \">13</td></tr>\n",
       "<tr><td style=\"white-space: nowrap; max-width: 500px; overflow: hidden; text-overflow: ellipsis; \">&quot;HG00105&quot;</td><td style=\"white-space: nowrap; max-width: 500px; overflow: hidden; text-overflow: ellipsis; \">2.27e-01</td><td style=\"white-space: nowrap; max-width: 500px; overflow: hidden; text-overflow: ellipsis; \">13</td></tr>\n",
       "<tr><td style=\"white-space: nowrap; max-width: 500px; overflow: hidden; text-overflow: ellipsis; \">&quot;HG00118&quot;</td><td style=\"white-space: nowrap; max-width: 500px; overflow: hidden; text-overflow: ellipsis; \">2.83e-01</td><td style=\"white-space: nowrap; max-width: 500px; overflow: hidden; text-overflow: ellipsis; \">13</td></tr>\n",
       "<tr><td style=\"white-space: nowrap; max-width: 500px; overflow: hidden; text-overflow: ellipsis; \">&quot;HG00129&quot;</td><td style=\"white-space: nowrap; max-width: 500px; overflow: hidden; text-overflow: ellipsis; \">3.16e-01</td><td style=\"white-space: nowrap; max-width: 500px; overflow: hidden; text-overflow: ellipsis; \">13</td></tr>\n",
       "<tr><td style=\"white-space: nowrap; max-width: 500px; overflow: hidden; text-overflow: ellipsis; \">&quot;HG00148&quot;</td><td style=\"white-space: nowrap; max-width: 500px; overflow: hidden; text-overflow: ellipsis; \">2.59e-01</td><td style=\"white-space: nowrap; max-width: 500px; overflow: hidden; text-overflow: ellipsis; \">13</td></tr>\n",
       "<tr><td style=\"white-space: nowrap; max-width: 500px; overflow: hidden; text-overflow: ellipsis; \">&quot;HG00177&quot;</td><td style=\"white-space: nowrap; max-width: 500px; overflow: hidden; text-overflow: ellipsis; \">3.41e-01</td><td style=\"white-space: nowrap; max-width: 500px; overflow: hidden; text-overflow: ellipsis; \">13</td></tr>\n",
       "<tr><td style=\"white-space: nowrap; max-width: 500px; overflow: hidden; text-overflow: ellipsis; \">&quot;HG00182&quot;</td><td style=\"white-space: nowrap; max-width: 500px; overflow: hidden; text-overflow: ellipsis; \">4.03e-01</td><td style=\"white-space: nowrap; max-width: 500px; overflow: hidden; text-overflow: ellipsis; \">13</td></tr>\n",
       "<tr><td style=\"white-space: nowrap; max-width: 500px; overflow: hidden; text-overflow: ellipsis; \">&quot;HG00242&quot;</td><td style=\"white-space: nowrap; max-width: 500px; overflow: hidden; text-overflow: ellipsis; \">3.59e-01</td><td style=\"white-space: nowrap; max-width: 500px; overflow: hidden; text-overflow: ellipsis; \">13</td></tr>\n",
       "<tr><td style=\"white-space: nowrap; max-width: 500px; overflow: hidden; text-overflow: ellipsis; \">&quot;HG00254&quot;</td><td style=\"white-space: nowrap; max-width: 500px; overflow: hidden; text-overflow: ellipsis; \">2.31e-01</td><td style=\"white-space: nowrap; max-width: 500px; overflow: hidden; text-overflow: ellipsis; \">13</td></tr>\n",
       "</tbody></table><p style=\"background: #fdd; padding: 0.4em;\">showing top 10 rows</p>\n"
      ],
      "text/plain": [
       "+-----------+----------+-------------------+\n",
       "| s         |      prs | n_useful_variants |\n",
       "+-----------+----------+-------------------+\n",
       "| str       |  float64 |             int64 |\n",
       "+-----------+----------+-------------------+\n",
       "| \"HG00096\" | 2.97e-01 |                13 |\n",
       "| \"HG00099\" | 3.27e-01 |                13 |\n",
       "| \"HG00105\" | 2.27e-01 |                13 |\n",
       "| \"HG00118\" | 2.83e-01 |                13 |\n",
       "| \"HG00129\" | 3.16e-01 |                13 |\n",
       "| \"HG00148\" | 2.59e-01 |                13 |\n",
       "| \"HG00177\" | 3.41e-01 |                13 |\n",
       "| \"HG00182\" | 4.03e-01 |                13 |\n",
       "| \"HG00242\" | 3.59e-01 |                13 |\n",
       "| \"HG00254\" | 2.31e-01 |                13 |\n",
       "+-----------+----------+-------------------+\n",
       "showing top 10 rows"
      ]
     },
     "metadata": {},
     "output_type": "display_data"
    }
   ],
   "source": [
    "mt = hl.read_matrix_table('resources/1kg.mt')\n",
    "mt = hl.variant_qc(mt)\n",
    "mt = mt.annotate_rows(score=ht[mt.locus])\n",
    "\n",
    "mt = mt.annotate_rows(is_flipped = (\n",
    "    hl.case()\n",
    "    .when(mt.score.effect_allele == mt.alleles[0], True)\n",
    "    .when(mt.score.effect_allele == mt.alleles[1], False)\n",
    "    .or_missing()\n",
    "))\n",
    "mt = mt.annotate_rows(\n",
    "    mean_gt=2 * hl.if_else(mt.is_flipped, mt.variant_qc.AF[0], mt.variant_qc.AF[1])\n",
    ")\n",
    "mt = mt.annotate_entries(\n",
    "    n_effect_alleles = hl.if_else(\n",
    "        mt.is_flipped,\n",
    "        2 - mt.GT.n_alt_alleles(),\n",
    "        mt.GT.n_alt_alleles()\n",
    "    )\n",
    ")\n",
    "mt = mt.annotate_cols(\n",
    "    prs = hl.agg.sum(mt.score.effect_weight * hl.coalesce(mt.n_effect_alleles, mt.mean_gt)),\n",
    "    n_useful_variants = hl.agg.sum(hl.is_defined(mt.score.effect_weight))\n",
    ")\n",
    "mt.cols().show()"
   ]
  },
  {
   "cell_type": "markdown",
   "id": "3e81b294",
   "metadata": {},
   "source": [
    "### LD Score\n",
    "\n",
    "Hail also has utilities for simulating phenotypes, calculating LD Scores, and running LD Score regression."
   ]
  },
  {
   "cell_type": "code",
   "execution_count": 20,
   "id": "790fe80d",
   "metadata": {},
   "outputs": [
    {
     "name": "stdout",
     "output_type": "stream",
     "text": [
      "calculating phenotype\n"
     ]
    },
    {
     "name": "stderr",
     "output_type": "stream",
     "text": [
      "[Stage 174:===================================================>  (96 + 4) / 100]\r"
     ]
    },
    {
     "data": {
      "text/html": [
       "<table><thead><tr><td style=\"white-space: nowrap; max-width: 500px; overflow: hidden; text-overflow: ellipsis; \" colspan=\"1\"><div style=\"text-align: left;\"></div></td><td style=\"white-space: nowrap; max-width: 500px; overflow: hidden; text-overflow: ellipsis; \" colspan=\"1\"><div style=\"text-align: left;\"></div></td></tr><tr><td style=\"white-space: nowrap; max-width: 500px; overflow: hidden; text-overflow: ellipsis; \" colspan=\"1\"><div style=\"text-align: left;border-bottom: solid 2px #000; padding-bottom: 5px\">s</div></td><td style=\"white-space: nowrap; max-width: 500px; overflow: hidden; text-overflow: ellipsis; \" colspan=\"1\"><div style=\"text-align: left;border-bottom: solid 2px #000; padding-bottom: 5px\">y</div></td></tr><tr><td style=\"white-space: nowrap; max-width: 500px; overflow: hidden; text-overflow: ellipsis; text-align: left;\">str</td><td style=\"white-space: nowrap; max-width: 500px; overflow: hidden; text-overflow: ellipsis; text-align: left;\">float64</td></tr>\n",
       "</thead><tbody><tr><td style=\"white-space: nowrap; max-width: 500px; overflow: hidden; text-overflow: ellipsis; \">&quot;CHMI_CHMI3_WGS2&quot;</td><td style=\"white-space: nowrap; max-width: 500px; overflow: hidden; text-overflow: ellipsis; \">-4.61e-01</td></tr>\n",
       "<tr><td style=\"white-space: nowrap; max-width: 500px; overflow: hidden; text-overflow: ellipsis; \">&quot;LP6005441-DNA_F08&quot;</td><td style=\"white-space: nowrap; max-width: 500px; overflow: hidden; text-overflow: ellipsis; \">-1.40e+00</td></tr>\n",
       "<tr><td style=\"white-space: nowrap; max-width: 500px; overflow: hidden; text-overflow: ellipsis; \">&quot;HGDP00843&quot;</td><td style=\"white-space: nowrap; max-width: 500px; overflow: hidden; text-overflow: ellipsis; \">1.59e-01</td></tr>\n",
       "<tr><td style=\"white-space: nowrap; max-width: 500px; overflow: hidden; text-overflow: ellipsis; \">&quot;HGDP00392&quot;</td><td style=\"white-space: nowrap; max-width: 500px; overflow: hidden; text-overflow: ellipsis; \">3.12e-01</td></tr>\n",
       "<tr><td style=\"white-space: nowrap; max-width: 500px; overflow: hidden; text-overflow: ellipsis; \">&quot;LP6005441-DNA_H03&quot;</td><td style=\"white-space: nowrap; max-width: 500px; overflow: hidden; text-overflow: ellipsis; \">-8.34e-01</td></tr>\n",
       "<tr><td style=\"white-space: nowrap; max-width: 500px; overflow: hidden; text-overflow: ellipsis; \">&quot;HGDP00544&quot;</td><td style=\"white-space: nowrap; max-width: 500px; overflow: hidden; text-overflow: ellipsis; \">5.66e-01</td></tr>\n",
       "<tr><td style=\"white-space: nowrap; max-width: 500px; overflow: hidden; text-overflow: ellipsis; \">&quot;HGDP01053&quot;</td><td style=\"white-space: nowrap; max-width: 500px; overflow: hidden; text-overflow: ellipsis; \">5.25e-03</td></tr>\n",
       "<tr><td style=\"white-space: nowrap; max-width: 500px; overflow: hidden; text-overflow: ellipsis; \">&quot;HGDP00191&quot;</td><td style=\"white-space: nowrap; max-width: 500px; overflow: hidden; text-overflow: ellipsis; \">-1.26e-01</td></tr>\n",
       "<tr><td style=\"white-space: nowrap; max-width: 500px; overflow: hidden; text-overflow: ellipsis; \">&quot;HGDP01399&quot;</td><td style=\"white-space: nowrap; max-width: 500px; overflow: hidden; text-overflow: ellipsis; \">2.07e+00</td></tr>\n",
       "<tr><td style=\"white-space: nowrap; max-width: 500px; overflow: hidden; text-overflow: ellipsis; \">&quot;LP6005441-DNA_C05&quot;</td><td style=\"white-space: nowrap; max-width: 500px; overflow: hidden; text-overflow: ellipsis; \">-6.09e-01</td></tr>\n",
       "</tbody></table><p style=\"background: #fdd; padding: 0.4em;\">showing top 10 rows</p>\n"
      ],
      "text/plain": [
       "+---------------------+-----------+\n",
       "| s                   |         y |\n",
       "+---------------------+-----------+\n",
       "| str                 |   float64 |\n",
       "+---------------------+-----------+\n",
       "| \"CHMI_CHMI3_WGS2\"   | -4.61e-01 |\n",
       "| \"LP6005441-DNA_F08\" | -1.40e+00 |\n",
       "| \"HGDP00843\"         |  1.59e-01 |\n",
       "| \"HGDP00392\"         |  3.12e-01 |\n",
       "| \"LP6005441-DNA_H03\" | -8.34e-01 |\n",
       "| \"HGDP00544\"         |  5.66e-01 |\n",
       "| \"HGDP01053\"         |  5.25e-03 |\n",
       "| \"HGDP00191\"         | -1.26e-01 |\n",
       "| \"HGDP01399\"         |  2.07e+00 |\n",
       "| \"LP6005441-DNA_C05\" | -6.09e-01 |\n",
       "+---------------------+-----------+\n",
       "showing top 10 rows"
      ]
     },
     "metadata": {},
     "output_type": "display_data"
    }
   ],
   "source": [
    "mt = hl.read_matrix_table('resources/qced-hgdp-1kg.mt')\n",
    "mt = hl.experimental.ldscsim.simulate_phenotypes(mt, mt.GT, h2=0.5)\n",
    "mt.y.show()"
   ]
  },
  {
   "cell_type": "code",
   "execution_count": 21,
   "id": "4b92af53",
   "metadata": {},
   "outputs": [
    {
     "name": "stderr",
     "output_type": "stream",
     "text": [
      "2023-01-11 14:56:13.312 Hail: INFO: linear_regression_rows: running on 4151 samples for 1 response variable y,\n",
      "    with input variable x, and 1 additional covariate...\n",
      "2023-01-11 14:56:20.075 Hail: INFO: wrote table with 19147 rows in 100 partitions to /tmp/persist_table4gVjdpdl74\n",
      "    Total size: 1.22 MiB\n",
      "    * Rows: 1.22 MiB\n",
      "    * Globals: 11.00 B\n",
      "    * Smallest partition: 0 rows (21.00 B)\n",
      "    * Largest partition:  517 rows (32.20 KiB)\n"
     ]
    }
   ],
   "source": [
    "betas = hl.linear_regression_rows(y=mt.y, x=mt.GT.n_alt_alleles(), covariates=[1.0])"
   ]
  },
  {
   "cell_type": "code",
   "execution_count": 22,
   "id": "61f69f9b",
   "metadata": {},
   "outputs": [
    {
     "data": {
      "text/html": [
       "<table><thead><tr><td style=\"white-space: nowrap; max-width: 500px; overflow: hidden; text-overflow: ellipsis; \" colspan=\"1\"><div style=\"text-align: left;\"></div></td><td style=\"white-space: nowrap; max-width: 500px; overflow: hidden; text-overflow: ellipsis; \" colspan=\"1\"><div style=\"text-align: left;\"></div></td><td style=\"white-space: nowrap; max-width: 500px; overflow: hidden; text-overflow: ellipsis; \" colspan=\"1\"><div style=\"text-align: left;\"></div></td><td style=\"white-space: nowrap; max-width: 500px; overflow: hidden; text-overflow: ellipsis; \" colspan=\"1\"><div style=\"text-align: left;\"></div></td><td style=\"white-space: nowrap; max-width: 500px; overflow: hidden; text-overflow: ellipsis; \" colspan=\"1\"><div style=\"text-align: left;\"></div></td><td style=\"white-space: nowrap; max-width: 500px; overflow: hidden; text-overflow: ellipsis; \" colspan=\"1\"><div style=\"text-align: left;\"></div></td><td style=\"white-space: nowrap; max-width: 500px; overflow: hidden; text-overflow: ellipsis; \" colspan=\"1\"><div style=\"text-align: left;\"></div></td><td style=\"white-space: nowrap; max-width: 500px; overflow: hidden; text-overflow: ellipsis; \" colspan=\"1\"><div style=\"text-align: left;\"></div></td><td style=\"white-space: nowrap; max-width: 500px; overflow: hidden; text-overflow: ellipsis; \" colspan=\"1\"><div style=\"text-align: left;\"></div></td></tr><tr><td style=\"white-space: nowrap; max-width: 500px; overflow: hidden; text-overflow: ellipsis; \" colspan=\"1\"><div style=\"text-align: left;border-bottom: solid 2px #000; padding-bottom: 5px\">locus</div></td><td style=\"white-space: nowrap; max-width: 500px; overflow: hidden; text-overflow: ellipsis; \" colspan=\"1\"><div style=\"text-align: left;border-bottom: solid 2px #000; padding-bottom: 5px\">alleles</div></td><td style=\"white-space: nowrap; max-width: 500px; overflow: hidden; text-overflow: ellipsis; \" colspan=\"1\"><div style=\"text-align: left;border-bottom: solid 2px #000; padding-bottom: 5px\">n</div></td><td style=\"white-space: nowrap; max-width: 500px; overflow: hidden; text-overflow: ellipsis; \" colspan=\"1\"><div style=\"text-align: left;border-bottom: solid 2px #000; padding-bottom: 5px\">sum_x</div></td><td style=\"white-space: nowrap; max-width: 500px; overflow: hidden; text-overflow: ellipsis; \" colspan=\"1\"><div style=\"text-align: left;border-bottom: solid 2px #000; padding-bottom: 5px\">y_transpose_x</div></td><td style=\"white-space: nowrap; max-width: 500px; overflow: hidden; text-overflow: ellipsis; \" colspan=\"1\"><div style=\"text-align: left;border-bottom: solid 2px #000; padding-bottom: 5px\">beta</div></td><td style=\"white-space: nowrap; max-width: 500px; overflow: hidden; text-overflow: ellipsis; \" colspan=\"1\"><div style=\"text-align: left;border-bottom: solid 2px #000; padding-bottom: 5px\">standard_error</div></td><td style=\"white-space: nowrap; max-width: 500px; overflow: hidden; text-overflow: ellipsis; \" colspan=\"1\"><div style=\"text-align: left;border-bottom: solid 2px #000; padding-bottom: 5px\">t_stat</div></td><td style=\"white-space: nowrap; max-width: 500px; overflow: hidden; text-overflow: ellipsis; \" colspan=\"1\"><div style=\"text-align: left;border-bottom: solid 2px #000; padding-bottom: 5px\">p_value</div></td></tr><tr><td style=\"white-space: nowrap; max-width: 500px; overflow: hidden; text-overflow: ellipsis; text-align: left;\">locus&lt;GRCh38&gt;</td><td style=\"white-space: nowrap; max-width: 500px; overflow: hidden; text-overflow: ellipsis; text-align: left;\">array&lt;str&gt;</td><td style=\"white-space: nowrap; max-width: 500px; overflow: hidden; text-overflow: ellipsis; text-align: left;\">int32</td><td style=\"white-space: nowrap; max-width: 500px; overflow: hidden; text-overflow: ellipsis; text-align: left;\">float64</td><td style=\"white-space: nowrap; max-width: 500px; overflow: hidden; text-overflow: ellipsis; text-align: left;\">float64</td><td style=\"white-space: nowrap; max-width: 500px; overflow: hidden; text-overflow: ellipsis; text-align: left;\">float64</td><td style=\"white-space: nowrap; max-width: 500px; overflow: hidden; text-overflow: ellipsis; text-align: left;\">float64</td><td style=\"white-space: nowrap; max-width: 500px; overflow: hidden; text-overflow: ellipsis; text-align: left;\">float64</td><td style=\"white-space: nowrap; max-width: 500px; overflow: hidden; text-overflow: ellipsis; text-align: left;\">float64</td></tr>\n",
       "</thead><tbody><tr><td style=\"white-space: nowrap; max-width: 500px; overflow: hidden; text-overflow: ellipsis; \">chr1:14464</td><td style=\"white-space: nowrap; max-width: 500px; overflow: hidden; text-overflow: ellipsis; \">[&quot;A&quot;,&quot;T&quot;]</td><td style=\"white-space: nowrap; max-width: 500px; overflow: hidden; text-overflow: ellipsis; \">4151</td><td style=\"white-space: nowrap; max-width: 500px; overflow: hidden; text-overflow: ellipsis; \">9.99e+02</td><td style=\"white-space: nowrap; max-width: 500px; overflow: hidden; text-overflow: ellipsis; \">2.75e+01</td><td style=\"white-space: nowrap; max-width: 500px; overflow: hidden; text-overflow: ellipsis; \">5.15e-02</td><td style=\"white-space: nowrap; max-width: 500px; overflow: hidden; text-overflow: ellipsis; \">3.52e-02</td><td style=\"white-space: nowrap; max-width: 500px; overflow: hidden; text-overflow: ellipsis; \">1.46e+00</td><td style=\"white-space: nowrap; max-width: 500px; overflow: hidden; text-overflow: ellipsis; \">1.43e-01</td></tr>\n",
       "<tr><td style=\"white-space: nowrap; max-width: 500px; overflow: hidden; text-overflow: ellipsis; \">chr1:16298</td><td style=\"white-space: nowrap; max-width: 500px; overflow: hidden; text-overflow: ellipsis; \">[&quot;C&quot;,&quot;T&quot;]</td><td style=\"white-space: nowrap; max-width: 500px; overflow: hidden; text-overflow: ellipsis; \">4151</td><td style=\"white-space: nowrap; max-width: 500px; overflow: hidden; text-overflow: ellipsis; \">4.45e+03</td><td style=\"white-space: nowrap; max-width: 500px; overflow: hidden; text-overflow: ellipsis; \">-1.15e+02</td><td style=\"white-space: nowrap; max-width: 500px; overflow: hidden; text-overflow: ellipsis; \">-1.11e-01</td><td style=\"white-space: nowrap; max-width: 500px; overflow: hidden; text-overflow: ellipsis; \">4.04e-02</td><td style=\"white-space: nowrap; max-width: 500px; overflow: hidden; text-overflow: ellipsis; \">-2.75e+00</td><td style=\"white-space: nowrap; max-width: 500px; overflow: hidden; text-overflow: ellipsis; \">6.04e-03</td></tr>\n",
       "<tr><td style=\"white-space: nowrap; max-width: 500px; overflow: hidden; text-overflow: ellipsis; \">chr1:16378</td><td style=\"white-space: nowrap; max-width: 500px; overflow: hidden; text-overflow: ellipsis; \">[&quot;T&quot;,&quot;C&quot;]</td><td style=\"white-space: nowrap; max-width: 500px; overflow: hidden; text-overflow: ellipsis; \">4151</td><td style=\"white-space: nowrap; max-width: 500px; overflow: hidden; text-overflow: ellipsis; \">4.04e+03</td><td style=\"white-space: nowrap; max-width: 500px; overflow: hidden; text-overflow: ellipsis; \">-7.14e+01</td><td style=\"white-space: nowrap; max-width: 500px; overflow: hidden; text-overflow: ellipsis; \">-8.81e-02</td><td style=\"white-space: nowrap; max-width: 500px; overflow: hidden; text-overflow: ellipsis; \">5.77e-02</td><td style=\"white-space: nowrap; max-width: 500px; overflow: hidden; text-overflow: ellipsis; \">-1.53e+00</td><td style=\"white-space: nowrap; max-width: 500px; overflow: hidden; text-overflow: ellipsis; \">1.27e-01</td></tr>\n",
       "<tr><td style=\"white-space: nowrap; max-width: 500px; overflow: hidden; text-overflow: ellipsis; \">chr1:16487</td><td style=\"white-space: nowrap; max-width: 500px; overflow: hidden; text-overflow: ellipsis; \">[&quot;T&quot;,&quot;C&quot;]</td><td style=\"white-space: nowrap; max-width: 500px; overflow: hidden; text-overflow: ellipsis; \">4151</td><td style=\"white-space: nowrap; max-width: 500px; overflow: hidden; text-overflow: ellipsis; \">7.06e+02</td><td style=\"white-space: nowrap; max-width: 500px; overflow: hidden; text-overflow: ellipsis; \">-5.18e+01</td><td style=\"white-space: nowrap; max-width: 500px; overflow: hidden; text-overflow: ellipsis; \">-7.45e-02</td><td style=\"white-space: nowrap; max-width: 500px; overflow: hidden; text-overflow: ellipsis; \">4.01e-02</td><td style=\"white-space: nowrap; max-width: 500px; overflow: hidden; text-overflow: ellipsis; \">-1.86e+00</td><td style=\"white-space: nowrap; max-width: 500px; overflow: hidden; text-overflow: ellipsis; \">6.30e-02</td></tr>\n",
       "<tr><td style=\"white-space: nowrap; max-width: 500px; overflow: hidden; text-overflow: ellipsis; \">chr1:16495</td><td style=\"white-space: nowrap; max-width: 500px; overflow: hidden; text-overflow: ellipsis; \">[&quot;G&quot;,&quot;C&quot;]</td><td style=\"white-space: nowrap; max-width: 500px; overflow: hidden; text-overflow: ellipsis; \">4151</td><td style=\"white-space: nowrap; max-width: 500px; overflow: hidden; text-overflow: ellipsis; \">4.08e+03</td><td style=\"white-space: nowrap; max-width: 500px; overflow: hidden; text-overflow: ellipsis; \">-5.53e+01</td><td style=\"white-space: nowrap; max-width: 500px; overflow: hidden; text-overflow: ellipsis; \">-1.22e-01</td><td style=\"white-space: nowrap; max-width: 500px; overflow: hidden; text-overflow: ellipsis; \">1.18e-01</td><td style=\"white-space: nowrap; max-width: 500px; overflow: hidden; text-overflow: ellipsis; \">-1.03e+00</td><td style=\"white-space: nowrap; max-width: 500px; overflow: hidden; text-overflow: ellipsis; \">3.02e-01</td></tr>\n",
       "<tr><td style=\"white-space: nowrap; max-width: 500px; overflow: hidden; text-overflow: ellipsis; \">chr1:16841</td><td style=\"white-space: nowrap; max-width: 500px; overflow: hidden; text-overflow: ellipsis; \">[&quot;G&quot;,&quot;T&quot;]</td><td style=\"white-space: nowrap; max-width: 500px; overflow: hidden; text-overflow: ellipsis; \">4151</td><td style=\"white-space: nowrap; max-width: 500px; overflow: hidden; text-overflow: ellipsis; \">5.01e+02</td><td style=\"white-space: nowrap; max-width: 500px; overflow: hidden; text-overflow: ellipsis; \">-7.69e+00</td><td style=\"white-space: nowrap; max-width: 500px; overflow: hidden; text-overflow: ellipsis; \">-4.44e-03</td><td style=\"white-space: nowrap; max-width: 500px; overflow: hidden; text-overflow: ellipsis; \">4.68e-02</td><td style=\"white-space: nowrap; max-width: 500px; overflow: hidden; text-overflow: ellipsis; \">-9.48e-02</td><td style=\"white-space: nowrap; max-width: 500px; overflow: hidden; text-overflow: ellipsis; \">9.24e-01</td></tr>\n",
       "<tr><td style=\"white-space: nowrap; max-width: 500px; overflow: hidden; text-overflow: ellipsis; \">chr1:17020</td><td style=\"white-space: nowrap; max-width: 500px; overflow: hidden; text-overflow: ellipsis; \">[&quot;G&quot;,&quot;A&quot;]</td><td style=\"white-space: nowrap; max-width: 500px; overflow: hidden; text-overflow: ellipsis; \">4151</td><td style=\"white-space: nowrap; max-width: 500px; overflow: hidden; text-overflow: ellipsis; \">1.76e+03</td><td style=\"white-space: nowrap; max-width: 500px; overflow: hidden; text-overflow: ellipsis; \">-2.28e+01</td><td style=\"white-space: nowrap; max-width: 500px; overflow: hidden; text-overflow: ellipsis; \">-2.58e-03</td><td style=\"white-space: nowrap; max-width: 500px; overflow: hidden; text-overflow: ellipsis; \">3.11e-02</td><td style=\"white-space: nowrap; max-width: 500px; overflow: hidden; text-overflow: ellipsis; \">-8.30e-02</td><td style=\"white-space: nowrap; max-width: 500px; overflow: hidden; text-overflow: ellipsis; \">9.34e-01</td></tr>\n",
       "<tr><td style=\"white-space: nowrap; max-width: 500px; overflow: hidden; text-overflow: ellipsis; \">chr1:17147</td><td style=\"white-space: nowrap; max-width: 500px; overflow: hidden; text-overflow: ellipsis; \">[&quot;G&quot;,&quot;A&quot;]</td><td style=\"white-space: nowrap; max-width: 500px; overflow: hidden; text-overflow: ellipsis; \">4151</td><td style=\"white-space: nowrap; max-width: 500px; overflow: hidden; text-overflow: ellipsis; \">4.73e+02</td><td style=\"white-space: nowrap; max-width: 500px; overflow: hidden; text-overflow: ellipsis; \">-3.86e+00</td><td style=\"white-space: nowrap; max-width: 500px; overflow: hidden; text-overflow: ellipsis; \">3.97e-03</td><td style=\"white-space: nowrap; max-width: 500px; overflow: hidden; text-overflow: ellipsis; \">4.84e-02</td><td style=\"white-space: nowrap; max-width: 500px; overflow: hidden; text-overflow: ellipsis; \">8.20e-02</td><td style=\"white-space: nowrap; max-width: 500px; overflow: hidden; text-overflow: ellipsis; \">9.35e-01</td></tr>\n",
       "<tr><td style=\"white-space: nowrap; max-width: 500px; overflow: hidden; text-overflow: ellipsis; \">chr1:17385</td><td style=\"white-space: nowrap; max-width: 500px; overflow: hidden; text-overflow: ellipsis; \">[&quot;G&quot;,&quot;A&quot;]</td><td style=\"white-space: nowrap; max-width: 500px; overflow: hidden; text-overflow: ellipsis; \">4151</td><td style=\"white-space: nowrap; max-width: 500px; overflow: hidden; text-overflow: ellipsis; \">1.86e+03</td><td style=\"white-space: nowrap; max-width: 500px; overflow: hidden; text-overflow: ellipsis; \">-1.24e+01</td><td style=\"white-space: nowrap; max-width: 500px; overflow: hidden; text-overflow: ellipsis; \">9.05e-03</td><td style=\"white-space: nowrap; max-width: 500px; overflow: hidden; text-overflow: ellipsis; \">3.06e-02</td><td style=\"white-space: nowrap; max-width: 500px; overflow: hidden; text-overflow: ellipsis; \">2.96e-01</td><td style=\"white-space: nowrap; max-width: 500px; overflow: hidden; text-overflow: ellipsis; \">7.68e-01</td></tr>\n",
       "<tr><td style=\"white-space: nowrap; max-width: 500px; overflow: hidden; text-overflow: ellipsis; \">chr1:17407</td><td style=\"white-space: nowrap; max-width: 500px; overflow: hidden; text-overflow: ellipsis; \">[&quot;G&quot;,&quot;A&quot;]</td><td style=\"white-space: nowrap; max-width: 500px; overflow: hidden; text-overflow: ellipsis; \">4151</td><td style=\"white-space: nowrap; max-width: 500px; overflow: hidden; text-overflow: ellipsis; \">5.38e+02</td><td style=\"white-space: nowrap; max-width: 500px; overflow: hidden; text-overflow: ellipsis; \">1.80e+01</td><td style=\"white-space: nowrap; max-width: 500px; overflow: hidden; text-overflow: ellipsis; \">5.23e-02</td><td style=\"white-space: nowrap; max-width: 500px; overflow: hidden; text-overflow: ellipsis; \">4.51e-02</td><td style=\"white-space: nowrap; max-width: 500px; overflow: hidden; text-overflow: ellipsis; \">1.16e+00</td><td style=\"white-space: nowrap; max-width: 500px; overflow: hidden; text-overflow: ellipsis; \">2.46e-01</td></tr>\n",
       "</tbody></table><p style=\"background: #fdd; padding: 0.4em;\">showing top 10 rows</p>\n"
      ],
      "text/plain": [
       "+---------------+------------+-------+----------+---------------+-----------+\n",
       "| locus         | alleles    |     n |    sum_x | y_transpose_x |      beta |\n",
       "+---------------+------------+-------+----------+---------------+-----------+\n",
       "| locus<GRCh38> | array<str> | int32 |  float64 |       float64 |   float64 |\n",
       "+---------------+------------+-------+----------+---------------+-----------+\n",
       "| chr1:14464    | [\"A\",\"T\"]  |  4151 | 9.99e+02 |      2.75e+01 |  5.15e-02 |\n",
       "| chr1:16298    | [\"C\",\"T\"]  |  4151 | 4.45e+03 |     -1.15e+02 | -1.11e-01 |\n",
       "| chr1:16378    | [\"T\",\"C\"]  |  4151 | 4.04e+03 |     -7.14e+01 | -8.81e-02 |\n",
       "| chr1:16487    | [\"T\",\"C\"]  |  4151 | 7.06e+02 |     -5.18e+01 | -7.45e-02 |\n",
       "| chr1:16495    | [\"G\",\"C\"]  |  4151 | 4.08e+03 |     -5.53e+01 | -1.22e-01 |\n",
       "| chr1:16841    | [\"G\",\"T\"]  |  4151 | 5.01e+02 |     -7.69e+00 | -4.44e-03 |\n",
       "| chr1:17020    | [\"G\",\"A\"]  |  4151 | 1.76e+03 |     -2.28e+01 | -2.58e-03 |\n",
       "| chr1:17147    | [\"G\",\"A\"]  |  4151 | 4.73e+02 |     -3.86e+00 |  3.97e-03 |\n",
       "| chr1:17385    | [\"G\",\"A\"]  |  4151 | 1.86e+03 |     -1.24e+01 |  9.05e-03 |\n",
       "| chr1:17407    | [\"G\",\"A\"]  |  4151 | 5.38e+02 |      1.80e+01 |  5.23e-02 |\n",
       "+---------------+------------+-------+----------+---------------+-----------+\n",
       "\n",
       "+----------------+-----------+----------+\n",
       "| standard_error |    t_stat |  p_value |\n",
       "+----------------+-----------+----------+\n",
       "|        float64 |   float64 |  float64 |\n",
       "+----------------+-----------+----------+\n",
       "|       3.52e-02 |  1.46e+00 | 1.43e-01 |\n",
       "|       4.04e-02 | -2.75e+00 | 6.04e-03 |\n",
       "|       5.77e-02 | -1.53e+00 | 1.27e-01 |\n",
       "|       4.01e-02 | -1.86e+00 | 6.30e-02 |\n",
       "|       1.18e-01 | -1.03e+00 | 3.02e-01 |\n",
       "|       4.68e-02 | -9.48e-02 | 9.24e-01 |\n",
       "|       3.11e-02 | -8.30e-02 | 9.34e-01 |\n",
       "|       4.84e-02 |  8.20e-02 | 9.35e-01 |\n",
       "|       3.06e-02 |  2.96e-01 | 7.68e-01 |\n",
       "|       4.51e-02 |  1.16e+00 | 2.46e-01 |\n",
       "+----------------+-----------+----------+\n",
       "showing top 10 rows"
      ]
     },
     "metadata": {},
     "output_type": "display_data"
    }
   ],
   "source": [
    "betas.show()"
   ]
  },
  {
   "cell_type": "code",
   "execution_count": 28,
   "id": "3fad75fb",
   "metadata": {},
   "outputs": [],
   "source": [
    "?hl.experimental.ld_score"
   ]
  },
  {
   "cell_type": "code",
   "execution_count": 23,
   "id": "37e82017",
   "metadata": {},
   "outputs": [
    {
     "name": "stderr",
     "output_type": "stream",
     "text": [
      "2023-01-11 14:56:36.015 Hail: INFO: Wrote all 10 blocks of 19147 x 4151 matrix with block size 4096.\n",
      "2023-01-11 14:57:01.615 Hail: INFO: wrote matrix with 19147 rows and 19147 columns as 15 blocks of size 4096 to /tmp/xSPnI5xVVcn6XeJAiRzWim\n",
      "2023-01-11 14:57:02.961 Hail: INFO: wrote matrix with 19147 rows and 1 column as 5 blocks of size 4096 to /tmp/UNmxNYTaoSg6YI5sKo7HFZ\n",
      "2023-01-11 14:57:03.654 Hail: INFO: merging 5 files totalling 343.7K...\n",
      "2023-01-11 14:57:03.683 Hail: INFO: while writing:\n",
      "    /tmp/4fGMYYqi3jxceDnVUkwocF\n",
      "  merge time: 27.676ms\n",
      "2023-01-11 14:57:04.704 Hail: INFO: wrote table with 19147 rows in 1 partition to /tmp/persist_tablekM4gtc1o6v\n",
      "2023-01-11 14:57:05.116 Hail: INFO: Reading table to impute column types\n",
      "2023-01-11 14:57:05.619 Hail: INFO: Finished type imputation\n",
      "  Loading field 'f0' as type float64 (imputed)\n",
      "2023-01-11 14:57:13.436 Hail: INFO: Coerced sorted dataset======>(99 + 1) / 100]\n",
      "2023-01-11 14:57:14.284 Hail: INFO: Coerced sorted dataset\n",
      "2023-01-11 14:57:16.084 Hail: INFO: Coerced sorted dataset=======>(98 + 1) / 99]\n",
      "2023-01-11 14:57:21.470 Hail: INFO: Coerced sorted dataset=====> (97 + 3) / 100]\n",
      "2023-01-11 14:57:21.761 Hail: INFO: Coerced sorted dataset\n",
      "2023-01-11 14:57:23.476 Hail: INFO: Coerced sorted dataset=======>(98 + 1) / 99]\n",
      "2023-01-11 14:57:30.351 Hail: INFO: Coerced sorted dataset======>(99 + 1) / 100]\n",
      "2023-01-11 14:57:37.645 Hail: INFO: wrote table with 19147 rows in 99 partitions to /tmp/45HgVrxdz2jNKMb2Oh548I\n",
      "2023-01-11 14:57:42.519 Hail: INFO: Coerced sorted dataset       (80 + 11) / 99]\n",
      "2023-01-11 14:57:48.252 Hail: INFO: wrote matrix table with 19147 rows and 1 column in 99 partitions to /tmp/LN7LSBAedKeZfckE4lTDVX\n",
      "2023-01-11 14:57:59.662 Hail: INFO: wrote matrix table with 19147 rows and 1 column in 99 partitions to /tmp/R5jzznbfUhwZAM1eKkSVmx\n",
      "2023-01-11 14:58:01.047 Hail: WARN: linreg: model appears to have no intercept covariate.\n",
      "    To include an intercept, add 1.0 to the list of covariates.\n",
      "2023-01-11 14:58:01.232 Hail: WARN: linreg: model appears to have no intercept covariate.\n",
      "    To include an intercept, add 1.0 to the list of covariates.\n",
      "2023-01-11 14:58:01.424 Hail: WARN: linreg: model appears to have no intercept covariate.\n",
      "    To include an intercept, add 1.0 to the list of covariates.\n",
      "2023-01-11 14:58:01.642 Hail: WARN: linreg: model appears to have no intercept covariate.\n",
      "    To include an intercept, add 1.0 to the list of covariates.\n",
      "2023-01-11 14:58:26.614 Hail: INFO: Coerced sorted dataset=====>  (95 + 4) / 99]\n",
      "2023-01-11 14:58:27.312 Hail: INFO: wrote table with 1 row in 1 partition to /tmp/DPH9qcc5CuamPIl3UjzNKr\n"
     ]
    }
   ],
   "source": [
    "ht_scores = hl.experimental.ld_score(entry_expr=mt.GT.n_alt_alleles(),\n",
    "                                     locus_expr=mt.locus,\n",
    "                                     radius=1e6)\n",
    "\n",
    "\n",
    "betas = betas.annotate(z_score = betas.beta / betas.standard_error)\n",
    "betas = betas.annotate(chi_sq_statistic = betas.z_score ** 2)\n",
    "\n",
    "ht = mt.rows()\n",
    "\n",
    "ht_results = hl.experimental.ld_score_regression(\n",
    "    weight_expr=ht_scores[ht.locus].univariate,\n",
    "    ld_score_expr=ht_scores[ht.locus].univariate,\n",
    "    chi_sq_exprs=betas[ht.key].chi_sq_statistic,\n",
    "    n_samples_exprs=betas[ht.key].n\n",
    ")"
   ]
  },
  {
   "cell_type": "code",
   "execution_count": 25,
   "id": "7bf54ffb",
   "metadata": {},
   "outputs": [
    {
     "name": "stderr",
     "output_type": "stream",
     "text": [
      "2023-01-11 14:58:29.997 Hail: INFO: wrote table with 1 row in 1 partition to output/ldsr.ht\n"
     ]
    },
    {
     "data": {
      "text/html": [
       "<table><thead><tr><td style=\"white-space: nowrap; max-width: 500px; overflow: hidden; text-overflow: ellipsis; \" colspan=\"1\"><div style=\"text-align: left;\"></div></td><td style=\"white-space: nowrap; max-width: 500px; overflow: hidden; text-overflow: ellipsis; \" colspan=\"1\"><div style=\"text-align: left;\"></div></td><td style=\"white-space: nowrap; max-width: 500px; overflow: hidden; text-overflow: ellipsis; \" colspan=\"2\"><div style=\"text-align: left;\"></div></td><td style=\"white-space: nowrap; max-width: 500px; overflow: hidden; text-overflow: ellipsis; \" colspan=\"2\"><div style=\"text-align: left;\"></div></td></tr><tr><td style=\"white-space: nowrap; max-width: 500px; overflow: hidden; text-overflow: ellipsis; \" colspan=\"1\"><div style=\"text-align: left;\"></div></td><td style=\"white-space: nowrap; max-width: 500px; overflow: hidden; text-overflow: ellipsis; \" colspan=\"1\"><div style=\"text-align: left;\"></div></td><td style=\"white-space: nowrap; max-width: 500px; overflow: hidden; text-overflow: ellipsis; \" colspan=\"2\"><div style=\"text-align: left;border-bottom: solid 2px #000; padding-bottom: 5px\">intercept</div></td><td style=\"white-space: nowrap; max-width: 500px; overflow: hidden; text-overflow: ellipsis; \" colspan=\"2\"><div style=\"text-align: left;border-bottom: solid 2px #000; padding-bottom: 5px\">snp_heritability</div></td></tr><tr><td style=\"white-space: nowrap; max-width: 500px; overflow: hidden; text-overflow: ellipsis; \" colspan=\"1\"><div style=\"text-align: left;border-bottom: solid 2px #000; padding-bottom: 5px\">phenotype</div></td><td style=\"white-space: nowrap; max-width: 500px; overflow: hidden; text-overflow: ellipsis; \" colspan=\"1\"><div style=\"text-align: left;border-bottom: solid 2px #000; padding-bottom: 5px\">mean_chi_sq</div></td><td style=\"white-space: nowrap; max-width: 500px; overflow: hidden; text-overflow: ellipsis; \" colspan=\"1\"><div style=\"text-align: left;border-bottom: solid 2px #000; padding-bottom: 5px\">estimate</div></td><td style=\"white-space: nowrap; max-width: 500px; overflow: hidden; text-overflow: ellipsis; \" colspan=\"1\"><div style=\"text-align: left;border-bottom: solid 2px #000; padding-bottom: 5px\">standard_error</div></td><td style=\"white-space: nowrap; max-width: 500px; overflow: hidden; text-overflow: ellipsis; \" colspan=\"1\"><div style=\"text-align: left;border-bottom: solid 2px #000; padding-bottom: 5px\">estimate</div></td><td style=\"white-space: nowrap; max-width: 500px; overflow: hidden; text-overflow: ellipsis; \" colspan=\"1\"><div style=\"text-align: left;border-bottom: solid 2px #000; padding-bottom: 5px\">standard_error</div></td></tr><tr><td style=\"white-space: nowrap; max-width: 500px; overflow: hidden; text-overflow: ellipsis; text-align: left;\">int32</td><td style=\"white-space: nowrap; max-width: 500px; overflow: hidden; text-overflow: ellipsis; text-align: left;\">float64</td><td style=\"white-space: nowrap; max-width: 500px; overflow: hidden; text-overflow: ellipsis; text-align: left;\">float64</td><td style=\"white-space: nowrap; max-width: 500px; overflow: hidden; text-overflow: ellipsis; text-align: left;\">float64</td><td style=\"white-space: nowrap; max-width: 500px; overflow: hidden; text-overflow: ellipsis; text-align: left;\">float64</td><td style=\"white-space: nowrap; max-width: 500px; overflow: hidden; text-overflow: ellipsis; text-align: left;\">float64</td></tr>\n",
       "</thead><tbody><tr><td style=\"white-space: nowrap; max-width: 500px; overflow: hidden; text-overflow: ellipsis; \">0</td><td style=\"white-space: nowrap; max-width: 500px; overflow: hidden; text-overflow: ellipsis; \">1.08e+01</td><td style=\"white-space: nowrap; max-width: 500px; overflow: hidden; text-overflow: ellipsis; \">1.53e+00</td><td style=\"white-space: nowrap; max-width: 500px; overflow: hidden; text-overflow: ellipsis; \">1.89e-01</td><td style=\"white-space: nowrap; max-width: 500px; overflow: hidden; text-overflow: ellipsis; \">3.45e-01</td><td style=\"white-space: nowrap; max-width: 500px; overflow: hidden; text-overflow: ellipsis; \">2.58e-02</td></tr>\n",
       "</tbody></table>"
      ],
      "text/plain": [
       "+-----------+-------------+--------------------+--------------------------+\n",
       "| phenotype | mean_chi_sq | intercept.estimate | intercept.standard_error |\n",
       "+-----------+-------------+--------------------+--------------------------+\n",
       "|     int32 |     float64 |            float64 |                  float64 |\n",
       "+-----------+-------------+--------------------+--------------------------+\n",
       "|         0 |    1.08e+01 |           1.53e+00 |                 1.89e-01 |\n",
       "+-----------+-------------+--------------------+--------------------------+\n",
       "\n",
       "+---------------------------+---------------------------------+\n",
       "| snp_heritability.estimate | snp_heritability.standard_error |\n",
       "+---------------------------+---------------------------------+\n",
       "|                   float64 |                         float64 |\n",
       "+---------------------------+---------------------------------+\n",
       "|                  3.45e-01 |                        2.58e-02 |\n",
       "+---------------------------+---------------------------------+"
      ]
     },
     "metadata": {},
     "output_type": "display_data"
    }
   ],
   "source": [
    "ht_results.write('output/ldsr.ht', overwrite=True)\n",
    "ldsr = hl.read_table('output/ldsr.ht')\n",
    "ldsr.show()"
   ]
  },
  {
   "cell_type": "markdown",
   "id": "900d215a",
   "metadata": {},
   "source": [
    "### Annotation Database\n",
    "\n",
    "The Hail team maintains a database of common variant annotations in Google Cloud Storage and S3. These commands will only work when executed inside a cluster with access to Google Cloud Storage or S3.\n",
    "\n",
    "A full list of available annotations can be found [in the Hail docs](https://hail.is/docs/0.2/annotation_database_ui.html)."
   ]
  },
  {
   "cell_type": "code",
   "execution_count": null,
   "id": "20d25261",
   "metadata": {
    "scrolled": false
   },
   "outputs": [],
   "source": [
    "mt = hl.read_matrix_table('resources/1kg.mt')\n",
    "\n",
    "db = hl.experimental.DB(region='us', cloud='aws')\n",
    "mt = db.annotate_rows_db(\n",
    "    mt,\n",
    "    'CADD', 'GTEx_eQTL_Adipose_Subcutaneous_all_snp_gene_associations', 'gnomad_ld_scores_afr'\n",
    ")\n",
    "mt.rows().show()"
   ]
  },
  {
   "cell_type": "markdown",
   "id": "364a4d0d",
   "metadata": {},
   "source": [
    "### VEP\n",
    "\n",
    "Hail also supports VEP annotation. This requires a specially configured cluster."
   ]
  },
  {
   "cell_type": "code",
   "execution_count": null,
   "id": "128ba170",
   "metadata": {},
   "outputs": [],
   "source": [
    "mt = hl.read_matrix_table('resources/1kg.mt')\n",
    "mt = hl.vep(mt)\n",
    "mt.vep.show()"
   ]
  },
  {
   "cell_type": "code",
   "execution_count": 26,
   "id": "2d81f2bc",
   "metadata": {},
   "outputs": [
    {
     "data": {
      "text/html": [
       "<table><thead><tr><td style=\"white-space: nowrap; max-width: 500px; overflow: hidden; text-overflow: ellipsis; \" colspan=\"1\"><div style=\"text-align: left;\"></div></td><td style=\"white-space: nowrap; max-width: 500px; overflow: hidden; text-overflow: ellipsis; \" colspan=\"1\"><div style=\"text-align: left;\"></div></td><td style=\"white-space: nowrap; max-width: 500px; overflow: hidden; text-overflow: ellipsis; \" colspan=\"16\"><div style=\"text-align: left;\"></div></td></tr><tr><td style=\"white-space: nowrap; max-width: 500px; overflow: hidden; text-overflow: ellipsis; \" colspan=\"1\"><div style=\"text-align: left;\"></div></td><td style=\"white-space: nowrap; max-width: 500px; overflow: hidden; text-overflow: ellipsis; \" colspan=\"1\"><div style=\"text-align: left;\"></div></td><td style=\"white-space: nowrap; max-width: 500px; overflow: hidden; text-overflow: ellipsis; \" colspan=\"16\"><div style=\"text-align: left;border-bottom: solid 2px #000; padding-bottom: 5px\">vep</div></td></tr><tr><td style=\"white-space: nowrap; max-width: 500px; overflow: hidden; text-overflow: ellipsis; \" colspan=\"1\"><div style=\"text-align: left;border-bottom: solid 2px #000; padding-bottom: 5px\">locus</div></td><td style=\"white-space: nowrap; max-width: 500px; overflow: hidden; text-overflow: ellipsis; \" colspan=\"1\"><div style=\"text-align: left;border-bottom: solid 2px #000; padding-bottom: 5px\">alleles</div></td><td style=\"white-space: nowrap; max-width: 500px; overflow: hidden; text-overflow: ellipsis; \" colspan=\"1\"><div style=\"text-align: left;border-bottom: solid 2px #000; padding-bottom: 5px\">assembly_name</div></td><td style=\"white-space: nowrap; max-width: 500px; overflow: hidden; text-overflow: ellipsis; \" colspan=\"1\"><div style=\"text-align: left;border-bottom: solid 2px #000; padding-bottom: 5px\">allele_string</div></td><td style=\"white-space: nowrap; max-width: 500px; overflow: hidden; text-overflow: ellipsis; \" colspan=\"1\"><div style=\"text-align: left;border-bottom: solid 2px #000; padding-bottom: 5px\">ancestral</div></td><td style=\"white-space: nowrap; max-width: 500px; overflow: hidden; text-overflow: ellipsis; \" colspan=\"1\"><div style=\"text-align: left;border-bottom: solid 2px #000; padding-bottom: 5px\">context</div></td><td style=\"white-space: nowrap; max-width: 500px; overflow: hidden; text-overflow: ellipsis; \" colspan=\"1\"><div style=\"text-align: left;border-bottom: solid 2px #000; padding-bottom: 5px\">end</div></td><td style=\"white-space: nowrap; max-width: 500px; overflow: hidden; text-overflow: ellipsis; \" colspan=\"1\"><div style=\"text-align: left;border-bottom: solid 2px #000; padding-bottom: 5px\">id</div></td><td style=\"white-space: nowrap; max-width: 500px; overflow: hidden; text-overflow: ellipsis; \" colspan=\"1\"><div style=\"text-align: left;border-bottom: solid 2px #000; padding-bottom: 5px\">input</div></td><td style=\"white-space: nowrap; max-width: 500px; overflow: hidden; text-overflow: ellipsis; \" colspan=\"1\"><div style=\"text-align: left;border-bottom: solid 2px #000; padding-bottom: 5px\">intergenic_consequences</div></td><td style=\"white-space: nowrap; max-width: 500px; overflow: hidden; text-overflow: ellipsis; \" colspan=\"1\"><div style=\"text-align: left;border-bottom: solid 2px #000; padding-bottom: 5px\">most_severe_consequence</div></td><td style=\"white-space: nowrap; max-width: 500px; overflow: hidden; text-overflow: ellipsis; \" colspan=\"1\"><div style=\"text-align: left;border-bottom: solid 2px #000; padding-bottom: 5px\">motif_feature_consequences</div></td><td style=\"white-space: nowrap; max-width: 500px; overflow: hidden; text-overflow: ellipsis; \" colspan=\"1\"><div style=\"text-align: left;border-bottom: solid 2px #000; padding-bottom: 5px\">regulatory_feature_consequences</div></td><td style=\"white-space: nowrap; max-width: 500px; overflow: hidden; text-overflow: ellipsis; \" colspan=\"1\"><div style=\"text-align: left;border-bottom: solid 2px #000; padding-bottom: 5px\">seq_region_name</div></td><td style=\"white-space: nowrap; max-width: 500px; overflow: hidden; text-overflow: ellipsis; \" colspan=\"1\"><div style=\"text-align: left;border-bottom: solid 2px #000; padding-bottom: 5px\">start</div></td><td style=\"white-space: nowrap; max-width: 500px; overflow: hidden; text-overflow: ellipsis; \" colspan=\"1\"><div style=\"text-align: left;border-bottom: solid 2px #000; padding-bottom: 5px\">strand</div></td><td style=\"white-space: nowrap; max-width: 500px; overflow: hidden; text-overflow: ellipsis; \" colspan=\"1\"><div style=\"text-align: left;border-bottom: solid 2px #000; padding-bottom: 5px\">transcript_consequences</div></td><td style=\"white-space: nowrap; max-width: 500px; overflow: hidden; text-overflow: ellipsis; \" colspan=\"1\"><div style=\"text-align: left;border-bottom: solid 2px #000; padding-bottom: 5px\">variant_class</div></td></tr><tr><td style=\"white-space: nowrap; max-width: 500px; overflow: hidden; text-overflow: ellipsis; text-align: left;\">locus&lt;GRCh38&gt;</td><td style=\"white-space: nowrap; max-width: 500px; overflow: hidden; text-overflow: ellipsis; text-align: left;\">array&lt;str&gt;</td><td style=\"white-space: nowrap; max-width: 500px; overflow: hidden; text-overflow: ellipsis; text-align: left;\">str</td><td style=\"white-space: nowrap; max-width: 500px; overflow: hidden; text-overflow: ellipsis; text-align: left;\">str</td><td style=\"white-space: nowrap; max-width: 500px; overflow: hidden; text-overflow: ellipsis; text-align: left;\">str</td><td style=\"white-space: nowrap; max-width: 500px; overflow: hidden; text-overflow: ellipsis; text-align: left;\">str</td><td style=\"white-space: nowrap; max-width: 500px; overflow: hidden; text-overflow: ellipsis; text-align: left;\">int32</td><td style=\"white-space: nowrap; max-width: 500px; overflow: hidden; text-overflow: ellipsis; text-align: left;\">str</td><td style=\"white-space: nowrap; max-width: 500px; overflow: hidden; text-overflow: ellipsis; text-align: left;\">str</td><td style=\"white-space: nowrap; max-width: 500px; overflow: hidden; text-overflow: ellipsis; text-align: left;\">array&lt;struct{allele_num: int32, consequence_terms: array&lt;str&gt;, impact: str, minimised: int32, variant_allele: str}&gt;</td><td style=\"white-space: nowrap; max-width: 500px; overflow: hidden; text-overflow: ellipsis; text-align: left;\">str</td><td style=\"white-space: nowrap; max-width: 500px; overflow: hidden; text-overflow: ellipsis; text-align: left;\">array&lt;struct{allele_num: int32, consequence_terms: array&lt;str&gt;, high_inf_pos: str, impact: str, minimised: int32, motif_feature_id: str, motif_name: str, motif_pos: int32, motif_score_change: float64, strand: int32, variant_allele: str}&gt;</td><td style=\"white-space: nowrap; max-width: 500px; overflow: hidden; text-overflow: ellipsis; text-align: left;\">array&lt;struct{allele_num: int32, biotype: str, consequence_terms: array&lt;str&gt;, impact: str, minimised: int32, regulatory_feature_id: str, variant_allele: str}&gt;</td><td style=\"white-space: nowrap; max-width: 500px; overflow: hidden; text-overflow: ellipsis; text-align: left;\">str</td><td style=\"white-space: nowrap; max-width: 500px; overflow: hidden; text-overflow: ellipsis; text-align: left;\">int32</td><td style=\"white-space: nowrap; max-width: 500px; overflow: hidden; text-overflow: ellipsis; text-align: left;\">int32</td><td style=\"white-space: nowrap; max-width: 500px; overflow: hidden; text-overflow: ellipsis; text-align: left;\">array&lt;struct{allele_num: int32, amino_acids: str, appris: str, biotype: str, canonical: int32, ccds: str, cdna_start: int32, cdna_end: int32, cds_end: int32, cds_start: int32, codons: str, consequence_terms: array&lt;str&gt;, distance: int32, domains: array&lt;struct{db: str, name: str}&gt;, exon: str, gene_id: str, gene_pheno: int32, gene_symbol: str, gene_symbol_source: str, hgnc_id: str, hgvsc: str, hgvsp: str, hgvs_offset: int32, impact: str, intron: str, lof: str, lof_flags: str, lof_filter: str, lof_info: str, minimised: int32, polyphen_prediction: str, polyphen_score: float64, protein_end: int32, protein_start: int32, protein_id: str, sift_prediction: str, sift_score: float64, strand: int32, swissprot: str, transcript_id: str, trembl: str, tsl: int32, uniparc: str, variant_allele: str}&gt;</td><td style=\"white-space: nowrap; max-width: 500px; overflow: hidden; text-overflow: ellipsis; text-align: left;\">str</td></tr>\n",
       "</thead><tbody><tr><td style=\"white-space: nowrap; max-width: 500px; overflow: hidden; text-overflow: ellipsis; \">chr1:14464</td><td style=\"white-space: nowrap; max-width: 500px; overflow: hidden; text-overflow: ellipsis; \">[&quot;A&quot;,&quot;T&quot;]</td><td style=\"white-space: nowrap; max-width: 500px; overflow: hidden; text-overflow: ellipsis; \">&quot;GRCh38&quot;</td><td style=\"white-space: nowrap; max-width: 500px; overflow: hidden; text-overflow: ellipsis; \">&quot;A/T&quot;</td><td style=\"white-space: nowrap; max-width: 500px; overflow: hidden; text-overflow: ellipsis; \">NA</td><td style=\"white-space: nowrap; max-width: 500px; overflow: hidden; text-overflow: ellipsis; \">NA</td><td style=\"white-space: nowrap; max-width: 500px; overflow: hidden; text-overflow: ellipsis; \">14464</td><td style=\"white-space: nowrap; max-width: 500px; overflow: hidden; text-overflow: ellipsis; \">&quot;.&quot;</td><td style=\"white-space: nowrap; max-width: 500px; overflow: hidden; text-overflow: ellipsis; \">&quot;chr1\t14464\t.\tA\tT\t.\t.\tGT&quot;</td><td style=\"white-space: nowrap; max-width: 500px; overflow: hidden; text-overflow: ellipsis; \">NA</td><td style=\"white-space: nowrap; max-width: 500px; overflow: hidden; text-overflow: ellipsis; \">&quot;non_coding_transcript_exon_variant&quot;</td><td style=\"white-space: nowrap; max-width: 500px; overflow: hidden; text-overflow: ellipsis; \">NA</td><td style=\"white-space: nowrap; max-width: 500px; overflow: hidden; text-overflow: ellipsis; \">NA</td><td style=\"white-space: nowrap; max-width: 500px; overflow: hidden; text-overflow: ellipsis; \">&quot;chr1&quot;</td><td style=\"white-space: nowrap; max-width: 500px; overflow: hidden; text-overflow: ellipsis; \">14464</td><td style=\"white-space: nowrap; max-width: 500px; overflow: hidden; text-overflow: ellipsis; \">1</td><td style=\"white-space: nowrap; max-width: 500px; overflow: hidden; text-overflow: ellipsis; \">[(1,NA,NA,&quot;transcribed_unprocessed_pseudogene&quot;,NA,NA,NA,NA,NA,NA,NA,[&quot;downstream_gene_variant&quot;],794,NA,NA,&quot;ENSG00000223972&quot;,NA,&quot;DDX11L1&quot;,&quot;HGNC&quot;,&quot;HGNC:37102&quot;,NA,NA,NA,&quot;MODIFIER&quot;,NA,NA,NA,NA,NA,NA,NA,NA,NA,NA,NA,NA,NA,1,NA,&quot;ENST00000450305&quot;,NA,NA,NA,&quot;T&quot;),(1,NA,NA,&quot;processed_transcript&quot;,1,NA,NA,NA,NA,NA,NA,[&quot;downstream_gene_variant&quot;],55,NA,NA,&quot;ENSG00000223972&quot;,NA,&quot;DDX11L1&quot;,&quot;HGNC&quot;,&quot;HGNC:37102&quot;,NA,NA,NA,&quot;MODIFIER&quot;,NA,NA,NA,NA,NA,NA,NA,NA,NA,NA,NA,NA,NA,1,NA,&quot;ENST00000456328&quot;,NA,1,NA,&quot;T&quot;),(1,NA,NA,&quot;unprocessed_pseudogene&quot;,1,NA,1291,1291,NA,NA,NA,[&quot;non_coding_transcript_exon_variant&quot;],NA,NA,&quot;11/11&quot;,&quot;ENSG00000227232&quot;,NA,&quot;WASH7P&quot;,&quot;HGNC&quot;,&quot;HGNC:38034&quot;,&quot;ENST00000488147.1:n.1291T&gt;A&quot;,NA,NA,&quot;MODIFIER&quot;,NA,NA,NA,NA,NA,NA,NA,NA,NA,NA,NA,NA,NA,-1,NA,&quot;ENST00000488147&quot;,NA,NA,NA,&quot;T&quot;),(1,NA,NA,&quot;miRNA&quot;,1,NA,NA,NA,NA,NA,NA,[&quot;downstream_gene_variant&quot;],2905,NA,NA,&quot;ENSG00000278267&quot;,NA,&quot;MIR6859-1&quot;,&quot;HGNC&quot;,&quot;HGNC:50039&quot;,NA,NA,NA,&quot;MODIFIER&quot;,NA,NA,NA,NA,NA,NA,NA,NA,NA,NA,NA,NA,NA,-1,NA,&quot;ENST00000619216&quot;,NA,NA,NA,&quot;T&quot;),(1,NA,NA,&quot;transcribed_pseudogene&quot;,1,NA,1667,1667,NA,NA,NA,[&quot;non_coding_transcript_exon_variant&quot;],NA,NA,&quot;11/11&quot;,&quot;653635&quot;,NA,&quot;WASH7P&quot;,&quot;EntrezGene&quot;,&quot;HGNC:38034&quot;,&quot;NR_024540.1:n.1667T&gt;A&quot;,NA,NA,&quot;MODIFIER&quot;,NA,NA,NA,NA,NA,NA,NA,NA,NA,NA,NA,NA,NA,-1,NA,&quot;NR_024540.1&quot;,NA,NA,NA,&quot;T&quot;),(1,NA,NA,&quot;transcribed_pseudogene&quot;,1,NA,NA,NA,NA,NA,NA,[&quot;downstream_gene_variant&quot;],55,NA,NA,&quot;100287102&quot;,NA,&quot;DDX11L1&quot;,&quot;EntrezGene&quot;,&quot;HGNC:37102&quot;,NA,NA,NA,&quot;MODIFIER&quot;,NA,NA,NA,NA,NA,NA,NA,NA,NA,NA,NA,NA,NA,1,NA,&quot;NR_046018.2&quot;,NA,NA,NA,&quot;T&quot;),(1,NA,NA,&quot;miRNA&quot;,1,NA,NA,NA,NA,NA,NA,[&quot;downstream_gene_variant&quot;],2905,NA,NA,&quot;102466751&quot;,NA,&quot;MIR6859-1&quot;,&quot;EntrezGene&quot;,&quot;HGNC:50039&quot;,NA,NA,NA,&quot;MODIFIER&quot;,NA,NA,NA,NA,NA,NA,NA,NA,NA,NA,NA,NA,NA,-1,NA,&quot;NR_106918.1&quot;,NA,NA,NA,&quot;T&quot;)]</td><td style=\"white-space: nowrap; max-width: 500px; overflow: hidden; text-overflow: ellipsis; \">&quot;SNV&quot;</td></tr>\n",
       "<tr><td style=\"white-space: nowrap; max-width: 500px; overflow: hidden; text-overflow: ellipsis; \">chr1:16298</td><td style=\"white-space: nowrap; max-width: 500px; overflow: hidden; text-overflow: ellipsis; \">[&quot;C&quot;,&quot;T&quot;]</td><td style=\"white-space: nowrap; max-width: 500px; overflow: hidden; text-overflow: ellipsis; \">&quot;GRCh38&quot;</td><td style=\"white-space: nowrap; max-width: 500px; overflow: hidden; text-overflow: ellipsis; \">&quot;C/T&quot;</td><td style=\"white-space: nowrap; max-width: 500px; overflow: hidden; text-overflow: ellipsis; \">NA</td><td style=\"white-space: nowrap; max-width: 500px; overflow: hidden; text-overflow: ellipsis; \">NA</td><td style=\"white-space: nowrap; max-width: 500px; overflow: hidden; text-overflow: ellipsis; \">16298</td><td style=\"white-space: nowrap; max-width: 500px; overflow: hidden; text-overflow: ellipsis; \">&quot;.&quot;</td><td style=\"white-space: nowrap; max-width: 500px; overflow: hidden; text-overflow: ellipsis; \">&quot;chr1\t16298\t.\tC\tT\t.\t.\tGT&quot;</td><td style=\"white-space: nowrap; max-width: 500px; overflow: hidden; text-overflow: ellipsis; \">NA</td><td style=\"white-space: nowrap; max-width: 500px; overflow: hidden; text-overflow: ellipsis; \">&quot;intron_variant&quot;</td><td style=\"white-space: nowrap; max-width: 500px; overflow: hidden; text-overflow: ellipsis; \">[(1,[&quot;TF_binding_site_variant&quot;],&quot;Y&quot;,&quot;MODIFIER&quot;,NA,&quot;ENSM00205579305&quot;,&quot;ENSPFM0042&quot;,4,-4.40e-02,-1,&quot;T&quot;)]</td><td style=\"white-space: nowrap; max-width: 500px; overflow: hidden; text-overflow: ellipsis; \">[(1,&quot;CTCF_binding_site&quot;,[&quot;regulatory_region_variant&quot;],&quot;MODIFIER&quot;,NA,&quot;ENSR00000344266&quot;,&quot;T&quot;),(1,&quot;TF_binding_site&quot;,[&quot;regulatory_region_variant&quot;],&quot;MODIFIER&quot;,NA,&quot;ENSR00000918273&quot;,&quot;T&quot;)]</td><td style=\"white-space: nowrap; max-width: 500px; overflow: hidden; text-overflow: ellipsis; \">&quot;chr1&quot;</td><td style=\"white-space: nowrap; max-width: 500px; overflow: hidden; text-overflow: ellipsis; \">16298</td><td style=\"white-space: nowrap; max-width: 500px; overflow: hidden; text-overflow: ellipsis; \">1</td><td style=\"white-space: nowrap; max-width: 500px; overflow: hidden; text-overflow: ellipsis; \">[(1,NA,NA,&quot;transcribed_unprocessed_pseudogene&quot;,NA,NA,NA,NA,NA,NA,NA,[&quot;downstream_gene_variant&quot;],2628,NA,NA,&quot;ENSG00000223972&quot;,NA,&quot;DDX11L1&quot;,&quot;HGNC&quot;,&quot;HGNC:37102&quot;,NA,NA,NA,&quot;MODIFIER&quot;,NA,NA,NA,NA,NA,NA,NA,NA,NA,NA,NA,NA,NA,1,NA,&quot;ENST00000450305&quot;,NA,NA,NA,&quot;T&quot;),(1,NA,NA,&quot;processed_transcript&quot;,1,NA,NA,NA,NA,NA,NA,[&quot;downstream_gene_variant&quot;],1889,NA,NA,&quot;ENSG00000223972&quot;,NA,&quot;DDX11L1&quot;,&quot;HGNC&quot;,&quot;HGNC:37102&quot;,NA,NA,NA,&quot;MODIFIER&quot;,NA,NA,NA,NA,NA,NA,NA,NA,NA,NA,NA,NA,NA,1,NA,&quot;ENST00000456328&quot;,NA,1,NA,&quot;T&quot;),(1,NA,NA,&quot;unprocessed_pseudogene&quot;,1,NA,NA,NA,NA,NA,NA,[&quot;intron_variant&quot;,&quot;non_coding_transcript_variant&quot;],NA,NA,NA,&quot;ENSG00000227232&quot;,NA,&quot;WASH7P&quot;,&quot;HGNC&quot;,&quot;HGNC:38034&quot;,&quot;ENST00000488147.1:n.1067+309G&gt;A&quot;,NA,NA,&quot;MODIFIER&quot;,&quot;8/10&quot;,NA,NA,NA,NA,NA,NA,NA,NA,NA,NA,NA,NA,-1,NA,&quot;ENST00000488147&quot;,NA,NA,NA,&quot;T&quot;),(1,NA,NA,&quot;miRNA&quot;,1,NA,NA,NA,NA,NA,NA,[&quot;downstream_gene_variant&quot;],1071,NA,NA,&quot;ENSG00000278267&quot;,NA,&quot;MIR6859-1&quot;,&quot;HGNC&quot;,&quot;HGNC:50039&quot;,NA,NA,NA,&quot;MODIFIER&quot;,NA,NA,NA,NA,NA,NA,NA,NA,NA,NA,NA,NA,NA,-1,NA,&quot;ENST00000619216&quot;,NA,NA,NA,&quot;T&quot;),(1,NA,NA,&quot;transcribed_pseudogene&quot;,1,NA,NA,NA,NA,NA,NA,[&quot;intron_variant&quot;,&quot;non_coding_transcript_variant&quot;],NA,NA,NA,&quot;653635&quot;,NA,&quot;WASH7P&quot;,&quot;EntrezGene&quot;,&quot;HGNC:38034&quot;,&quot;NR_024540.1:n.1080+309G&gt;A&quot;,NA,NA,&quot;MODIFIER&quot;,&quot;8/10&quot;,NA,NA,NA,NA,NA,NA,NA,NA,NA,NA,NA,NA,-1,NA,&quot;NR_024540.1&quot;,NA,NA,NA,&quot;T&quot;),(1,NA,NA,&quot;transcribed_pseudogene&quot;,1,NA,NA,NA,NA,NA,NA,[&quot;downstream_gene_variant&quot;],1889,NA,NA,&quot;100287102&quot;,NA,&quot;DDX11L1&quot;,&quot;EntrezGene&quot;,&quot;HGNC:37102&quot;,NA,NA,NA,&quot;MODIFIER&quot;,NA,NA,NA,NA,NA,NA,NA,NA,NA,NA,NA,NA,NA,1,NA,&quot;NR_046018.2&quot;,NA,NA,NA,&quot;T&quot;),(1,NA,NA,&quot;miRNA&quot;,1,NA,NA,NA,NA,NA,NA,[&quot;downstream_gene_variant&quot;],1071,NA,NA,&quot;102466751&quot;,NA,&quot;MIR6859-1&quot;,&quot;EntrezGene&quot;,&quot;HGNC:50039&quot;,NA,NA,NA,&quot;MODIFIER&quot;,NA,NA,NA,NA,NA,NA,NA,NA,NA,NA,NA,NA,NA,-1,NA,&quot;NR_106918.1&quot;,NA,NA,NA,&quot;T&quot;)]</td><td style=\"white-space: nowrap; max-width: 500px; overflow: hidden; text-overflow: ellipsis; \">&quot;SNV&quot;</td></tr>\n",
       "<tr><td style=\"white-space: nowrap; max-width: 500px; overflow: hidden; text-overflow: ellipsis; \">chr1:16378</td><td style=\"white-space: nowrap; max-width: 500px; overflow: hidden; text-overflow: ellipsis; \">[&quot;T&quot;,&quot;C&quot;]</td><td style=\"white-space: nowrap; max-width: 500px; overflow: hidden; text-overflow: ellipsis; \">&quot;GRCh38&quot;</td><td style=\"white-space: nowrap; max-width: 500px; overflow: hidden; text-overflow: ellipsis; \">&quot;T/C&quot;</td><td style=\"white-space: nowrap; max-width: 500px; overflow: hidden; text-overflow: ellipsis; \">NA</td><td style=\"white-space: nowrap; max-width: 500px; overflow: hidden; text-overflow: ellipsis; \">NA</td><td style=\"white-space: nowrap; max-width: 500px; overflow: hidden; text-overflow: ellipsis; \">16378</td><td style=\"white-space: nowrap; max-width: 500px; overflow: hidden; text-overflow: ellipsis; \">&quot;.&quot;</td><td style=\"white-space: nowrap; max-width: 500px; overflow: hidden; text-overflow: ellipsis; \">&quot;chr1\t16378\t.\tT\tC\t.\t.\tGT&quot;</td><td style=\"white-space: nowrap; max-width: 500px; overflow: hidden; text-overflow: ellipsis; \">NA</td><td style=\"white-space: nowrap; max-width: 500px; overflow: hidden; text-overflow: ellipsis; \">&quot;intron_variant&quot;</td><td style=\"white-space: nowrap; max-width: 500px; overflow: hidden; text-overflow: ellipsis; \">NA</td><td style=\"white-space: nowrap; max-width: 500px; overflow: hidden; text-overflow: ellipsis; \">[(1,&quot;CTCF_binding_site&quot;,[&quot;regulatory_region_variant&quot;],&quot;MODIFIER&quot;,NA,&quot;ENSR00000344266&quot;,&quot;C&quot;),(1,&quot;TF_binding_site&quot;,[&quot;regulatory_region_variant&quot;],&quot;MODIFIER&quot;,NA,&quot;ENSR00000918273&quot;,&quot;C&quot;)]</td><td style=\"white-space: nowrap; max-width: 500px; overflow: hidden; text-overflow: ellipsis; \">&quot;chr1&quot;</td><td style=\"white-space: nowrap; max-width: 500px; overflow: hidden; text-overflow: ellipsis; \">16378</td><td style=\"white-space: nowrap; max-width: 500px; overflow: hidden; text-overflow: ellipsis; \">1</td><td style=\"white-space: nowrap; max-width: 500px; overflow: hidden; text-overflow: ellipsis; \">[(1,NA,NA,&quot;transcribed_unprocessed_pseudogene&quot;,NA,NA,NA,NA,NA,NA,NA,[&quot;downstream_gene_variant&quot;],2708,NA,NA,&quot;ENSG00000223972&quot;,NA,&quot;DDX11L1&quot;,&quot;HGNC&quot;,&quot;HGNC:37102&quot;,NA,NA,NA,&quot;MODIFIER&quot;,NA,NA,NA,NA,NA,NA,NA,NA,NA,NA,NA,NA,NA,1,NA,&quot;ENST00000450305&quot;,NA,NA,NA,&quot;C&quot;),(1,NA,NA,&quot;processed_transcript&quot;,1,NA,NA,NA,NA,NA,NA,[&quot;downstream_gene_variant&quot;],1969,NA,NA,&quot;ENSG00000223972&quot;,NA,&quot;DDX11L1&quot;,&quot;HGNC&quot;,&quot;HGNC:37102&quot;,NA,NA,NA,&quot;MODIFIER&quot;,NA,NA,NA,NA,NA,NA,NA,NA,NA,NA,NA,NA,NA,1,NA,&quot;ENST00000456328&quot;,NA,1,NA,&quot;C&quot;),(1,NA,NA,&quot;unprocessed_pseudogene&quot;,1,NA,NA,NA,NA,NA,NA,[&quot;intron_variant&quot;,&quot;non_coding_transcript_variant&quot;],NA,NA,NA,&quot;ENSG00000227232&quot;,NA,&quot;WASH7P&quot;,&quot;HGNC&quot;,&quot;HGNC:38034&quot;,&quot;ENST00000488147.1:n.1067+229A&gt;G&quot;,NA,NA,&quot;MODIFIER&quot;,&quot;8/10&quot;,NA,NA,NA,NA,NA,NA,NA,NA,NA,NA,NA,NA,-1,NA,&quot;ENST00000488147&quot;,NA,NA,NA,&quot;C&quot;),(1,NA,NA,&quot;miRNA&quot;,1,NA,NA,NA,NA,NA,NA,[&quot;downstream_gene_variant&quot;],991,NA,NA,&quot;ENSG00000278267&quot;,NA,&quot;MIR6859-1&quot;,&quot;HGNC&quot;,&quot;HGNC:50039&quot;,NA,NA,NA,&quot;MODIFIER&quot;,NA,NA,NA,NA,NA,NA,NA,NA,NA,NA,NA,NA,NA,-1,NA,&quot;ENST00000619216&quot;,NA,NA,NA,&quot;C&quot;),(1,NA,NA,&quot;transcribed_pseudogene&quot;,1,NA,NA,NA,NA,NA,NA,[&quot;intron_variant&quot;,&quot;non_coding_transcript_variant&quot;],NA,NA,NA,&quot;653635&quot;,NA,&quot;WASH7P&quot;,&quot;EntrezGene&quot;,&quot;HGNC:38034&quot;,&quot;NR_024540.1:n.1080+229A&gt;G&quot;,NA,NA,&quot;MODIFIER&quot;,&quot;8/10&quot;,NA,NA,NA,NA,NA,NA,NA,NA,NA,NA,NA,NA,-1,NA,&quot;NR_024540.1&quot;,NA,NA,NA,&quot;C&quot;),(1,NA,NA,&quot;transcribed_pseudogene&quot;,1,NA,NA,NA,NA,NA,NA,[&quot;downstream_gene_variant&quot;],1969,NA,NA,&quot;100287102&quot;,NA,&quot;DDX11L1&quot;,&quot;EntrezGene&quot;,&quot;HGNC:37102&quot;,NA,NA,NA,&quot;MODIFIER&quot;,NA,NA,NA,NA,NA,NA,NA,NA,NA,NA,NA,NA,NA,1,NA,&quot;NR_046018.2&quot;,NA,NA,NA,&quot;C&quot;),(1,NA,NA,&quot;miRNA&quot;,1,NA,NA,NA,NA,NA,NA,[&quot;downstream_gene_variant&quot;],991,NA,NA,&quot;102466751&quot;,NA,&quot;MIR6859-1&quot;,&quot;EntrezGene&quot;,&quot;HGNC:50039&quot;,NA,NA,NA,&quot;MODIFIER&quot;,NA,NA,NA,NA,NA,NA,NA,NA,NA,NA,NA,NA,NA,-1,NA,&quot;NR_106918.1&quot;,NA,NA,NA,&quot;C&quot;)]</td><td style=\"white-space: nowrap; max-width: 500px; overflow: hidden; text-overflow: ellipsis; \">&quot;SNV&quot;</td></tr>\n",
       "<tr><td style=\"white-space: nowrap; max-width: 500px; overflow: hidden; text-overflow: ellipsis; \">chr1:16487</td><td style=\"white-space: nowrap; max-width: 500px; overflow: hidden; text-overflow: ellipsis; \">[&quot;T&quot;,&quot;C&quot;]</td><td style=\"white-space: nowrap; max-width: 500px; overflow: hidden; text-overflow: ellipsis; \">&quot;GRCh38&quot;</td><td style=\"white-space: nowrap; max-width: 500px; overflow: hidden; text-overflow: ellipsis; \">&quot;T/C&quot;</td><td style=\"white-space: nowrap; max-width: 500px; overflow: hidden; text-overflow: ellipsis; \">NA</td><td style=\"white-space: nowrap; max-width: 500px; overflow: hidden; text-overflow: ellipsis; \">NA</td><td style=\"white-space: nowrap; max-width: 500px; overflow: hidden; text-overflow: ellipsis; \">16487</td><td style=\"white-space: nowrap; max-width: 500px; overflow: hidden; text-overflow: ellipsis; \">&quot;.&quot;</td><td style=\"white-space: nowrap; max-width: 500px; overflow: hidden; text-overflow: ellipsis; \">&quot;chr1\t16487\t.\tT\tC\t.\t.\tGT&quot;</td><td style=\"white-space: nowrap; max-width: 500px; overflow: hidden; text-overflow: ellipsis; \">NA</td><td style=\"white-space: nowrap; max-width: 500px; overflow: hidden; text-overflow: ellipsis; \">&quot;intron_variant&quot;</td><td style=\"white-space: nowrap; max-width: 500px; overflow: hidden; text-overflow: ellipsis; \">NA</td><td style=\"white-space: nowrap; max-width: 500px; overflow: hidden; text-overflow: ellipsis; \">[(1,&quot;CTCF_binding_site&quot;,[&quot;regulatory_region_variant&quot;],&quot;MODIFIER&quot;,NA,&quot;ENSR00000344266&quot;,&quot;C&quot;)]</td><td style=\"white-space: nowrap; max-width: 500px; overflow: hidden; text-overflow: ellipsis; \">&quot;chr1&quot;</td><td style=\"white-space: nowrap; max-width: 500px; overflow: hidden; text-overflow: ellipsis; \">16487</td><td style=\"white-space: nowrap; max-width: 500px; overflow: hidden; text-overflow: ellipsis; \">1</td><td style=\"white-space: nowrap; max-width: 500px; overflow: hidden; text-overflow: ellipsis; \">[(1,NA,NA,&quot;transcribed_unprocessed_pseudogene&quot;,NA,NA,NA,NA,NA,NA,NA,[&quot;downstream_gene_variant&quot;],2817,NA,NA,&quot;ENSG00000223972&quot;,NA,&quot;DDX11L1&quot;,&quot;HGNC&quot;,&quot;HGNC:37102&quot;,NA,NA,NA,&quot;MODIFIER&quot;,NA,NA,NA,NA,NA,NA,NA,NA,NA,NA,NA,NA,NA,1,NA,&quot;ENST00000450305&quot;,NA,NA,NA,&quot;C&quot;),(1,NA,NA,&quot;processed_transcript&quot;,1,NA,NA,NA,NA,NA,NA,[&quot;downstream_gene_variant&quot;],2078,NA,NA,&quot;ENSG00000223972&quot;,NA,&quot;DDX11L1&quot;,&quot;HGNC&quot;,&quot;HGNC:37102&quot;,NA,NA,NA,&quot;MODIFIER&quot;,NA,NA,NA,NA,NA,NA,NA,NA,NA,NA,NA,NA,NA,1,NA,&quot;ENST00000456328&quot;,NA,1,NA,&quot;C&quot;),(1,NA,NA,&quot;unprocessed_pseudogene&quot;,1,NA,NA,NA,NA,NA,NA,[&quot;intron_variant&quot;,&quot;non_coding_transcript_variant&quot;],NA,NA,NA,&quot;ENSG00000227232&quot;,NA,&quot;WASH7P&quot;,&quot;HGNC&quot;,&quot;HGNC:38034&quot;,&quot;ENST00000488147.1:n.1067+120A&gt;G&quot;,NA,NA,&quot;MODIFIER&quot;,&quot;8/10&quot;,NA,NA,NA,NA,NA,NA,NA,NA,NA,NA,NA,NA,-1,NA,&quot;ENST00000488147&quot;,NA,NA,NA,&quot;C&quot;),(1,NA,NA,&quot;miRNA&quot;,1,NA,NA,NA,NA,NA,NA,[&quot;downstream_gene_variant&quot;],882,NA,NA,&quot;ENSG00000278267&quot;,NA,&quot;MIR6859-1&quot;,&quot;HGNC&quot;,&quot;HGNC:50039&quot;,NA,NA,NA,&quot;MODIFIER&quot;,NA,NA,NA,NA,NA,NA,NA,NA,NA,NA,NA,NA,NA,-1,NA,&quot;ENST00000619216&quot;,NA,NA,NA,&quot;C&quot;),(1,NA,NA,&quot;transcribed_pseudogene&quot;,1,NA,NA,NA,NA,NA,NA,[&quot;intron_variant&quot;,&quot;non_coding_transcript_variant&quot;],NA,NA,NA,&quot;653635&quot;,NA,&quot;WASH7P&quot;,&quot;EntrezGene&quot;,&quot;HGNC:38034&quot;,&quot;NR_024540.1:n.1080+120A&gt;G&quot;,NA,NA,&quot;MODIFIER&quot;,&quot;8/10&quot;,NA,NA,NA,NA,NA,NA,NA,NA,NA,NA,NA,NA,-1,NA,&quot;NR_024540.1&quot;,NA,NA,NA,&quot;C&quot;),(1,NA,NA,&quot;transcribed_pseudogene&quot;,1,NA,NA,NA,NA,NA,NA,[&quot;downstream_gene_variant&quot;],2078,NA,NA,&quot;100287102&quot;,NA,&quot;DDX11L1&quot;,&quot;EntrezGene&quot;,&quot;HGNC:37102&quot;,NA,NA,NA,&quot;MODIFIER&quot;,NA,NA,NA,NA,NA,NA,NA,NA,NA,NA,NA,NA,NA,1,NA,&quot;NR_046018.2&quot;,NA,NA,NA,&quot;C&quot;),(1,NA,NA,&quot;miRNA&quot;,1,NA,NA,NA,NA,NA,NA,[&quot;downstream_gene_variant&quot;],882,NA,NA,&quot;102466751&quot;,NA,&quot;MIR6859-1&quot;,&quot;EntrezGene&quot;,&quot;HGNC:50039&quot;,NA,NA,NA,&quot;MODIFIER&quot;,NA,NA,NA,NA,NA,NA,NA,NA,NA,NA,NA,NA,NA,-1,NA,&quot;NR_106918.1&quot;,NA,NA,NA,&quot;C&quot;)]</td><td style=\"white-space: nowrap; max-width: 500px; overflow: hidden; text-overflow: ellipsis; \">&quot;SNV&quot;</td></tr>\n",
       "<tr><td style=\"white-space: nowrap; max-width: 500px; overflow: hidden; text-overflow: ellipsis; \">chr1:16495</td><td style=\"white-space: nowrap; max-width: 500px; overflow: hidden; text-overflow: ellipsis; \">[&quot;G&quot;,&quot;C&quot;]</td><td style=\"white-space: nowrap; max-width: 500px; overflow: hidden; text-overflow: ellipsis; \">&quot;GRCh38&quot;</td><td style=\"white-space: nowrap; max-width: 500px; overflow: hidden; text-overflow: ellipsis; \">&quot;G/C&quot;</td><td style=\"white-space: nowrap; max-width: 500px; overflow: hidden; text-overflow: ellipsis; \">NA</td><td style=\"white-space: nowrap; max-width: 500px; overflow: hidden; text-overflow: ellipsis; \">NA</td><td style=\"white-space: nowrap; max-width: 500px; overflow: hidden; text-overflow: ellipsis; \">16495</td><td style=\"white-space: nowrap; max-width: 500px; overflow: hidden; text-overflow: ellipsis; \">&quot;.&quot;</td><td style=\"white-space: nowrap; max-width: 500px; overflow: hidden; text-overflow: ellipsis; \">&quot;chr1\t16495\t.\tG\tC\t.\t.\tGT&quot;</td><td style=\"white-space: nowrap; max-width: 500px; overflow: hidden; text-overflow: ellipsis; \">NA</td><td style=\"white-space: nowrap; max-width: 500px; overflow: hidden; text-overflow: ellipsis; \">&quot;intron_variant&quot;</td><td style=\"white-space: nowrap; max-width: 500px; overflow: hidden; text-overflow: ellipsis; \">NA</td><td style=\"white-space: nowrap; max-width: 500px; overflow: hidden; text-overflow: ellipsis; \">[(1,&quot;CTCF_binding_site&quot;,[&quot;regulatory_region_variant&quot;],&quot;MODIFIER&quot;,NA,&quot;ENSR00000344266&quot;,&quot;C&quot;)]</td><td style=\"white-space: nowrap; max-width: 500px; overflow: hidden; text-overflow: ellipsis; \">&quot;chr1&quot;</td><td style=\"white-space: nowrap; max-width: 500px; overflow: hidden; text-overflow: ellipsis; \">16495</td><td style=\"white-space: nowrap; max-width: 500px; overflow: hidden; text-overflow: ellipsis; \">1</td><td style=\"white-space: nowrap; max-width: 500px; overflow: hidden; text-overflow: ellipsis; \">[(1,NA,NA,&quot;transcribed_unprocessed_pseudogene&quot;,NA,NA,NA,NA,NA,NA,NA,[&quot;downstream_gene_variant&quot;],2825,NA,NA,&quot;ENSG00000223972&quot;,NA,&quot;DDX11L1&quot;,&quot;HGNC&quot;,&quot;HGNC:37102&quot;,NA,NA,NA,&quot;MODIFIER&quot;,NA,NA,NA,NA,NA,NA,NA,NA,NA,NA,NA,NA,NA,1,NA,&quot;ENST00000450305&quot;,NA,NA,NA,&quot;C&quot;),(1,NA,NA,&quot;processed_transcript&quot;,1,NA,NA,NA,NA,NA,NA,[&quot;downstream_gene_variant&quot;],2086,NA,NA,&quot;ENSG00000223972&quot;,NA,&quot;DDX11L1&quot;,&quot;HGNC&quot;,&quot;HGNC:37102&quot;,NA,NA,NA,&quot;MODIFIER&quot;,NA,NA,NA,NA,NA,NA,NA,NA,NA,NA,NA,NA,NA,1,NA,&quot;ENST00000456328&quot;,NA,1,NA,&quot;C&quot;),(1,NA,NA,&quot;unprocessed_pseudogene&quot;,1,NA,NA,NA,NA,NA,NA,[&quot;intron_variant&quot;,&quot;non_coding_transcript_variant&quot;],NA,NA,NA,&quot;ENSG00000227232&quot;,NA,&quot;WASH7P&quot;,&quot;HGNC&quot;,&quot;HGNC:38034&quot;,&quot;ENST00000488147.1:n.1067+112C&gt;G&quot;,NA,NA,&quot;MODIFIER&quot;,&quot;8/10&quot;,NA,NA,NA,NA,NA,NA,NA,NA,NA,NA,NA,NA,-1,NA,&quot;ENST00000488147&quot;,NA,NA,NA,&quot;C&quot;),(1,NA,NA,&quot;miRNA&quot;,1,NA,NA,NA,NA,NA,NA,[&quot;downstream_gene_variant&quot;],874,NA,NA,&quot;ENSG00000278267&quot;,NA,&quot;MIR6859-1&quot;,&quot;HGNC&quot;,&quot;HGNC:50039&quot;,NA,NA,NA,&quot;MODIFIER&quot;,NA,NA,NA,NA,NA,NA,NA,NA,NA,NA,NA,NA,NA,-1,NA,&quot;ENST00000619216&quot;,NA,NA,NA,&quot;C&quot;),(1,NA,NA,&quot;transcribed_pseudogene&quot;,1,NA,NA,NA,NA,NA,NA,[&quot;intron_variant&quot;,&quot;non_coding_transcript_variant&quot;],NA,NA,NA,&quot;653635&quot;,NA,&quot;WASH7P&quot;,&quot;EntrezGene&quot;,&quot;HGNC:38034&quot;,&quot;NR_024540.1:n.1080+112C&gt;G&quot;,NA,NA,&quot;MODIFIER&quot;,&quot;8/10&quot;,NA,NA,NA,NA,NA,NA,NA,NA,NA,NA,NA,NA,-1,NA,&quot;NR_024540.1&quot;,NA,NA,NA,&quot;C&quot;),(1,NA,NA,&quot;transcribed_pseudogene&quot;,1,NA,NA,NA,NA,NA,NA,[&quot;downstream_gene_variant&quot;],2086,NA,NA,&quot;100287102&quot;,NA,&quot;DDX11L1&quot;,&quot;EntrezGene&quot;,&quot;HGNC:37102&quot;,NA,NA,NA,&quot;MODIFIER&quot;,NA,NA,NA,NA,NA,NA,NA,NA,NA,NA,NA,NA,NA,1,NA,&quot;NR_046018.2&quot;,NA,NA,NA,&quot;C&quot;),(1,NA,NA,&quot;miRNA&quot;,1,NA,NA,NA,NA,NA,NA,[&quot;downstream_gene_variant&quot;],874,NA,NA,&quot;102466751&quot;,NA,&quot;MIR6859-1&quot;,&quot;EntrezGene&quot;,&quot;HGNC:50039&quot;,NA,NA,NA,&quot;MODIFIER&quot;,NA,NA,NA,NA,NA,NA,NA,NA,NA,NA,NA,NA,NA,-1,NA,&quot;NR_106918.1&quot;,NA,NA,NA,&quot;C&quot;)]</td><td style=\"white-space: nowrap; max-width: 500px; overflow: hidden; text-overflow: ellipsis; \">&quot;SNV&quot;</td></tr>\n",
       "<tr><td style=\"white-space: nowrap; max-width: 500px; overflow: hidden; text-overflow: ellipsis; \">chr1:16841</td><td style=\"white-space: nowrap; max-width: 500px; overflow: hidden; text-overflow: ellipsis; \">[&quot;G&quot;,&quot;T&quot;]</td><td style=\"white-space: nowrap; max-width: 500px; overflow: hidden; text-overflow: ellipsis; \">&quot;GRCh38&quot;</td><td style=\"white-space: nowrap; max-width: 500px; overflow: hidden; text-overflow: ellipsis; \">&quot;G/T&quot;</td><td style=\"white-space: nowrap; max-width: 500px; overflow: hidden; text-overflow: ellipsis; \">NA</td><td style=\"white-space: nowrap; max-width: 500px; overflow: hidden; text-overflow: ellipsis; \">NA</td><td style=\"white-space: nowrap; max-width: 500px; overflow: hidden; text-overflow: ellipsis; \">16841</td><td style=\"white-space: nowrap; max-width: 500px; overflow: hidden; text-overflow: ellipsis; \">&quot;.&quot;</td><td style=\"white-space: nowrap; max-width: 500px; overflow: hidden; text-overflow: ellipsis; \">&quot;chr1\t16841\t.\tG\tT\t.\t.\tGT&quot;</td><td style=\"white-space: nowrap; max-width: 500px; overflow: hidden; text-overflow: ellipsis; \">NA</td><td style=\"white-space: nowrap; max-width: 500px; overflow: hidden; text-overflow: ellipsis; \">&quot;intron_variant&quot;</td><td style=\"white-space: nowrap; max-width: 500px; overflow: hidden; text-overflow: ellipsis; \">NA</td><td style=\"white-space: nowrap; max-width: 500px; overflow: hidden; text-overflow: ellipsis; \">NA</td><td style=\"white-space: nowrap; max-width: 500px; overflow: hidden; text-overflow: ellipsis; \">&quot;chr1&quot;</td><td style=\"white-space: nowrap; max-width: 500px; overflow: hidden; text-overflow: ellipsis; \">16841</td><td style=\"white-space: nowrap; max-width: 500px; overflow: hidden; text-overflow: ellipsis; \">1</td><td style=\"white-space: nowrap; max-width: 500px; overflow: hidden; text-overflow: ellipsis; \">[(1,NA,NA,&quot;transcribed_unprocessed_pseudogene&quot;,NA,NA,NA,NA,NA,NA,NA,[&quot;downstream_gene_variant&quot;],3171,NA,NA,&quot;ENSG00000223972&quot;,NA,&quot;DDX11L1&quot;,&quot;HGNC&quot;,&quot;HGNC:37102&quot;,NA,NA,NA,&quot;MODIFIER&quot;,NA,NA,NA,NA,NA,NA,NA,NA,NA,NA,NA,NA,NA,1,NA,&quot;ENST00000450305&quot;,NA,NA,NA,&quot;T&quot;),(1,NA,NA,&quot;processed_transcript&quot;,1,NA,NA,NA,NA,NA,NA,[&quot;downstream_gene_variant&quot;],2432,NA,NA,&quot;ENSG00000223972&quot;,NA,&quot;DDX11L1&quot;,&quot;HGNC&quot;,&quot;HGNC:37102&quot;,NA,NA,NA,&quot;MODIFIER&quot;,NA,NA,NA,NA,NA,NA,NA,NA,NA,NA,NA,NA,NA,1,NA,&quot;ENST00000456328&quot;,NA,1,NA,&quot;T&quot;),(1,NA,NA,&quot;unprocessed_pseudogene&quot;,1,NA,NA,NA,NA,NA,NA,[&quot;intron_variant&quot;,&quot;non_coding_transcript_variant&quot;],NA,NA,NA,&quot;ENSG00000227232&quot;,NA,&quot;WASH7P&quot;,&quot;HGNC&quot;,&quot;HGNC:38034&quot;,&quot;ENST00000488147.1:n.908+17C&gt;A&quot;,NA,NA,&quot;MODIFIER&quot;,&quot;7/10&quot;,NA,NA,NA,NA,NA,NA,NA,NA,NA,NA,NA,NA,-1,NA,&quot;ENST00000488147&quot;,NA,NA,NA,&quot;T&quot;),(1,NA,NA,&quot;miRNA&quot;,1,NA,NA,NA,NA,NA,NA,[&quot;downstream_gene_variant&quot;],528,NA,NA,&quot;ENSG00000278267&quot;,NA,&quot;MIR6859-1&quot;,&quot;HGNC&quot;,&quot;HGNC:50039&quot;,NA,NA,NA,&quot;MODIFIER&quot;,NA,NA,NA,NA,NA,NA,NA,NA,NA,NA,NA,NA,NA,-1,NA,&quot;ENST00000619216&quot;,NA,NA,NA,&quot;T&quot;),(1,NA,NA,&quot;transcribed_pseudogene&quot;,1,NA,NA,NA,NA,NA,NA,[&quot;intron_variant&quot;,&quot;non_coding_transcript_variant&quot;],NA,NA,NA,&quot;653635&quot;,NA,&quot;WASH7P&quot;,&quot;EntrezGene&quot;,&quot;HGNC:38034&quot;,&quot;NR_024540.1:n.921+17C&gt;A&quot;,NA,NA,&quot;MODIFIER&quot;,&quot;7/10&quot;,NA,NA,NA,NA,NA,NA,NA,NA,NA,NA,NA,NA,-1,NA,&quot;NR_024540.1&quot;,NA,NA,NA,&quot;T&quot;),(1,NA,NA,&quot;transcribed_pseudogene&quot;,1,NA,NA,NA,NA,NA,NA,[&quot;downstream_gene_variant&quot;],2432,NA,NA,&quot;100287102&quot;,NA,&quot;DDX11L1&quot;,&quot;EntrezGene&quot;,&quot;HGNC:37102&quot;,NA,NA,NA,&quot;MODIFIER&quot;,NA,NA,NA,NA,NA,NA,NA,NA,NA,NA,NA,NA,NA,1,NA,&quot;NR_046018.2&quot;,NA,NA,NA,&quot;T&quot;),(1,NA,NA,&quot;miRNA&quot;,1,NA,NA,NA,NA,NA,NA,[&quot;downstream_gene_variant&quot;],528,NA,NA,&quot;102466751&quot;,NA,&quot;MIR6859-1&quot;,&quot;EntrezGene&quot;,&quot;HGNC:50039&quot;,NA,NA,NA,&quot;MODIFIER&quot;,NA,NA,NA,NA,NA,NA,NA,NA,NA,NA,NA,NA,NA,-1,NA,&quot;NR_106918.1&quot;,NA,NA,NA,&quot;T&quot;)]</td><td style=\"white-space: nowrap; max-width: 500px; overflow: hidden; text-overflow: ellipsis; \">&quot;SNV&quot;</td></tr>\n",
       "<tr><td style=\"white-space: nowrap; max-width: 500px; overflow: hidden; text-overflow: ellipsis; \">chr1:17020</td><td style=\"white-space: nowrap; max-width: 500px; overflow: hidden; text-overflow: ellipsis; \">[&quot;G&quot;,&quot;A&quot;]</td><td style=\"white-space: nowrap; max-width: 500px; overflow: hidden; text-overflow: ellipsis; \">&quot;GRCh38&quot;</td><td style=\"white-space: nowrap; max-width: 500px; overflow: hidden; text-overflow: ellipsis; \">&quot;G/A&quot;</td><td style=\"white-space: nowrap; max-width: 500px; overflow: hidden; text-overflow: ellipsis; \">NA</td><td style=\"white-space: nowrap; max-width: 500px; overflow: hidden; text-overflow: ellipsis; \">NA</td><td style=\"white-space: nowrap; max-width: 500px; overflow: hidden; text-overflow: ellipsis; \">17020</td><td style=\"white-space: nowrap; max-width: 500px; overflow: hidden; text-overflow: ellipsis; \">&quot;.&quot;</td><td style=\"white-space: nowrap; max-width: 500px; overflow: hidden; text-overflow: ellipsis; \">&quot;chr1\t17020\t.\tG\tA\t.\t.\tGT&quot;</td><td style=\"white-space: nowrap; max-width: 500px; overflow: hidden; text-overflow: ellipsis; \">NA</td><td style=\"white-space: nowrap; max-width: 500px; overflow: hidden; text-overflow: ellipsis; \">&quot;non_coding_transcript_exon_variant&quot;</td><td style=\"white-space: nowrap; max-width: 500px; overflow: hidden; text-overflow: ellipsis; \">NA</td><td style=\"white-space: nowrap; max-width: 500px; overflow: hidden; text-overflow: ellipsis; \">NA</td><td style=\"white-space: nowrap; max-width: 500px; overflow: hidden; text-overflow: ellipsis; \">&quot;chr1&quot;</td><td style=\"white-space: nowrap; max-width: 500px; overflow: hidden; text-overflow: ellipsis; \">17020</td><td style=\"white-space: nowrap; max-width: 500px; overflow: hidden; text-overflow: ellipsis; \">1</td><td style=\"white-space: nowrap; max-width: 500px; overflow: hidden; text-overflow: ellipsis; \">[(1,NA,NA,&quot;transcribed_unprocessed_pseudogene&quot;,NA,NA,NA,NA,NA,NA,NA,[&quot;downstream_gene_variant&quot;],3350,NA,NA,&quot;ENSG00000223972&quot;,NA,&quot;DDX11L1&quot;,&quot;HGNC&quot;,&quot;HGNC:37102&quot;,NA,NA,NA,&quot;MODIFIER&quot;,NA,NA,NA,NA,NA,NA,NA,NA,NA,NA,NA,NA,NA,1,NA,&quot;ENST00000450305&quot;,NA,NA,NA,&quot;A&quot;),(1,NA,NA,&quot;processed_transcript&quot;,1,NA,NA,NA,NA,NA,NA,[&quot;downstream_gene_variant&quot;],2611,NA,NA,&quot;ENSG00000223972&quot;,NA,&quot;DDX11L1&quot;,&quot;HGNC&quot;,&quot;HGNC:37102&quot;,NA,NA,NA,&quot;MODIFIER&quot;,NA,NA,NA,NA,NA,NA,NA,NA,NA,NA,NA,NA,NA,1,NA,&quot;ENST00000456328&quot;,NA,1,NA,&quot;A&quot;),(1,NA,NA,&quot;unprocessed_pseudogene&quot;,1,NA,746,746,NA,NA,NA,[&quot;non_coding_transcript_exon_variant&quot;],NA,NA,&quot;7/11&quot;,&quot;ENSG00000227232&quot;,NA,&quot;WASH7P&quot;,&quot;HGNC&quot;,&quot;HGNC:38034&quot;,&quot;ENST00000488147.1:n.746C&gt;T&quot;,NA,NA,&quot;MODIFIER&quot;,NA,NA,NA,NA,NA,NA,NA,NA,NA,NA,NA,NA,NA,-1,NA,&quot;ENST00000488147&quot;,NA,NA,NA,&quot;A&quot;),(1,NA,NA,&quot;miRNA&quot;,1,NA,NA,NA,NA,NA,NA,[&quot;downstream_gene_variant&quot;],349,NA,NA,&quot;ENSG00000278267&quot;,NA,&quot;MIR6859-1&quot;,&quot;HGNC&quot;,&quot;HGNC:50039&quot;,NA,NA,NA,&quot;MODIFIER&quot;,NA,NA,NA,NA,NA,NA,NA,NA,NA,NA,NA,NA,NA,-1,NA,&quot;ENST00000619216&quot;,NA,NA,NA,&quot;A&quot;),(1,NA,NA,&quot;transcribed_pseudogene&quot;,1,NA,759,759,NA,NA,NA,[&quot;non_coding_transcript_exon_variant&quot;],NA,NA,&quot;7/11&quot;,&quot;653635&quot;,NA,&quot;WASH7P&quot;,&quot;EntrezGene&quot;,&quot;HGNC:38034&quot;,&quot;NR_024540.1:n.759C&gt;T&quot;,NA,NA,&quot;MODIFIER&quot;,NA,NA,NA,NA,NA,NA,NA,NA,NA,NA,NA,NA,NA,-1,NA,&quot;NR_024540.1&quot;,NA,NA,NA,&quot;A&quot;),(1,NA,NA,&quot;transcribed_pseudogene&quot;,1,NA,NA,NA,NA,NA,NA,[&quot;downstream_gene_variant&quot;],2611,NA,NA,&quot;100287102&quot;,NA,&quot;DDX11L1&quot;,&quot;EntrezGene&quot;,&quot;HGNC:37102&quot;,NA,NA,NA,&quot;MODIFIER&quot;,NA,NA,NA,NA,NA,NA,NA,NA,NA,NA,NA,NA,NA,1,NA,&quot;NR_046018.2&quot;,NA,NA,NA,&quot;A&quot;),(1,NA,NA,&quot;miRNA&quot;,1,NA,NA,NA,NA,NA,NA,[&quot;downstream_gene_variant&quot;],349,NA,NA,&quot;102466751&quot;,NA,&quot;MIR6859-1&quot;,&quot;EntrezGene&quot;,&quot;HGNC:50039&quot;,NA,NA,NA,&quot;MODIFIER&quot;,NA,NA,NA,NA,NA,NA,NA,NA,NA,NA,NA,NA,NA,-1,NA,&quot;NR_106918.1&quot;,NA,NA,NA,&quot;A&quot;)]</td><td style=\"white-space: nowrap; max-width: 500px; overflow: hidden; text-overflow: ellipsis; \">&quot;SNV&quot;</td></tr>\n",
       "<tr><td style=\"white-space: nowrap; max-width: 500px; overflow: hidden; text-overflow: ellipsis; \">chr1:17147</td><td style=\"white-space: nowrap; max-width: 500px; overflow: hidden; text-overflow: ellipsis; \">[&quot;G&quot;,&quot;A&quot;]</td><td style=\"white-space: nowrap; max-width: 500px; overflow: hidden; text-overflow: ellipsis; \">&quot;GRCh38&quot;</td><td style=\"white-space: nowrap; max-width: 500px; overflow: hidden; text-overflow: ellipsis; \">&quot;G/A&quot;</td><td style=\"white-space: nowrap; max-width: 500px; overflow: hidden; text-overflow: ellipsis; \">NA</td><td style=\"white-space: nowrap; max-width: 500px; overflow: hidden; text-overflow: ellipsis; \">NA</td><td style=\"white-space: nowrap; max-width: 500px; overflow: hidden; text-overflow: ellipsis; \">17147</td><td style=\"white-space: nowrap; max-width: 500px; overflow: hidden; text-overflow: ellipsis; \">&quot;.&quot;</td><td style=\"white-space: nowrap; max-width: 500px; overflow: hidden; text-overflow: ellipsis; \">&quot;chr1\t17147\t.\tG\tA\t.\t.\tGT&quot;</td><td style=\"white-space: nowrap; max-width: 500px; overflow: hidden; text-overflow: ellipsis; \">NA</td><td style=\"white-space: nowrap; max-width: 500px; overflow: hidden; text-overflow: ellipsis; \">&quot;intron_variant&quot;</td><td style=\"white-space: nowrap; max-width: 500px; overflow: hidden; text-overflow: ellipsis; \">NA</td><td style=\"white-space: nowrap; max-width: 500px; overflow: hidden; text-overflow: ellipsis; \">NA</td><td style=\"white-space: nowrap; max-width: 500px; overflow: hidden; text-overflow: ellipsis; \">&quot;chr1&quot;</td><td style=\"white-space: nowrap; max-width: 500px; overflow: hidden; text-overflow: ellipsis; \">17147</td><td style=\"white-space: nowrap; max-width: 500px; overflow: hidden; text-overflow: ellipsis; \">1</td><td style=\"white-space: nowrap; max-width: 500px; overflow: hidden; text-overflow: ellipsis; \">[(1,NA,NA,&quot;transcribed_unprocessed_pseudogene&quot;,NA,NA,NA,NA,NA,NA,NA,[&quot;downstream_gene_variant&quot;],3477,NA,NA,&quot;ENSG00000223972&quot;,NA,&quot;DDX11L1&quot;,&quot;HGNC&quot;,&quot;HGNC:37102&quot;,NA,NA,NA,&quot;MODIFIER&quot;,NA,NA,NA,NA,NA,NA,NA,NA,NA,NA,NA,NA,NA,1,NA,&quot;ENST00000450305&quot;,NA,NA,NA,&quot;A&quot;),(1,NA,NA,&quot;processed_transcript&quot;,1,NA,NA,NA,NA,NA,NA,[&quot;downstream_gene_variant&quot;],2738,NA,NA,&quot;ENSG00000223972&quot;,NA,&quot;DDX11L1&quot;,&quot;HGNC&quot;,&quot;HGNC:37102&quot;,NA,NA,NA,&quot;MODIFIER&quot;,NA,NA,NA,NA,NA,NA,NA,NA,NA,NA,NA,NA,NA,1,NA,&quot;ENST00000456328&quot;,NA,1,NA,&quot;A&quot;),(1,NA,NA,&quot;unprocessed_pseudogene&quot;,1,NA,NA,NA,NA,NA,NA,[&quot;intron_variant&quot;,&quot;non_coding_transcript_variant&quot;],NA,NA,NA,&quot;ENSG00000227232&quot;,NA,&quot;WASH7P&quot;,&quot;HGNC&quot;,&quot;HGNC:38034&quot;,&quot;ENST00000488147.1:n.710+86C&gt;T&quot;,NA,NA,&quot;MODIFIER&quot;,&quot;6/10&quot;,NA,NA,NA,NA,NA,NA,NA,NA,NA,NA,NA,NA,-1,NA,&quot;ENST00000488147&quot;,NA,NA,NA,&quot;A&quot;),(1,NA,NA,&quot;miRNA&quot;,1,NA,NA,NA,NA,NA,NA,[&quot;downstream_gene_variant&quot;],222,NA,NA,&quot;ENSG00000278267&quot;,NA,&quot;MIR6859-1&quot;,&quot;HGNC&quot;,&quot;HGNC:50039&quot;,NA,NA,NA,&quot;MODIFIER&quot;,NA,NA,NA,NA,NA,NA,NA,NA,NA,NA,NA,NA,NA,-1,NA,&quot;ENST00000619216&quot;,NA,NA,NA,&quot;A&quot;),(1,NA,NA,&quot;transcribed_pseudogene&quot;,1,NA,NA,NA,NA,NA,NA,[&quot;intron_variant&quot;,&quot;non_coding_transcript_variant&quot;],NA,NA,NA,&quot;653635&quot;,NA,&quot;WASH7P&quot;,&quot;EntrezGene&quot;,&quot;HGNC:38034&quot;,&quot;NR_024540.1:n.723+86C&gt;T&quot;,NA,NA,&quot;MODIFIER&quot;,&quot;6/10&quot;,NA,NA,NA,NA,NA,NA,NA,NA,NA,NA,NA,NA,-1,NA,&quot;NR_024540.1&quot;,NA,NA,NA,&quot;A&quot;),(1,NA,NA,&quot;transcribed_pseudogene&quot;,1,NA,NA,NA,NA,NA,NA,[&quot;downstream_gene_variant&quot;],2738,NA,NA,&quot;100287102&quot;,NA,&quot;DDX11L1&quot;,&quot;EntrezGene&quot;,&quot;HGNC:37102&quot;,NA,NA,NA,&quot;MODIFIER&quot;,NA,NA,NA,NA,NA,NA,NA,NA,NA,NA,NA,NA,NA,1,NA,&quot;NR_046018.2&quot;,NA,NA,NA,&quot;A&quot;),(1,NA,NA,&quot;miRNA&quot;,1,NA,NA,NA,NA,NA,NA,[&quot;downstream_gene_variant&quot;],222,NA,NA,&quot;102466751&quot;,NA,&quot;MIR6859-1&quot;,&quot;EntrezGene&quot;,&quot;HGNC:50039&quot;,NA,NA,NA,&quot;MODIFIER&quot;,NA,NA,NA,NA,NA,NA,NA,NA,NA,NA,NA,NA,NA,-1,NA,&quot;NR_106918.1&quot;,NA,NA,NA,&quot;A&quot;)]</td><td style=\"white-space: nowrap; max-width: 500px; overflow: hidden; text-overflow: ellipsis; \">&quot;SNV&quot;</td></tr>\n",
       "<tr><td style=\"white-space: nowrap; max-width: 500px; overflow: hidden; text-overflow: ellipsis; \">chr1:17385</td><td style=\"white-space: nowrap; max-width: 500px; overflow: hidden; text-overflow: ellipsis; \">[&quot;G&quot;,&quot;A&quot;]</td><td style=\"white-space: nowrap; max-width: 500px; overflow: hidden; text-overflow: ellipsis; \">&quot;GRCh38&quot;</td><td style=\"white-space: nowrap; max-width: 500px; overflow: hidden; text-overflow: ellipsis; \">&quot;G/A&quot;</td><td style=\"white-space: nowrap; max-width: 500px; overflow: hidden; text-overflow: ellipsis; \">NA</td><td style=\"white-space: nowrap; max-width: 500px; overflow: hidden; text-overflow: ellipsis; \">NA</td><td style=\"white-space: nowrap; max-width: 500px; overflow: hidden; text-overflow: ellipsis; \">17385</td><td style=\"white-space: nowrap; max-width: 500px; overflow: hidden; text-overflow: ellipsis; \">&quot;.&quot;</td><td style=\"white-space: nowrap; max-width: 500px; overflow: hidden; text-overflow: ellipsis; \">&quot;chr1\t17385\t.\tG\tA\t.\t.\tGT&quot;</td><td style=\"white-space: nowrap; max-width: 500px; overflow: hidden; text-overflow: ellipsis; \">NA</td><td style=\"white-space: nowrap; max-width: 500px; overflow: hidden; text-overflow: ellipsis; \">&quot;mature_miRNA_variant&quot;</td><td style=\"white-space: nowrap; max-width: 500px; overflow: hidden; text-overflow: ellipsis; \">NA</td><td style=\"white-space: nowrap; max-width: 500px; overflow: hidden; text-overflow: ellipsis; \">NA</td><td style=\"white-space: nowrap; max-width: 500px; overflow: hidden; text-overflow: ellipsis; \">&quot;chr1&quot;</td><td style=\"white-space: nowrap; max-width: 500px; overflow: hidden; text-overflow: ellipsis; \">17385</td><td style=\"white-space: nowrap; max-width: 500px; overflow: hidden; text-overflow: ellipsis; \">1</td><td style=\"white-space: nowrap; max-width: 500px; overflow: hidden; text-overflow: ellipsis; \">[(1,NA,NA,&quot;transcribed_unprocessed_pseudogene&quot;,NA,NA,NA,NA,NA,NA,NA,[&quot;downstream_gene_variant&quot;],3715,NA,NA,&quot;ENSG00000223972&quot;,NA,&quot;DDX11L1&quot;,&quot;HGNC&quot;,&quot;HGNC:37102&quot;,NA,NA,NA,&quot;MODIFIER&quot;,NA,NA,NA,NA,NA,NA,NA,NA,NA,NA,NA,NA,NA,1,NA,&quot;ENST00000450305&quot;,NA,NA,NA,&quot;A&quot;),(1,NA,NA,&quot;processed_transcript&quot;,1,NA,NA,NA,NA,NA,NA,[&quot;downstream_gene_variant&quot;],2976,NA,NA,&quot;ENSG00000223972&quot;,NA,&quot;DDX11L1&quot;,&quot;HGNC&quot;,&quot;HGNC:37102&quot;,NA,NA,NA,&quot;MODIFIER&quot;,NA,NA,NA,NA,NA,NA,NA,NA,NA,NA,NA,NA,NA,1,NA,&quot;ENST00000456328&quot;,NA,1,NA,&quot;A&quot;),(1,NA,NA,&quot;unprocessed_pseudogene&quot;,1,NA,NA,NA,NA,NA,NA,[&quot;intron_variant&quot;,&quot;non_coding_transcript_variant&quot;],NA,NA,NA,&quot;ENSG00000227232&quot;,NA,&quot;WASH7P&quot;,&quot;HGNC&quot;,&quot;HGNC:38034&quot;,&quot;ENST00000488147.1:n.575-17C&gt;T&quot;,NA,NA,&quot;MODIFIER&quot;,&quot;5/10&quot;,NA,NA,NA,NA,NA,NA,NA,NA,NA,NA,NA,NA,-1,NA,&quot;ENST00000488147&quot;,NA,NA,NA,&quot;A&quot;),(1,NA,NA,&quot;miRNA&quot;,1,NA,52,52,NA,NA,NA,[&quot;mature_miRNA_variant&quot;],NA,NA,&quot;1/1&quot;,&quot;ENSG00000278267&quot;,NA,&quot;MIR6859-1&quot;,&quot;HGNC&quot;,&quot;HGNC:50039&quot;,&quot;ENST00000619216.1:n.52C&gt;T&quot;,NA,NA,&quot;MODIFIER&quot;,NA,NA,NA,NA,NA,NA,NA,NA,NA,NA,NA,NA,NA,-1,NA,&quot;ENST00000619216&quot;,NA,NA,NA,&quot;A&quot;),(1,NA,NA,&quot;transcribed_pseudogene&quot;,1,NA,NA,NA,NA,NA,NA,[&quot;intron_variant&quot;,&quot;non_coding_transcript_variant&quot;],NA,NA,NA,&quot;653635&quot;,NA,&quot;WASH7P&quot;,&quot;EntrezGene&quot;,&quot;HGNC:38034&quot;,&quot;NR_024540.1:n.588-17C&gt;T&quot;,NA,NA,&quot;MODIFIER&quot;,&quot;5/10&quot;,NA,NA,NA,NA,NA,NA,NA,NA,NA,NA,NA,NA,-1,NA,&quot;NR_024540.1&quot;,NA,NA,NA,&quot;A&quot;),(1,NA,NA,&quot;transcribed_pseudogene&quot;,1,NA,NA,NA,NA,NA,NA,[&quot;downstream_gene_variant&quot;],2976,NA,NA,&quot;100287102&quot;,NA,&quot;DDX11L1&quot;,&quot;EntrezGene&quot;,&quot;HGNC:37102&quot;,NA,NA,NA,&quot;MODIFIER&quot;,NA,NA,NA,NA,NA,NA,NA,NA,NA,NA,NA,NA,NA,1,NA,&quot;NR_046018.2&quot;,NA,NA,NA,&quot;A&quot;),(1,NA,NA,&quot;miRNA&quot;,1,NA,52,52,NA,NA,NA,[&quot;non_coding_transcript_exon_variant&quot;],NA,NA,&quot;1/1&quot;,&quot;102466751&quot;,NA,&quot;MIR6859-1&quot;,&quot;EntrezGene&quot;,&quot;HGNC:50039&quot;,&quot;NR_106918.1:n.52C&gt;T&quot;,NA,NA,&quot;MODIFIER&quot;,NA,NA,NA,NA,NA,NA,NA,NA,NA,NA,NA,NA,NA,-1,NA,&quot;NR_106918.1&quot;,NA,NA,NA,&quot;A&quot;)]</td><td style=\"white-space: nowrap; max-width: 500px; overflow: hidden; text-overflow: ellipsis; \">&quot;SNV&quot;</td></tr>\n",
       "<tr><td style=\"white-space: nowrap; max-width: 500px; overflow: hidden; text-overflow: ellipsis; \">chr1:17407</td><td style=\"white-space: nowrap; max-width: 500px; overflow: hidden; text-overflow: ellipsis; \">[&quot;G&quot;,&quot;A&quot;]</td><td style=\"white-space: nowrap; max-width: 500px; overflow: hidden; text-overflow: ellipsis; \">&quot;GRCh38&quot;</td><td style=\"white-space: nowrap; max-width: 500px; overflow: hidden; text-overflow: ellipsis; \">&quot;G/A&quot;</td><td style=\"white-space: nowrap; max-width: 500px; overflow: hidden; text-overflow: ellipsis; \">NA</td><td style=\"white-space: nowrap; max-width: 500px; overflow: hidden; text-overflow: ellipsis; \">NA</td><td style=\"white-space: nowrap; max-width: 500px; overflow: hidden; text-overflow: ellipsis; \">17407</td><td style=\"white-space: nowrap; max-width: 500px; overflow: hidden; text-overflow: ellipsis; \">&quot;.&quot;</td><td style=\"white-space: nowrap; max-width: 500px; overflow: hidden; text-overflow: ellipsis; \">&quot;chr1\t17407\t.\tG\tA\t.\t.\tGT&quot;</td><td style=\"white-space: nowrap; max-width: 500px; overflow: hidden; text-overflow: ellipsis; \">NA</td><td style=\"white-space: nowrap; max-width: 500px; overflow: hidden; text-overflow: ellipsis; \">&quot;non_coding_transcript_exon_variant&quot;</td><td style=\"white-space: nowrap; max-width: 500px; overflow: hidden; text-overflow: ellipsis; \">NA</td><td style=\"white-space: nowrap; max-width: 500px; overflow: hidden; text-overflow: ellipsis; \">NA</td><td style=\"white-space: nowrap; max-width: 500px; overflow: hidden; text-overflow: ellipsis; \">&quot;chr1&quot;</td><td style=\"white-space: nowrap; max-width: 500px; overflow: hidden; text-overflow: ellipsis; \">17407</td><td style=\"white-space: nowrap; max-width: 500px; overflow: hidden; text-overflow: ellipsis; \">1</td><td style=\"white-space: nowrap; max-width: 500px; overflow: hidden; text-overflow: ellipsis; \">[(1,NA,NA,&quot;transcribed_unprocessed_pseudogene&quot;,NA,NA,NA,NA,NA,NA,NA,[&quot;downstream_gene_variant&quot;],3737,NA,NA,&quot;ENSG00000223972&quot;,NA,&quot;DDX11L1&quot;,&quot;HGNC&quot;,&quot;HGNC:37102&quot;,NA,NA,NA,&quot;MODIFIER&quot;,NA,NA,NA,NA,NA,NA,NA,NA,NA,NA,NA,NA,NA,1,NA,&quot;ENST00000450305&quot;,NA,NA,NA,&quot;A&quot;),(1,NA,NA,&quot;processed_transcript&quot;,1,NA,NA,NA,NA,NA,NA,[&quot;downstream_gene_variant&quot;],2998,NA,NA,&quot;ENSG00000223972&quot;,NA,&quot;DDX11L1&quot;,&quot;HGNC&quot;,&quot;HGNC:37102&quot;,NA,NA,NA,&quot;MODIFIER&quot;,NA,NA,NA,NA,NA,NA,NA,NA,NA,NA,NA,NA,NA,1,NA,&quot;ENST00000456328&quot;,NA,1,NA,&quot;A&quot;),(1,NA,NA,&quot;unprocessed_pseudogene&quot;,1,NA,NA,NA,NA,NA,NA,[&quot;intron_variant&quot;,&quot;non_coding_transcript_variant&quot;],NA,NA,NA,&quot;ENSG00000227232&quot;,NA,&quot;WASH7P&quot;,&quot;HGNC&quot;,&quot;HGNC:38034&quot;,&quot;ENST00000488147.1:n.575-39C&gt;T&quot;,NA,NA,&quot;MODIFIER&quot;,&quot;5/10&quot;,NA,NA,NA,NA,NA,NA,NA,NA,NA,NA,NA,NA,-1,NA,&quot;ENST00000488147&quot;,NA,NA,NA,&quot;A&quot;),(1,NA,NA,&quot;miRNA&quot;,1,NA,30,30,NA,NA,NA,[&quot;non_coding_transcript_exon_variant&quot;],NA,NA,&quot;1/1&quot;,&quot;ENSG00000278267&quot;,NA,&quot;MIR6859-1&quot;,&quot;HGNC&quot;,&quot;HGNC:50039&quot;,&quot;ENST00000619216.1:n.30C&gt;T&quot;,NA,NA,&quot;MODIFIER&quot;,NA,NA,NA,NA,NA,NA,NA,NA,NA,NA,NA,NA,NA,-1,NA,&quot;ENST00000619216&quot;,NA,NA,NA,&quot;A&quot;),(1,NA,NA,&quot;transcribed_pseudogene&quot;,1,NA,NA,NA,NA,NA,NA,[&quot;intron_variant&quot;,&quot;non_coding_transcript_variant&quot;],NA,NA,NA,&quot;653635&quot;,NA,&quot;WASH7P&quot;,&quot;EntrezGene&quot;,&quot;HGNC:38034&quot;,&quot;NR_024540.1:n.588-39C&gt;T&quot;,NA,NA,&quot;MODIFIER&quot;,&quot;5/10&quot;,NA,NA,NA,NA,NA,NA,NA,NA,NA,NA,NA,NA,-1,NA,&quot;NR_024540.1&quot;,NA,NA,NA,&quot;A&quot;),(1,NA,NA,&quot;transcribed_pseudogene&quot;,1,NA,NA,NA,NA,NA,NA,[&quot;downstream_gene_variant&quot;],2998,NA,NA,&quot;100287102&quot;,NA,&quot;DDX11L1&quot;,&quot;EntrezGene&quot;,&quot;HGNC:37102&quot;,NA,NA,NA,&quot;MODIFIER&quot;,NA,NA,NA,NA,NA,NA,NA,NA,NA,NA,NA,NA,NA,1,NA,&quot;NR_046018.2&quot;,NA,NA,NA,&quot;A&quot;),(1,NA,NA,&quot;miRNA&quot;,1,NA,30,30,NA,NA,NA,[&quot;non_coding_transcript_exon_variant&quot;],NA,NA,&quot;1/1&quot;,&quot;102466751&quot;,NA,&quot;MIR6859-1&quot;,&quot;EntrezGene&quot;,&quot;HGNC:50039&quot;,&quot;NR_106918.1:n.30C&gt;T&quot;,NA,NA,&quot;MODIFIER&quot;,NA,NA,NA,NA,NA,NA,NA,NA,NA,NA,NA,NA,NA,-1,NA,&quot;NR_106918.1&quot;,NA,NA,NA,&quot;A&quot;)]</td><td style=\"white-space: nowrap; max-width: 500px; overflow: hidden; text-overflow: ellipsis; \">&quot;SNV&quot;</td></tr>\n",
       "</tbody></table><p style=\"background: #fdd; padding: 0.4em;\">showing top 10 rows</p>\n"
      ],
      "text/plain": [
       "+---------------+------------+-------------------+-------------------+\n",
       "| locus         | alleles    | vep.assembly_name | vep.allele_string |\n",
       "+---------------+------------+-------------------+-------------------+\n",
       "| locus<GRCh38> | array<str> | str               | str               |\n",
       "+---------------+------------+-------------------+-------------------+\n",
       "| chr1:14464    | [\"A\",\"T\"]  | \"GRCh38\"          | \"A/T\"             |\n",
       "| chr1:16298    | [\"C\",\"T\"]  | \"GRCh38\"          | \"C/T\"             |\n",
       "| chr1:16378    | [\"T\",\"C\"]  | \"GRCh38\"          | \"T/C\"             |\n",
       "| chr1:16487    | [\"T\",\"C\"]  | \"GRCh38\"          | \"T/C\"             |\n",
       "| chr1:16495    | [\"G\",\"C\"]  | \"GRCh38\"          | \"G/C\"             |\n",
       "| chr1:16841    | [\"G\",\"T\"]  | \"GRCh38\"          | \"G/T\"             |\n",
       "| chr1:17020    | [\"G\",\"A\"]  | \"GRCh38\"          | \"G/A\"             |\n",
       "| chr1:17147    | [\"G\",\"A\"]  | \"GRCh38\"          | \"G/A\"             |\n",
       "| chr1:17385    | [\"G\",\"A\"]  | \"GRCh38\"          | \"G/A\"             |\n",
       "| chr1:17407    | [\"G\",\"A\"]  | \"GRCh38\"          | \"G/A\"             |\n",
       "+---------------+------------+-------------------+-------------------+\n",
       "\n",
       "+---------------+-------------+---------+--------+---------------------------+\n",
       "| vep.ancestral | vep.context | vep.end | vep.id | vep.input                 |\n",
       "+---------------+-------------+---------+--------+---------------------------+\n",
       "| str           | str         |   int32 | str    | str                       |\n",
       "+---------------+-------------+---------+--------+---------------------------+\n",
       "| NA            | NA          |   14464 | \".\"    | \"chr1\t14464\t.\tA\tT\t.\t.\tGT\" |\n",
       "| NA            | NA          |   16298 | \".\"    | \"chr1\t16298\t.\tC\tT\t.\t.\tGT\" |\n",
       "| NA            | NA          |   16378 | \".\"    | \"chr1\t16378\t.\tT\tC\t.\t.\tGT\" |\n",
       "| NA            | NA          |   16487 | \".\"    | \"chr1\t16487\t.\tT\tC\t.\t.\tGT\" |\n",
       "| NA            | NA          |   16495 | \".\"    | \"chr1\t16495\t.\tG\tC\t.\t.\tGT\" |\n",
       "| NA            | NA          |   16841 | \".\"    | \"chr1\t16841\t.\tG\tT\t.\t.\tGT\" |\n",
       "| NA            | NA          |   17020 | \".\"    | \"chr1\t17020\t.\tG\tA\t.\t.\tGT\" |\n",
       "| NA            | NA          |   17147 | \".\"    | \"chr1\t17147\t.\tG\tA\t.\t.\tGT\" |\n",
       "| NA            | NA          |   17385 | \".\"    | \"chr1\t17385\t.\tG\tA\t.\t.\tGT\" |\n",
       "| NA            | NA          |   17407 | \".\"    | \"chr1\t17407\t.\tG\tA\t.\t.\tGT\" |\n",
       "+---------------+-------------+---------+--------+---------------------------+\n",
       "\n",
       "+------------------------------------------------------------------------------+\n",
       "| vep.intergenic_consequences                                                  |\n",
       "+------------------------------------------------------------------------------+\n",
       "| array<struct{allele_num: int32, consequence_terms: array<str>, impact: st... |\n",
       "+------------------------------------------------------------------------------+\n",
       "| NA                                                                           |\n",
       "| NA                                                                           |\n",
       "| NA                                                                           |\n",
       "| NA                                                                           |\n",
       "| NA                                                                           |\n",
       "| NA                                                                           |\n",
       "| NA                                                                           |\n",
       "| NA                                                                           |\n",
       "| NA                                                                           |\n",
       "| NA                                                                           |\n",
       "+------------------------------------------------------------------------------+\n",
       "\n",
       "+--------------------------------------+\n",
       "| vep.most_severe_consequence          |\n",
       "+--------------------------------------+\n",
       "| str                                  |\n",
       "+--------------------------------------+\n",
       "| \"non_coding_transcript_exon_variant\" |\n",
       "| \"intron_variant\"                     |\n",
       "| \"intron_variant\"                     |\n",
       "| \"intron_variant\"                     |\n",
       "| \"intron_variant\"                     |\n",
       "| \"intron_variant\"                     |\n",
       "| \"non_coding_transcript_exon_variant\" |\n",
       "| \"intron_variant\"                     |\n",
       "| \"mature_miRNA_variant\"               |\n",
       "| \"non_coding_transcript_exon_variant\" |\n",
       "+--------------------------------------+\n",
       "\n",
       "+------------------------------------------------------------------------------+\n",
       "| vep.motif_feature_consequences                                               |\n",
       "+------------------------------------------------------------------------------+\n",
       "| array<struct{allele_num: int32, consequence_terms: array<str>, high_inf_p... |\n",
       "+------------------------------------------------------------------------------+\n",
       "| NA                                                                           |\n",
       "| [(1,[\"TF_binding_site_variant\"],\"Y\",\"MODIFIER\",NA,\"ENSM00205579305\",\"ENSP... |\n",
       "| NA                                                                           |\n",
       "| NA                                                                           |\n",
       "| NA                                                                           |\n",
       "| NA                                                                           |\n",
       "| NA                                                                           |\n",
       "| NA                                                                           |\n",
       "| NA                                                                           |\n",
       "| NA                                                                           |\n",
       "+------------------------------------------------------------------------------+\n",
       "\n",
       "+------------------------------------------------------------------------------+\n",
       "| vep.regulatory_feature_consequences                                          |\n",
       "+------------------------------------------------------------------------------+\n",
       "| array<struct{allele_num: int32, biotype: str, consequence_terms: array<st... |\n",
       "+------------------------------------------------------------------------------+\n",
       "| NA                                                                           |\n",
       "| [(1,\"CTCF_binding_site\",[\"regulatory_region_variant\"],\"MODIFIER\",NA,\"ENSR... |\n",
       "| [(1,\"CTCF_binding_site\",[\"regulatory_region_variant\"],\"MODIFIER\",NA,\"ENSR... |\n",
       "| [(1,\"CTCF_binding_site\",[\"regulatory_region_variant\"],\"MODIFIER\",NA,\"ENSR... |\n",
       "| [(1,\"CTCF_binding_site\",[\"regulatory_region_variant\"],\"MODIFIER\",NA,\"ENSR... |\n",
       "| NA                                                                           |\n",
       "| NA                                                                           |\n",
       "| NA                                                                           |\n",
       "| NA                                                                           |\n",
       "| NA                                                                           |\n",
       "+------------------------------------------------------------------------------+\n",
       "\n",
       "+---------------------+-----------+------------+\n",
       "| vep.seq_region_name | vep.start | vep.strand |\n",
       "+---------------------+-----------+------------+\n",
       "| str                 |     int32 |      int32 |\n",
       "+---------------------+-----------+------------+\n",
       "| \"chr1\"              |     14464 |          1 |\n",
       "| \"chr1\"              |     16298 |          1 |\n",
       "| \"chr1\"              |     16378 |          1 |\n",
       "| \"chr1\"              |     16487 |          1 |\n",
       "| \"chr1\"              |     16495 |          1 |\n",
       "| \"chr1\"              |     16841 |          1 |\n",
       "| \"chr1\"              |     17020 |          1 |\n",
       "| \"chr1\"              |     17147 |          1 |\n",
       "| \"chr1\"              |     17385 |          1 |\n",
       "| \"chr1\"              |     17407 |          1 |\n",
       "+---------------------+-----------+------------+\n",
       "\n",
       "+------------------------------------------------------------------------------+\n",
       "| vep.transcript_consequences                                                  |\n",
       "+------------------------------------------------------------------------------+\n",
       "| array<struct{allele_num: int32, amino_acids: str, appris: str, biotype: s... |\n",
       "+------------------------------------------------------------------------------+\n",
       "| [(1,NA,NA,\"transcribed_unprocessed_pseudogene\",NA,NA,NA,NA,NA,NA,NA,[\"dow... |\n",
       "| [(1,NA,NA,\"transcribed_unprocessed_pseudogene\",NA,NA,NA,NA,NA,NA,NA,[\"dow... |\n",
       "| [(1,NA,NA,\"transcribed_unprocessed_pseudogene\",NA,NA,NA,NA,NA,NA,NA,[\"dow... |\n",
       "| [(1,NA,NA,\"transcribed_unprocessed_pseudogene\",NA,NA,NA,NA,NA,NA,NA,[\"dow... |\n",
       "| [(1,NA,NA,\"transcribed_unprocessed_pseudogene\",NA,NA,NA,NA,NA,NA,NA,[\"dow... |\n",
       "| [(1,NA,NA,\"transcribed_unprocessed_pseudogene\",NA,NA,NA,NA,NA,NA,NA,[\"dow... |\n",
       "| [(1,NA,NA,\"transcribed_unprocessed_pseudogene\",NA,NA,NA,NA,NA,NA,NA,[\"dow... |\n",
       "| [(1,NA,NA,\"transcribed_unprocessed_pseudogene\",NA,NA,NA,NA,NA,NA,NA,[\"dow... |\n",
       "| [(1,NA,NA,\"transcribed_unprocessed_pseudogene\",NA,NA,NA,NA,NA,NA,NA,[\"dow... |\n",
       "| [(1,NA,NA,\"transcribed_unprocessed_pseudogene\",NA,NA,NA,NA,NA,NA,NA,[\"dow... |\n",
       "+------------------------------------------------------------------------------+\n",
       "\n",
       "+-------------------+\n",
       "| vep.variant_class |\n",
       "+-------------------+\n",
       "| str               |\n",
       "+-------------------+\n",
       "| \"SNV\"             |\n",
       "| \"SNV\"             |\n",
       "| \"SNV\"             |\n",
       "| \"SNV\"             |\n",
       "| \"SNV\"             |\n",
       "| \"SNV\"             |\n",
       "| \"SNV\"             |\n",
       "| \"SNV\"             |\n",
       "| \"SNV\"             |\n",
       "| \"SNV\"             |\n",
       "+-------------------+\n",
       "showing top 10 rows"
      ]
     },
     "metadata": {},
     "output_type": "display_data"
    }
   ],
   "source": [
    "mt = hl.read_matrix_table('resources/qced-hgdp-1kg.mt')\n",
    "mt.vep.show()"
   ]
  },
  {
   "cell_type": "code",
   "execution_count": 31,
   "id": "27f333bc",
   "metadata": {},
   "outputs": [
    {
     "name": "stderr",
     "output_type": "stream",
     "text": [
      "[Stage 253:===================================================>  (96 + 4) / 100]\r"
     ]
    },
    {
     "data": {
      "text/html": [
       "<table><thead><tr><td style=\"white-space: nowrap; max-width: 500px; overflow: hidden; text-overflow: ellipsis; \" colspan=\"1\"><div style=\"text-align: left;\"></div></td><td style=\"white-space: nowrap; max-width: 500px; overflow: hidden; text-overflow: ellipsis; \" colspan=\"1\"><div style=\"text-align: left;\"></div></td><td style=\"white-space: nowrap; max-width: 500px; overflow: hidden; text-overflow: ellipsis; \" colspan=\"44\"><div style=\"text-align: left;\"></div></td></tr><tr><td style=\"white-space: nowrap; max-width: 500px; overflow: hidden; text-overflow: ellipsis; \" colspan=\"1\"><div style=\"text-align: left;\"></div></td><td style=\"white-space: nowrap; max-width: 500px; overflow: hidden; text-overflow: ellipsis; \" colspan=\"1\"><div style=\"text-align: left;\"></div></td><td style=\"white-space: nowrap; max-width: 500px; overflow: hidden; text-overflow: ellipsis; \" colspan=\"44\"><div style=\"text-align: left;border-bottom: solid 2px #000; padding-bottom: 5px\">interesting_cnsq</div></td></tr><tr><td style=\"white-space: nowrap; max-width: 500px; overflow: hidden; text-overflow: ellipsis; \" colspan=\"1\"><div style=\"text-align: left;border-bottom: solid 2px #000; padding-bottom: 5px\">locus</div></td><td style=\"white-space: nowrap; max-width: 500px; overflow: hidden; text-overflow: ellipsis; \" colspan=\"1\"><div style=\"text-align: left;border-bottom: solid 2px #000; padding-bottom: 5px\">alleles</div></td><td style=\"white-space: nowrap; max-width: 500px; overflow: hidden; text-overflow: ellipsis; \" colspan=\"1\"><div style=\"text-align: left;border-bottom: solid 2px #000; padding-bottom: 5px\">allele_num</div></td><td style=\"white-space: nowrap; max-width: 500px; overflow: hidden; text-overflow: ellipsis; \" colspan=\"1\"><div style=\"text-align: left;border-bottom: solid 2px #000; padding-bottom: 5px\">amino_acids</div></td><td style=\"white-space: nowrap; max-width: 500px; overflow: hidden; text-overflow: ellipsis; \" colspan=\"1\"><div style=\"text-align: left;border-bottom: solid 2px #000; padding-bottom: 5px\">appris</div></td><td style=\"white-space: nowrap; max-width: 500px; overflow: hidden; text-overflow: ellipsis; \" colspan=\"1\"><div style=\"text-align: left;border-bottom: solid 2px #000; padding-bottom: 5px\">biotype</div></td><td style=\"white-space: nowrap; max-width: 500px; overflow: hidden; text-overflow: ellipsis; \" colspan=\"1\"><div style=\"text-align: left;border-bottom: solid 2px #000; padding-bottom: 5px\">canonical</div></td><td style=\"white-space: nowrap; max-width: 500px; overflow: hidden; text-overflow: ellipsis; \" colspan=\"1\"><div style=\"text-align: left;border-bottom: solid 2px #000; padding-bottom: 5px\">ccds</div></td><td style=\"white-space: nowrap; max-width: 500px; overflow: hidden; text-overflow: ellipsis; \" colspan=\"1\"><div style=\"text-align: left;border-bottom: solid 2px #000; padding-bottom: 5px\">cdna_start</div></td><td style=\"white-space: nowrap; max-width: 500px; overflow: hidden; text-overflow: ellipsis; \" colspan=\"1\"><div style=\"text-align: left;border-bottom: solid 2px #000; padding-bottom: 5px\">cdna_end</div></td><td style=\"white-space: nowrap; max-width: 500px; overflow: hidden; text-overflow: ellipsis; \" colspan=\"1\"><div style=\"text-align: left;border-bottom: solid 2px #000; padding-bottom: 5px\">cds_end</div></td><td style=\"white-space: nowrap; max-width: 500px; overflow: hidden; text-overflow: ellipsis; \" colspan=\"1\"><div style=\"text-align: left;border-bottom: solid 2px #000; padding-bottom: 5px\">cds_start</div></td><td style=\"white-space: nowrap; max-width: 500px; overflow: hidden; text-overflow: ellipsis; \" colspan=\"1\"><div style=\"text-align: left;border-bottom: solid 2px #000; padding-bottom: 5px\">codons</div></td><td style=\"white-space: nowrap; max-width: 500px; overflow: hidden; text-overflow: ellipsis; \" colspan=\"1\"><div style=\"text-align: left;border-bottom: solid 2px #000; padding-bottom: 5px\">consequence_terms</div></td><td style=\"white-space: nowrap; max-width: 500px; overflow: hidden; text-overflow: ellipsis; \" colspan=\"1\"><div style=\"text-align: left;border-bottom: solid 2px #000; padding-bottom: 5px\">distance</div></td><td style=\"white-space: nowrap; max-width: 500px; overflow: hidden; text-overflow: ellipsis; \" colspan=\"1\"><div style=\"text-align: left;border-bottom: solid 2px #000; padding-bottom: 5px\">domains</div></td><td style=\"white-space: nowrap; max-width: 500px; overflow: hidden; text-overflow: ellipsis; \" colspan=\"1\"><div style=\"text-align: left;border-bottom: solid 2px #000; padding-bottom: 5px\">exon</div></td><td style=\"white-space: nowrap; max-width: 500px; overflow: hidden; text-overflow: ellipsis; \" colspan=\"1\"><div style=\"text-align: left;border-bottom: solid 2px #000; padding-bottom: 5px\">gene_id</div></td><td style=\"white-space: nowrap; max-width: 500px; overflow: hidden; text-overflow: ellipsis; \" colspan=\"1\"><div style=\"text-align: left;border-bottom: solid 2px #000; padding-bottom: 5px\">gene_pheno</div></td><td style=\"white-space: nowrap; max-width: 500px; overflow: hidden; text-overflow: ellipsis; \" colspan=\"1\"><div style=\"text-align: left;border-bottom: solid 2px #000; padding-bottom: 5px\">gene_symbol</div></td><td style=\"white-space: nowrap; max-width: 500px; overflow: hidden; text-overflow: ellipsis; \" colspan=\"1\"><div style=\"text-align: left;border-bottom: solid 2px #000; padding-bottom: 5px\">gene_symbol_source</div></td><td style=\"white-space: nowrap; max-width: 500px; overflow: hidden; text-overflow: ellipsis; \" colspan=\"1\"><div style=\"text-align: left;border-bottom: solid 2px #000; padding-bottom: 5px\">hgnc_id</div></td><td style=\"white-space: nowrap; max-width: 500px; overflow: hidden; text-overflow: ellipsis; \" colspan=\"1\"><div style=\"text-align: left;border-bottom: solid 2px #000; padding-bottom: 5px\">hgvsc</div></td><td style=\"white-space: nowrap; max-width: 500px; overflow: hidden; text-overflow: ellipsis; \" colspan=\"1\"><div style=\"text-align: left;border-bottom: solid 2px #000; padding-bottom: 5px\">hgvsp</div></td><td style=\"white-space: nowrap; max-width: 500px; overflow: hidden; text-overflow: ellipsis; \" colspan=\"1\"><div style=\"text-align: left;border-bottom: solid 2px #000; padding-bottom: 5px\">hgvs_offset</div></td><td style=\"white-space: nowrap; max-width: 500px; overflow: hidden; text-overflow: ellipsis; \" colspan=\"1\"><div style=\"text-align: left;border-bottom: solid 2px #000; padding-bottom: 5px\">impact</div></td><td style=\"white-space: nowrap; max-width: 500px; overflow: hidden; text-overflow: ellipsis; \" colspan=\"1\"><div style=\"text-align: left;border-bottom: solid 2px #000; padding-bottom: 5px\">intron</div></td><td style=\"white-space: nowrap; max-width: 500px; overflow: hidden; text-overflow: ellipsis; \" colspan=\"1\"><div style=\"text-align: left;border-bottom: solid 2px #000; padding-bottom: 5px\">lof</div></td><td style=\"white-space: nowrap; max-width: 500px; overflow: hidden; text-overflow: ellipsis; \" colspan=\"1\"><div style=\"text-align: left;border-bottom: solid 2px #000; padding-bottom: 5px\">lof_flags</div></td><td style=\"white-space: nowrap; max-width: 500px; overflow: hidden; text-overflow: ellipsis; \" colspan=\"1\"><div style=\"text-align: left;border-bottom: solid 2px #000; padding-bottom: 5px\">lof_filter</div></td><td style=\"white-space: nowrap; max-width: 500px; overflow: hidden; text-overflow: ellipsis; \" colspan=\"1\"><div style=\"text-align: left;border-bottom: solid 2px #000; padding-bottom: 5px\">lof_info</div></td><td style=\"white-space: nowrap; max-width: 500px; overflow: hidden; text-overflow: ellipsis; \" colspan=\"1\"><div style=\"text-align: left;border-bottom: solid 2px #000; padding-bottom: 5px\">minimised</div></td><td style=\"white-space: nowrap; max-width: 500px; overflow: hidden; text-overflow: ellipsis; \" colspan=\"1\"><div style=\"text-align: left;border-bottom: solid 2px #000; padding-bottom: 5px\">polyphen_prediction</div></td><td style=\"white-space: nowrap; max-width: 500px; overflow: hidden; text-overflow: ellipsis; \" colspan=\"1\"><div style=\"text-align: left;border-bottom: solid 2px #000; padding-bottom: 5px\">polyphen_score</div></td><td style=\"white-space: nowrap; max-width: 500px; overflow: hidden; text-overflow: ellipsis; \" colspan=\"1\"><div style=\"text-align: left;border-bottom: solid 2px #000; padding-bottom: 5px\">protein_end</div></td><td style=\"white-space: nowrap; max-width: 500px; overflow: hidden; text-overflow: ellipsis; \" colspan=\"1\"><div style=\"text-align: left;border-bottom: solid 2px #000; padding-bottom: 5px\">protein_start</div></td><td style=\"white-space: nowrap; max-width: 500px; overflow: hidden; text-overflow: ellipsis; \" colspan=\"1\"><div style=\"text-align: left;border-bottom: solid 2px #000; padding-bottom: 5px\">protein_id</div></td><td style=\"white-space: nowrap; max-width: 500px; overflow: hidden; text-overflow: ellipsis; \" colspan=\"1\"><div style=\"text-align: left;border-bottom: solid 2px #000; padding-bottom: 5px\">sift_prediction</div></td><td style=\"white-space: nowrap; max-width: 500px; overflow: hidden; text-overflow: ellipsis; \" colspan=\"1\"><div style=\"text-align: left;border-bottom: solid 2px #000; padding-bottom: 5px\">sift_score</div></td><td style=\"white-space: nowrap; max-width: 500px; overflow: hidden; text-overflow: ellipsis; \" colspan=\"1\"><div style=\"text-align: left;border-bottom: solid 2px #000; padding-bottom: 5px\">strand</div></td><td style=\"white-space: nowrap; max-width: 500px; overflow: hidden; text-overflow: ellipsis; \" colspan=\"1\"><div style=\"text-align: left;border-bottom: solid 2px #000; padding-bottom: 5px\">swissprot</div></td><td style=\"white-space: nowrap; max-width: 500px; overflow: hidden; text-overflow: ellipsis; \" colspan=\"1\"><div style=\"text-align: left;border-bottom: solid 2px #000; padding-bottom: 5px\">transcript_id</div></td><td style=\"white-space: nowrap; max-width: 500px; overflow: hidden; text-overflow: ellipsis; \" colspan=\"1\"><div style=\"text-align: left;border-bottom: solid 2px #000; padding-bottom: 5px\">trembl</div></td><td style=\"white-space: nowrap; max-width: 500px; overflow: hidden; text-overflow: ellipsis; \" colspan=\"1\"><div style=\"text-align: left;border-bottom: solid 2px #000; padding-bottom: 5px\">tsl</div></td><td style=\"white-space: nowrap; max-width: 500px; overflow: hidden; text-overflow: ellipsis; \" colspan=\"1\"><div style=\"text-align: left;border-bottom: solid 2px #000; padding-bottom: 5px\">uniparc</div></td><td style=\"white-space: nowrap; max-width: 500px; overflow: hidden; text-overflow: ellipsis; \" colspan=\"1\"><div style=\"text-align: left;border-bottom: solid 2px #000; padding-bottom: 5px\">variant_allele</div></td></tr><tr><td style=\"white-space: nowrap; max-width: 500px; overflow: hidden; text-overflow: ellipsis; text-align: left;\">locus&lt;GRCh38&gt;</td><td style=\"white-space: nowrap; max-width: 500px; overflow: hidden; text-overflow: ellipsis; text-align: left;\">array&lt;str&gt;</td><td style=\"white-space: nowrap; max-width: 500px; overflow: hidden; text-overflow: ellipsis; text-align: left;\">int32</td><td style=\"white-space: nowrap; max-width: 500px; overflow: hidden; text-overflow: ellipsis; text-align: left;\">str</td><td style=\"white-space: nowrap; max-width: 500px; overflow: hidden; text-overflow: ellipsis; text-align: left;\">str</td><td style=\"white-space: nowrap; max-width: 500px; overflow: hidden; text-overflow: ellipsis; text-align: left;\">str</td><td style=\"white-space: nowrap; max-width: 500px; overflow: hidden; text-overflow: ellipsis; text-align: left;\">int32</td><td style=\"white-space: nowrap; max-width: 500px; overflow: hidden; text-overflow: ellipsis; text-align: left;\">str</td><td style=\"white-space: nowrap; max-width: 500px; overflow: hidden; text-overflow: ellipsis; text-align: left;\">int32</td><td style=\"white-space: nowrap; max-width: 500px; overflow: hidden; text-overflow: ellipsis; text-align: left;\">int32</td><td style=\"white-space: nowrap; max-width: 500px; overflow: hidden; text-overflow: ellipsis; text-align: left;\">int32</td><td style=\"white-space: nowrap; max-width: 500px; overflow: hidden; text-overflow: ellipsis; text-align: left;\">int32</td><td style=\"white-space: nowrap; max-width: 500px; overflow: hidden; text-overflow: ellipsis; text-align: left;\">str</td><td style=\"white-space: nowrap; max-width: 500px; overflow: hidden; text-overflow: ellipsis; text-align: left;\">array&lt;str&gt;</td><td style=\"white-space: nowrap; max-width: 500px; overflow: hidden; text-overflow: ellipsis; text-align: left;\">int32</td><td style=\"white-space: nowrap; max-width: 500px; overflow: hidden; text-overflow: ellipsis; text-align: left;\">array&lt;struct{db: str, name: str}&gt;</td><td style=\"white-space: nowrap; max-width: 500px; overflow: hidden; text-overflow: ellipsis; text-align: left;\">str</td><td style=\"white-space: nowrap; max-width: 500px; overflow: hidden; text-overflow: ellipsis; text-align: left;\">str</td><td style=\"white-space: nowrap; max-width: 500px; overflow: hidden; text-overflow: ellipsis; text-align: left;\">int32</td><td style=\"white-space: nowrap; max-width: 500px; overflow: hidden; text-overflow: ellipsis; text-align: left;\">str</td><td style=\"white-space: nowrap; max-width: 500px; overflow: hidden; text-overflow: ellipsis; text-align: left;\">str</td><td style=\"white-space: nowrap; max-width: 500px; overflow: hidden; text-overflow: ellipsis; text-align: left;\">str</td><td style=\"white-space: nowrap; max-width: 500px; overflow: hidden; text-overflow: ellipsis; text-align: left;\">str</td><td style=\"white-space: nowrap; max-width: 500px; overflow: hidden; text-overflow: ellipsis; text-align: left;\">str</td><td style=\"white-space: nowrap; max-width: 500px; overflow: hidden; text-overflow: ellipsis; text-align: left;\">int32</td><td style=\"white-space: nowrap; max-width: 500px; overflow: hidden; text-overflow: ellipsis; text-align: left;\">str</td><td style=\"white-space: nowrap; max-width: 500px; overflow: hidden; text-overflow: ellipsis; text-align: left;\">str</td><td style=\"white-space: nowrap; max-width: 500px; overflow: hidden; text-overflow: ellipsis; text-align: left;\">str</td><td style=\"white-space: nowrap; max-width: 500px; overflow: hidden; text-overflow: ellipsis; text-align: left;\">str</td><td style=\"white-space: nowrap; max-width: 500px; overflow: hidden; text-overflow: ellipsis; text-align: left;\">str</td><td style=\"white-space: nowrap; max-width: 500px; overflow: hidden; text-overflow: ellipsis; text-align: left;\">str</td><td style=\"white-space: nowrap; max-width: 500px; overflow: hidden; text-overflow: ellipsis; text-align: left;\">int32</td><td style=\"white-space: nowrap; max-width: 500px; overflow: hidden; text-overflow: ellipsis; text-align: left;\">str</td><td style=\"white-space: nowrap; max-width: 500px; overflow: hidden; text-overflow: ellipsis; text-align: left;\">float64</td><td style=\"white-space: nowrap; max-width: 500px; overflow: hidden; text-overflow: ellipsis; text-align: left;\">int32</td><td style=\"white-space: nowrap; max-width: 500px; overflow: hidden; text-overflow: ellipsis; text-align: left;\">int32</td><td style=\"white-space: nowrap; max-width: 500px; overflow: hidden; text-overflow: ellipsis; text-align: left;\">str</td><td style=\"white-space: nowrap; max-width: 500px; overflow: hidden; text-overflow: ellipsis; text-align: left;\">str</td><td style=\"white-space: nowrap; max-width: 500px; overflow: hidden; text-overflow: ellipsis; text-align: left;\">float64</td><td style=\"white-space: nowrap; max-width: 500px; overflow: hidden; text-overflow: ellipsis; text-align: left;\">int32</td><td style=\"white-space: nowrap; max-width: 500px; overflow: hidden; text-overflow: ellipsis; text-align: left;\">str</td><td style=\"white-space: nowrap; max-width: 500px; overflow: hidden; text-overflow: ellipsis; text-align: left;\">str</td><td style=\"white-space: nowrap; max-width: 500px; overflow: hidden; text-overflow: ellipsis; text-align: left;\">str</td><td style=\"white-space: nowrap; max-width: 500px; overflow: hidden; text-overflow: ellipsis; text-align: left;\">int32</td><td style=\"white-space: nowrap; max-width: 500px; overflow: hidden; text-overflow: ellipsis; text-align: left;\">str</td><td style=\"white-space: nowrap; max-width: 500px; overflow: hidden; text-overflow: ellipsis; text-align: left;\">str</td></tr>\n",
       "</thead><tbody><tr><td style=\"white-space: nowrap; max-width: 500px; overflow: hidden; text-overflow: ellipsis; \">chr1:1318875</td><td style=\"white-space: nowrap; max-width: 500px; overflow: hidden; text-overflow: ellipsis; \">[&quot;G&quot;,&quot;A&quot;]</td><td style=\"white-space: nowrap; max-width: 500px; overflow: hidden; text-overflow: ellipsis; \">1</td><td style=\"white-space: nowrap; max-width: 500px; overflow: hidden; text-overflow: ellipsis; \">&quot;Q/*&quot;</td><td style=\"white-space: nowrap; max-width: 500px; overflow: hidden; text-overflow: ellipsis; \">NA</td><td style=\"white-space: nowrap; max-width: 500px; overflow: hidden; text-overflow: ellipsis; \">&quot;protein_coding&quot;</td><td style=\"white-space: nowrap; max-width: 500px; overflow: hidden; text-overflow: ellipsis; \">NA</td><td style=\"white-space: nowrap; max-width: 500px; overflow: hidden; text-overflow: ellipsis; \">NA</td><td style=\"white-space: nowrap; max-width: 500px; overflow: hidden; text-overflow: ellipsis; \">908</td><td style=\"white-space: nowrap; max-width: 500px; overflow: hidden; text-overflow: ellipsis; \">908</td><td style=\"white-space: nowrap; max-width: 500px; overflow: hidden; text-overflow: ellipsis; \">850</td><td style=\"white-space: nowrap; max-width: 500px; overflow: hidden; text-overflow: ellipsis; \">850</td><td style=\"white-space: nowrap; max-width: 500px; overflow: hidden; text-overflow: ellipsis; \">&quot;Cag/Tag&quot;</td><td style=\"white-space: nowrap; max-width: 500px; overflow: hidden; text-overflow: ellipsis; \">[&quot;stop_gained&quot;]</td><td style=\"white-space: nowrap; max-width: 500px; overflow: hidden; text-overflow: ellipsis; \">NA</td><td style=\"white-space: nowrap; max-width: 500px; overflow: hidden; text-overflow: ellipsis; \">NA</td><td style=\"white-space: nowrap; max-width: 500px; overflow: hidden; text-overflow: ellipsis; \">&quot;4/4&quot;</td><td style=\"white-space: nowrap; max-width: 500px; overflow: hidden; text-overflow: ellipsis; \">&quot;ENSG00000127054&quot;</td><td style=\"white-space: nowrap; max-width: 500px; overflow: hidden; text-overflow: ellipsis; \">NA</td><td style=\"white-space: nowrap; max-width: 500px; overflow: hidden; text-overflow: ellipsis; \">&quot;INTS11&quot;</td><td style=\"white-space: nowrap; max-width: 500px; overflow: hidden; text-overflow: ellipsis; \">&quot;HGNC&quot;</td><td style=\"white-space: nowrap; max-width: 500px; overflow: hidden; text-overflow: ellipsis; \">&quot;HGNC:26052&quot;</td><td style=\"white-space: nowrap; max-width: 500px; overflow: hidden; text-overflow: ellipsis; \">&quot;ENST00000429572.5:c.850C&gt;T&quot;</td><td style=\"white-space: nowrap; max-width: 500px; overflow: hidden; text-overflow: ellipsis; \">&quot;ENSP00000481275.1:p.Gln284Ter&quot;</td><td style=\"white-space: nowrap; max-width: 500px; overflow: hidden; text-overflow: ellipsis; \">NA</td><td style=\"white-space: nowrap; max-width: 500px; overflow: hidden; text-overflow: ellipsis; \">&quot;HIGH&quot;</td><td style=\"white-space: nowrap; max-width: 500px; overflow: hidden; text-overflow: ellipsis; \">NA</td><td style=\"white-space: nowrap; max-width: 500px; overflow: hidden; text-overflow: ellipsis; \">&quot;HC&quot;</td><td style=\"white-space: nowrap; max-width: 500px; overflow: hidden; text-overflow: ellipsis; \">&quot;PHYLOCSF_WEAK&quot;</td><td style=\"white-space: nowrap; max-width: 500px; overflow: hidden; text-overflow: ellipsis; \">NA</td><td style=\"white-space: nowrap; max-width: 500px; overflow: hidden; text-overflow: ellipsis; \">&quot;PERCENTILE:0.977011494252874,GERP_DIST:-51.8999999761581,BP_DIST:20,DIST_FROM_LAST_EXON:-649,50_BP_RULE:FAIL,ANN_ORF:-1477.72,MAX_ORF:-1477.72&quot;</td><td style=\"white-space: nowrap; max-width: 500px; overflow: hidden; text-overflow: ellipsis; \">NA</td><td style=\"white-space: nowrap; max-width: 500px; overflow: hidden; text-overflow: ellipsis; \">NA</td><td style=\"white-space: nowrap; max-width: 500px; overflow: hidden; text-overflow: ellipsis; \">NA</td><td style=\"white-space: nowrap; max-width: 500px; overflow: hidden; text-overflow: ellipsis; \">284</td><td style=\"white-space: nowrap; max-width: 500px; overflow: hidden; text-overflow: ellipsis; \">284</td><td style=\"white-space: nowrap; max-width: 500px; overflow: hidden; text-overflow: ellipsis; \">&quot;ENSP00000481275&quot;</td><td style=\"white-space: nowrap; max-width: 500px; overflow: hidden; text-overflow: ellipsis; \">NA</td><td style=\"white-space: nowrap; max-width: 500px; overflow: hidden; text-overflow: ellipsis; \">NA</td><td style=\"white-space: nowrap; max-width: 500px; overflow: hidden; text-overflow: ellipsis; \">-1</td><td style=\"white-space: nowrap; max-width: 500px; overflow: hidden; text-overflow: ellipsis; \">NA</td><td style=\"white-space: nowrap; max-width: 500px; overflow: hidden; text-overflow: ellipsis; \">&quot;ENST00000429572&quot;</td><td style=\"white-space: nowrap; max-width: 500px; overflow: hidden; text-overflow: ellipsis; \">NA</td><td style=\"white-space: nowrap; max-width: 500px; overflow: hidden; text-overflow: ellipsis; \">2</td><td style=\"white-space: nowrap; max-width: 500px; overflow: hidden; text-overflow: ellipsis; \">NA</td><td style=\"white-space: nowrap; max-width: 500px; overflow: hidden; text-overflow: ellipsis; \">&quot;A&quot;</td></tr>\n",
       "<tr><td style=\"white-space: nowrap; max-width: 500px; overflow: hidden; text-overflow: ellipsis; \">chr1:1320653</td><td style=\"white-space: nowrap; max-width: 500px; overflow: hidden; text-overflow: ellipsis; \">[&quot;C&quot;,&quot;T&quot;]</td><td style=\"white-space: nowrap; max-width: 500px; overflow: hidden; text-overflow: ellipsis; \">1</td><td style=\"white-space: nowrap; max-width: 500px; overflow: hidden; text-overflow: ellipsis; \">&quot;W/*&quot;</td><td style=\"white-space: nowrap; max-width: 500px; overflow: hidden; text-overflow: ellipsis; \">NA</td><td style=\"white-space: nowrap; max-width: 500px; overflow: hidden; text-overflow: ellipsis; \">&quot;nonsense_mediated_decay&quot;</td><td style=\"white-space: nowrap; max-width: 500px; overflow: hidden; text-overflow: ellipsis; \">NA</td><td style=\"white-space: nowrap; max-width: 500px; overflow: hidden; text-overflow: ellipsis; \">NA</td><td style=\"white-space: nowrap; max-width: 500px; overflow: hidden; text-overflow: ellipsis; \">151</td><td style=\"white-space: nowrap; max-width: 500px; overflow: hidden; text-overflow: ellipsis; \">151</td><td style=\"white-space: nowrap; max-width: 500px; overflow: hidden; text-overflow: ellipsis; \">153</td><td style=\"white-space: nowrap; max-width: 500px; overflow: hidden; text-overflow: ellipsis; \">153</td><td style=\"white-space: nowrap; max-width: 500px; overflow: hidden; text-overflow: ellipsis; \">&quot;tgG/tgA&quot;</td><td style=\"white-space: nowrap; max-width: 500px; overflow: hidden; text-overflow: ellipsis; \">[&quot;stop_gained&quot;,&quot;NMD_transcript_variant&quot;]</td><td style=\"white-space: nowrap; max-width: 500px; overflow: hidden; text-overflow: ellipsis; \">NA</td><td style=\"white-space: nowrap; max-width: 500px; overflow: hidden; text-overflow: ellipsis; \">NA</td><td style=\"white-space: nowrap; max-width: 500px; overflow: hidden; text-overflow: ellipsis; \">&quot;3/4&quot;</td><td style=\"white-space: nowrap; max-width: 500px; overflow: hidden; text-overflow: ellipsis; \">&quot;ENSG00000127054&quot;</td><td style=\"white-space: nowrap; max-width: 500px; overflow: hidden; text-overflow: ellipsis; \">NA</td><td style=\"white-space: nowrap; max-width: 500px; overflow: hidden; text-overflow: ellipsis; \">&quot;INTS11&quot;</td><td style=\"white-space: nowrap; max-width: 500px; overflow: hidden; text-overflow: ellipsis; \">&quot;HGNC&quot;</td><td style=\"white-space: nowrap; max-width: 500px; overflow: hidden; text-overflow: ellipsis; \">&quot;HGNC:26052&quot;</td><td style=\"white-space: nowrap; max-width: 500px; overflow: hidden; text-overflow: ellipsis; \">&quot;ENST00000470679.3:c.153G&gt;A&quot;</td><td style=\"white-space: nowrap; max-width: 500px; overflow: hidden; text-overflow: ellipsis; \">&quot;ENSP00000434782.1:p.Trp51Ter&quot;</td><td style=\"white-space: nowrap; max-width: 500px; overflow: hidden; text-overflow: ellipsis; \">NA</td><td style=\"white-space: nowrap; max-width: 500px; overflow: hidden; text-overflow: ellipsis; \">&quot;HIGH&quot;</td><td style=\"white-space: nowrap; max-width: 500px; overflow: hidden; text-overflow: ellipsis; \">NA</td><td style=\"white-space: nowrap; max-width: 500px; overflow: hidden; text-overflow: ellipsis; \">NA</td><td style=\"white-space: nowrap; max-width: 500px; overflow: hidden; text-overflow: ellipsis; \">NA</td><td style=\"white-space: nowrap; max-width: 500px; overflow: hidden; text-overflow: ellipsis; \">NA</td><td style=\"white-space: nowrap; max-width: 500px; overflow: hidden; text-overflow: ellipsis; \">NA</td><td style=\"white-space: nowrap; max-width: 500px; overflow: hidden; text-overflow: ellipsis; \">NA</td><td style=\"white-space: nowrap; max-width: 500px; overflow: hidden; text-overflow: ellipsis; \">NA</td><td style=\"white-space: nowrap; max-width: 500px; overflow: hidden; text-overflow: ellipsis; \">NA</td><td style=\"white-space: nowrap; max-width: 500px; overflow: hidden; text-overflow: ellipsis; \">51</td><td style=\"white-space: nowrap; max-width: 500px; overflow: hidden; text-overflow: ellipsis; \">51</td><td style=\"white-space: nowrap; max-width: 500px; overflow: hidden; text-overflow: ellipsis; \">&quot;ENSP00000434782&quot;</td><td style=\"white-space: nowrap; max-width: 500px; overflow: hidden; text-overflow: ellipsis; \">NA</td><td style=\"white-space: nowrap; max-width: 500px; overflow: hidden; text-overflow: ellipsis; \">NA</td><td style=\"white-space: nowrap; max-width: 500px; overflow: hidden; text-overflow: ellipsis; \">-1</td><td style=\"white-space: nowrap; max-width: 500px; overflow: hidden; text-overflow: ellipsis; \">NA</td><td style=\"white-space: nowrap; max-width: 500px; overflow: hidden; text-overflow: ellipsis; \">&quot;ENST00000470679&quot;</td><td style=\"white-space: nowrap; max-width: 500px; overflow: hidden; text-overflow: ellipsis; \">NA</td><td style=\"white-space: nowrap; max-width: 500px; overflow: hidden; text-overflow: ellipsis; \">5</td><td style=\"white-space: nowrap; max-width: 500px; overflow: hidden; text-overflow: ellipsis; \">NA</td><td style=\"white-space: nowrap; max-width: 500px; overflow: hidden; text-overflow: ellipsis; \">&quot;T&quot;</td></tr>\n",
       "<tr><td style=\"white-space: nowrap; max-width: 500px; overflow: hidden; text-overflow: ellipsis; \">chr1:2430625</td><td style=\"white-space: nowrap; max-width: 500px; overflow: hidden; text-overflow: ellipsis; \">[&quot;C&quot;,&quot;CGTGGGTGAGTGAGGCCCTGGCT&quot;]</td><td style=\"white-space: nowrap; max-width: 500px; overflow: hidden; text-overflow: ellipsis; \">1</td><td style=\"white-space: nowrap; max-width: 500px; overflow: hidden; text-overflow: ellipsis; \">&quot;-/VGE*GPGX&quot;</td><td style=\"white-space: nowrap; max-width: 500px; overflow: hidden; text-overflow: ellipsis; \">NA</td><td style=\"white-space: nowrap; max-width: 500px; overflow: hidden; text-overflow: ellipsis; \">&quot;protein_coding&quot;</td><td style=\"white-space: nowrap; max-width: 500px; overflow: hidden; text-overflow: ellipsis; \">NA</td><td style=\"white-space: nowrap; max-width: 500px; overflow: hidden; text-overflow: ellipsis; \">NA</td><td style=\"white-space: nowrap; max-width: 500px; overflow: hidden; text-overflow: ellipsis; \">346</td><td style=\"white-space: nowrap; max-width: 500px; overflow: hidden; text-overflow: ellipsis; \">347</td><td style=\"white-space: nowrap; max-width: 500px; overflow: hidden; text-overflow: ellipsis; \">112</td><td style=\"white-space: nowrap; max-width: 500px; overflow: hidden; text-overflow: ellipsis; \">111</td><td style=\"white-space: nowrap; max-width: 500px; overflow: hidden; text-overflow: ellipsis; \">&quot;-/GTGGGTGAGTGAGGCCCTGGCT&quot;</td><td style=\"white-space: nowrap; max-width: 500px; overflow: hidden; text-overflow: ellipsis; \">[&quot;stop_gained&quot;,&quot;frameshift_variant&quot;]</td><td style=\"white-space: nowrap; max-width: 500px; overflow: hidden; text-overflow: ellipsis; \">NA</td><td style=\"white-space: nowrap; max-width: 500px; overflow: hidden; text-overflow: ellipsis; \">[(&quot;PANTHER&quot;,&quot;PTHR10336&quot;),(&quot;PANTHER&quot;,&quot;PTHR10336&quot;)]</td><td style=\"white-space: nowrap; max-width: 500px; overflow: hidden; text-overflow: ellipsis; \">&quot;2/4&quot;</td><td style=\"white-space: nowrap; max-width: 500px; overflow: hidden; text-overflow: ellipsis; \">&quot;ENSG00000149527&quot;</td><td style=\"white-space: nowrap; max-width: 500px; overflow: hidden; text-overflow: ellipsis; \">NA</td><td style=\"white-space: nowrap; max-width: 500px; overflow: hidden; text-overflow: ellipsis; \">&quot;PLCH2&quot;</td><td style=\"white-space: nowrap; max-width: 500px; overflow: hidden; text-overflow: ellipsis; \">&quot;HGNC&quot;</td><td style=\"white-space: nowrap; max-width: 500px; overflow: hidden; text-overflow: ellipsis; \">&quot;HGNC:29037&quot;</td><td style=\"white-space: nowrap; max-width: 500px; overflow: hidden; text-overflow: ellipsis; \">&quot;ENST00000609981.5:c.112_115+18dup&quot;</td><td style=\"white-space: nowrap; max-width: 500px; overflow: hidden; text-overflow: ellipsis; \">NA</td><td style=\"white-space: nowrap; max-width: 500px; overflow: hidden; text-overflow: ellipsis; \">NA</td><td style=\"white-space: nowrap; max-width: 500px; overflow: hidden; text-overflow: ellipsis; \">&quot;HIGH&quot;</td><td style=\"white-space: nowrap; max-width: 500px; overflow: hidden; text-overflow: ellipsis; \">NA</td><td style=\"white-space: nowrap; max-width: 500px; overflow: hidden; text-overflow: ellipsis; \">&quot;HC&quot;</td><td style=\"white-space: nowrap; max-width: 500px; overflow: hidden; text-overflow: ellipsis; \">&quot;PHYLOCSF_WEAK&quot;</td><td style=\"white-space: nowrap; max-width: 500px; overflow: hidden; text-overflow: ellipsis; \">NA</td><td style=\"white-space: nowrap; max-width: 500px; overflow: hidden; text-overflow: ellipsis; \">&quot;PERCENTILE:0.333333333333333,GERP_DIST:89.3913670599461,BP_DIST:219,DIST_FROM_LAST_EXON:149,50_BP_RULE:PASS,ANN_ORF:-121.354,MAX_ORF:-121.354&quot;</td><td style=\"white-space: nowrap; max-width: 500px; overflow: hidden; text-overflow: ellipsis; \">NA</td><td style=\"white-space: nowrap; max-width: 500px; overflow: hidden; text-overflow: ellipsis; \">NA</td><td style=\"white-space: nowrap; max-width: 500px; overflow: hidden; text-overflow: ellipsis; \">NA</td><td style=\"white-space: nowrap; max-width: 500px; overflow: hidden; text-overflow: ellipsis; \">38</td><td style=\"white-space: nowrap; max-width: 500px; overflow: hidden; text-overflow: ellipsis; \">37</td><td style=\"white-space: nowrap; max-width: 500px; overflow: hidden; text-overflow: ellipsis; \">&quot;ENSP00000476436&quot;</td><td style=\"white-space: nowrap; max-width: 500px; overflow: hidden; text-overflow: ellipsis; \">NA</td><td style=\"white-space: nowrap; max-width: 500px; overflow: hidden; text-overflow: ellipsis; \">NA</td><td style=\"white-space: nowrap; max-width: 500px; overflow: hidden; text-overflow: ellipsis; \">1</td><td style=\"white-space: nowrap; max-width: 500px; overflow: hidden; text-overflow: ellipsis; \">NA</td><td style=\"white-space: nowrap; max-width: 500px; overflow: hidden; text-overflow: ellipsis; \">&quot;ENST00000609981&quot;</td><td style=\"white-space: nowrap; max-width: 500px; overflow: hidden; text-overflow: ellipsis; \">NA</td><td style=\"white-space: nowrap; max-width: 500px; overflow: hidden; text-overflow: ellipsis; \">5</td><td style=\"white-space: nowrap; max-width: 500px; overflow: hidden; text-overflow: ellipsis; \">NA</td><td style=\"white-space: nowrap; max-width: 500px; overflow: hidden; text-overflow: ellipsis; \">&quot;GTGGGTGAGTGAGGCCCTGGCT&quot;</td></tr>\n",
       "<tr><td style=\"white-space: nowrap; max-width: 500px; overflow: hidden; text-overflow: ellipsis; \">chr1:2559459</td><td style=\"white-space: nowrap; max-width: 500px; overflow: hidden; text-overflow: ellipsis; \">[&quot;C&quot;,&quot;A&quot;]</td><td style=\"white-space: nowrap; max-width: 500px; overflow: hidden; text-overflow: ellipsis; \">1</td><td style=\"white-space: nowrap; max-width: 500px; overflow: hidden; text-overflow: ellipsis; \">&quot;C/*&quot;</td><td style=\"white-space: nowrap; max-width: 500px; overflow: hidden; text-overflow: ellipsis; \">NA</td><td style=\"white-space: nowrap; max-width: 500px; overflow: hidden; text-overflow: ellipsis; \">&quot;protein_coding&quot;</td><td style=\"white-space: nowrap; max-width: 500px; overflow: hidden; text-overflow: ellipsis; \">NA</td><td style=\"white-space: nowrap; max-width: 500px; overflow: hidden; text-overflow: ellipsis; \">NA</td><td style=\"white-space: nowrap; max-width: 500px; overflow: hidden; text-overflow: ellipsis; \">326</td><td style=\"white-space: nowrap; max-width: 500px; overflow: hidden; text-overflow: ellipsis; \">326</td><td style=\"white-space: nowrap; max-width: 500px; overflow: hidden; text-overflow: ellipsis; \">291</td><td style=\"white-space: nowrap; max-width: 500px; overflow: hidden; text-overflow: ellipsis; \">291</td><td style=\"white-space: nowrap; max-width: 500px; overflow: hidden; text-overflow: ellipsis; \">&quot;tgC/tgA&quot;</td><td style=\"white-space: nowrap; max-width: 500px; overflow: hidden; text-overflow: ellipsis; \">[&quot;stop_gained&quot;]</td><td style=\"white-space: nowrap; max-width: 500px; overflow: hidden; text-overflow: ellipsis; \">NA</td><td style=\"white-space: nowrap; max-width: 500px; overflow: hidden; text-overflow: ellipsis; \">NA</td><td style=\"white-space: nowrap; max-width: 500px; overflow: hidden; text-overflow: ellipsis; \">&quot;1/5&quot;</td><td style=\"white-space: nowrap; max-width: 500px; overflow: hidden; text-overflow: ellipsis; \">&quot;8764&quot;</td><td style=\"white-space: nowrap; max-width: 500px; overflow: hidden; text-overflow: ellipsis; \">NA</td><td style=\"white-space: nowrap; max-width: 500px; overflow: hidden; text-overflow: ellipsis; \">&quot;TNFRSF14&quot;</td><td style=\"white-space: nowrap; max-width: 500px; overflow: hidden; text-overflow: ellipsis; \">&quot;EntrezGene&quot;</td><td style=\"white-space: nowrap; max-width: 500px; overflow: hidden; text-overflow: ellipsis; \">&quot;HGNC:11912&quot;</td><td style=\"white-space: nowrap; max-width: 500px; overflow: hidden; text-overflow: ellipsis; \">&quot;XM_017002718.1:c.291C&gt;A&quot;</td><td style=\"white-space: nowrap; max-width: 500px; overflow: hidden; text-overflow: ellipsis; \">&quot;XP_016858207.1:p.Cys97Ter&quot;</td><td style=\"white-space: nowrap; max-width: 500px; overflow: hidden; text-overflow: ellipsis; \">NA</td><td style=\"white-space: nowrap; max-width: 500px; overflow: hidden; text-overflow: ellipsis; \">&quot;HIGH&quot;</td><td style=\"white-space: nowrap; max-width: 500px; overflow: hidden; text-overflow: ellipsis; \">NA</td><td style=\"white-space: nowrap; max-width: 500px; overflow: hidden; text-overflow: ellipsis; \">&quot;LC&quot;</td><td style=\"white-space: nowrap; max-width: 500px; overflow: hidden; text-overflow: ellipsis; \">NA</td><td style=\"white-space: nowrap; max-width: 500px; overflow: hidden; text-overflow: ellipsis; \">&quot;ANC_ALLELE&quot;</td><td style=\"white-space: nowrap; max-width: 500px; overflow: hidden; text-overflow: ellipsis; \">&quot;PERCENTILE:0.267955801104972,GERP_DIST:-2622.01975149512,BP_DIST:1473,DIST_FROM_LAST_EXON:1470,50_BP_RULE:PASS,PHYLOCSF_TOO_SHORT&quot;</td><td style=\"white-space: nowrap; max-width: 500px; overflow: hidden; text-overflow: ellipsis; \">NA</td><td style=\"white-space: nowrap; max-width: 500px; overflow: hidden; text-overflow: ellipsis; \">NA</td><td style=\"white-space: nowrap; max-width: 500px; overflow: hidden; text-overflow: ellipsis; \">NA</td><td style=\"white-space: nowrap; max-width: 500px; overflow: hidden; text-overflow: ellipsis; \">97</td><td style=\"white-space: nowrap; max-width: 500px; overflow: hidden; text-overflow: ellipsis; \">97</td><td style=\"white-space: nowrap; max-width: 500px; overflow: hidden; text-overflow: ellipsis; \">&quot;XP_016858207.1&quot;</td><td style=\"white-space: nowrap; max-width: 500px; overflow: hidden; text-overflow: ellipsis; \">NA</td><td style=\"white-space: nowrap; max-width: 500px; overflow: hidden; text-overflow: ellipsis; \">NA</td><td style=\"white-space: nowrap; max-width: 500px; overflow: hidden; text-overflow: ellipsis; \">1</td><td style=\"white-space: nowrap; max-width: 500px; overflow: hidden; text-overflow: ellipsis; \">NA</td><td style=\"white-space: nowrap; max-width: 500px; overflow: hidden; text-overflow: ellipsis; \">&quot;XM_017002718.1&quot;</td><td style=\"white-space: nowrap; max-width: 500px; overflow: hidden; text-overflow: ellipsis; \">NA</td><td style=\"white-space: nowrap; max-width: 500px; overflow: hidden; text-overflow: ellipsis; \">NA</td><td style=\"white-space: nowrap; max-width: 500px; overflow: hidden; text-overflow: ellipsis; \">NA</td><td style=\"white-space: nowrap; max-width: 500px; overflow: hidden; text-overflow: ellipsis; \">&quot;A&quot;</td></tr>\n",
       "<tr><td style=\"white-space: nowrap; max-width: 500px; overflow: hidden; text-overflow: ellipsis; \">chr1:3783866</td><td style=\"white-space: nowrap; max-width: 500px; overflow: hidden; text-overflow: ellipsis; \">[&quot;G&quot;,&quot;T&quot;]</td><td style=\"white-space: nowrap; max-width: 500px; overflow: hidden; text-overflow: ellipsis; \">1</td><td style=\"white-space: nowrap; max-width: 500px; overflow: hidden; text-overflow: ellipsis; \">&quot;Y/*&quot;</td><td style=\"white-space: nowrap; max-width: 500px; overflow: hidden; text-overflow: ellipsis; \">NA</td><td style=\"white-space: nowrap; max-width: 500px; overflow: hidden; text-overflow: ellipsis; \">&quot;nonsense_mediated_decay&quot;</td><td style=\"white-space: nowrap; max-width: 500px; overflow: hidden; text-overflow: ellipsis; \">NA</td><td style=\"white-space: nowrap; max-width: 500px; overflow: hidden; text-overflow: ellipsis; \">NA</td><td style=\"white-space: nowrap; max-width: 500px; overflow: hidden; text-overflow: ellipsis; \">98</td><td style=\"white-space: nowrap; max-width: 500px; overflow: hidden; text-overflow: ellipsis; \">98</td><td style=\"white-space: nowrap; max-width: 500px; overflow: hidden; text-overflow: ellipsis; \">99</td><td style=\"white-space: nowrap; max-width: 500px; overflow: hidden; text-overflow: ellipsis; \">99</td><td style=\"white-space: nowrap; max-width: 500px; overflow: hidden; text-overflow: ellipsis; \">&quot;taC/taA&quot;</td><td style=\"white-space: nowrap; max-width: 500px; overflow: hidden; text-overflow: ellipsis; \">[&quot;stop_gained&quot;,&quot;NMD_transcript_variant&quot;]</td><td style=\"white-space: nowrap; max-width: 500px; overflow: hidden; text-overflow: ellipsis; \">NA</td><td style=\"white-space: nowrap; max-width: 500px; overflow: hidden; text-overflow: ellipsis; \">NA</td><td style=\"white-space: nowrap; max-width: 500px; overflow: hidden; text-overflow: ellipsis; \">&quot;2/5&quot;</td><td style=\"white-space: nowrap; max-width: 500px; overflow: hidden; text-overflow: ellipsis; \">&quot;ENSG00000130764&quot;</td><td style=\"white-space: nowrap; max-width: 500px; overflow: hidden; text-overflow: ellipsis; \">NA</td><td style=\"white-space: nowrap; max-width: 500px; overflow: hidden; text-overflow: ellipsis; \">&quot;LRRC47&quot;</td><td style=\"white-space: nowrap; max-width: 500px; overflow: hidden; text-overflow: ellipsis; \">&quot;HGNC&quot;</td><td style=\"white-space: nowrap; max-width: 500px; overflow: hidden; text-overflow: ellipsis; \">&quot;HGNC:29207&quot;</td><td style=\"white-space: nowrap; max-width: 500px; overflow: hidden; text-overflow: ellipsis; \">&quot;ENST00000479239.1:c.99C&gt;A&quot;</td><td style=\"white-space: nowrap; max-width: 500px; overflow: hidden; text-overflow: ellipsis; \">&quot;ENSP00000462103.1:p.Tyr33Ter&quot;</td><td style=\"white-space: nowrap; max-width: 500px; overflow: hidden; text-overflow: ellipsis; \">NA</td><td style=\"white-space: nowrap; max-width: 500px; overflow: hidden; text-overflow: ellipsis; \">&quot;HIGH&quot;</td><td style=\"white-space: nowrap; max-width: 500px; overflow: hidden; text-overflow: ellipsis; \">NA</td><td style=\"white-space: nowrap; max-width: 500px; overflow: hidden; text-overflow: ellipsis; \">NA</td><td style=\"white-space: nowrap; max-width: 500px; overflow: hidden; text-overflow: ellipsis; \">NA</td><td style=\"white-space: nowrap; max-width: 500px; overflow: hidden; text-overflow: ellipsis; \">NA</td><td style=\"white-space: nowrap; max-width: 500px; overflow: hidden; text-overflow: ellipsis; \">NA</td><td style=\"white-space: nowrap; max-width: 500px; overflow: hidden; text-overflow: ellipsis; \">NA</td><td style=\"white-space: nowrap; max-width: 500px; overflow: hidden; text-overflow: ellipsis; \">NA</td><td style=\"white-space: nowrap; max-width: 500px; overflow: hidden; text-overflow: ellipsis; \">NA</td><td style=\"white-space: nowrap; max-width: 500px; overflow: hidden; text-overflow: ellipsis; \">33</td><td style=\"white-space: nowrap; max-width: 500px; overflow: hidden; text-overflow: ellipsis; \">33</td><td style=\"white-space: nowrap; max-width: 500px; overflow: hidden; text-overflow: ellipsis; \">&quot;ENSP00000462103&quot;</td><td style=\"white-space: nowrap; max-width: 500px; overflow: hidden; text-overflow: ellipsis; \">NA</td><td style=\"white-space: nowrap; max-width: 500px; overflow: hidden; text-overflow: ellipsis; \">NA</td><td style=\"white-space: nowrap; max-width: 500px; overflow: hidden; text-overflow: ellipsis; \">-1</td><td style=\"white-space: nowrap; max-width: 500px; overflow: hidden; text-overflow: ellipsis; \">NA</td><td style=\"white-space: nowrap; max-width: 500px; overflow: hidden; text-overflow: ellipsis; \">&quot;ENST00000479239&quot;</td><td style=\"white-space: nowrap; max-width: 500px; overflow: hidden; text-overflow: ellipsis; \">NA</td><td style=\"white-space: nowrap; max-width: 500px; overflow: hidden; text-overflow: ellipsis; \">3</td><td style=\"white-space: nowrap; max-width: 500px; overflow: hidden; text-overflow: ellipsis; \">NA</td><td style=\"white-space: nowrap; max-width: 500px; overflow: hidden; text-overflow: ellipsis; \">&quot;T&quot;</td></tr>\n",
       "</tbody></table>"
      ],
      "text/plain": [
       "+---------------+---------------------------------+\n",
       "| locus         | alleles                         |\n",
       "+---------------+---------------------------------+\n",
       "| locus<GRCh38> | array<str>                      |\n",
       "+---------------+---------------------------------+\n",
       "| chr1:1318875  | [\"G\",\"A\"]                       |\n",
       "| chr1:1320653  | [\"C\",\"T\"]                       |\n",
       "| chr1:2430625  | [\"C\",\"CGTGGGTGAGTGAGGCCCTGGCT\"] |\n",
       "| chr1:2559459  | [\"C\",\"A\"]                       |\n",
       "| chr1:3783866  | [\"G\",\"T\"]                       |\n",
       "+---------------+---------------------------------+\n",
       "\n",
       "+-----------------------------+------------------------------+\n",
       "| interesting_cnsq.allele_num | interesting_cnsq.amino_acids |\n",
       "+-----------------------------+------------------------------+\n",
       "|                       int32 | str                          |\n",
       "+-----------------------------+------------------------------+\n",
       "|                           1 | \"Q/*\"                        |\n",
       "|                           1 | \"W/*\"                        |\n",
       "|                           1 | \"-/VGE*GPGX\"                 |\n",
       "|                           1 | \"C/*\"                        |\n",
       "|                           1 | \"Y/*\"                        |\n",
       "+-----------------------------+------------------------------+\n",
       "\n",
       "+-------------------------+---------------------------+\n",
       "| interesting_cnsq.appris | interesting_cnsq.biotype  |\n",
       "+-------------------------+---------------------------+\n",
       "| str                     | str                       |\n",
       "+-------------------------+---------------------------+\n",
       "| NA                      | \"protein_coding\"          |\n",
       "| NA                      | \"nonsense_mediated_decay\" |\n",
       "| NA                      | \"protein_coding\"          |\n",
       "| NA                      | \"protein_coding\"          |\n",
       "| NA                      | \"nonsense_mediated_decay\" |\n",
       "+-------------------------+---------------------------+\n",
       "\n",
       "+----------------------------+-----------------------+\n",
       "| interesting_cnsq.canonical | interesting_cnsq.ccds |\n",
       "+----------------------------+-----------------------+\n",
       "|                      int32 | str                   |\n",
       "+----------------------------+-----------------------+\n",
       "|                         NA | NA                    |\n",
       "|                         NA | NA                    |\n",
       "|                         NA | NA                    |\n",
       "|                         NA | NA                    |\n",
       "|                         NA | NA                    |\n",
       "+----------------------------+-----------------------+\n",
       "\n",
       "+-----------------------------+---------------------------+\n",
       "| interesting_cnsq.cdna_start | interesting_cnsq.cdna_end |\n",
       "+-----------------------------+---------------------------+\n",
       "|                       int32 |                     int32 |\n",
       "+-----------------------------+---------------------------+\n",
       "|                         908 |                       908 |\n",
       "|                         151 |                       151 |\n",
       "|                         346 |                       347 |\n",
       "|                         326 |                       326 |\n",
       "|                          98 |                        98 |\n",
       "+-----------------------------+---------------------------+\n",
       "\n",
       "+--------------------------+----------------------------+\n",
       "| interesting_cnsq.cds_end | interesting_cnsq.cds_start |\n",
       "+--------------------------+----------------------------+\n",
       "|                    int32 |                      int32 |\n",
       "+--------------------------+----------------------------+\n",
       "|                      850 |                        850 |\n",
       "|                      153 |                        153 |\n",
       "|                      112 |                        111 |\n",
       "|                      291 |                        291 |\n",
       "|                       99 |                         99 |\n",
       "+--------------------------+----------------------------+\n",
       "\n",
       "+----------------------------+------------------------------------------+\n",
       "| interesting_cnsq.codons    | interesting_cnsq.consequence_terms       |\n",
       "+----------------------------+------------------------------------------+\n",
       "| str                        | array<str>                               |\n",
       "+----------------------------+------------------------------------------+\n",
       "| \"Cag/Tag\"                  | [\"stop_gained\"]                          |\n",
       "| \"tgG/tgA\"                  | [\"stop_gained\",\"NMD_transcript_variant\"] |\n",
       "| \"-/GTGGGTGAGTGAGGCCCTGGCT\" | [\"stop_gained\",\"frameshift_variant\"]     |\n",
       "| \"tgC/tgA\"                  | [\"stop_gained\"]                          |\n",
       "| \"taC/taA\"                  | [\"stop_gained\",\"NMD_transcript_variant\"] |\n",
       "+----------------------------+------------------------------------------+\n",
       "\n",
       "+---------------------------+\n",
       "| interesting_cnsq.distance |\n",
       "+---------------------------+\n",
       "|                     int32 |\n",
       "+---------------------------+\n",
       "|                        NA |\n",
       "|                        NA |\n",
       "|                        NA |\n",
       "|                        NA |\n",
       "|                        NA |\n",
       "+---------------------------+\n",
       "\n",
       "+---------------------------------------------------+-----------------------+\n",
       "| interesting_cnsq.domains                          | interesting_cnsq.exon |\n",
       "+---------------------------------------------------+-----------------------+\n",
       "| array<struct{db: str, name: str}>                 | str                   |\n",
       "+---------------------------------------------------+-----------------------+\n",
       "| NA                                                | \"4/4\"                 |\n",
       "| NA                                                | \"3/4\"                 |\n",
       "| [(\"PANTHER\",\"PTHR10336\"),(\"PANTHER\",\"PTHR10336\")] | \"2/4\"                 |\n",
       "| NA                                                | \"1/5\"                 |\n",
       "| NA                                                | \"2/5\"                 |\n",
       "+---------------------------------------------------+-----------------------+\n",
       "\n",
       "+--------------------------+-----------------------------+\n",
       "| interesting_cnsq.gene_id | interesting_cnsq.gene_pheno |\n",
       "+--------------------------+-----------------------------+\n",
       "| str                      |                       int32 |\n",
       "+--------------------------+-----------------------------+\n",
       "| \"ENSG00000127054\"        |                          NA |\n",
       "| \"ENSG00000127054\"        |                          NA |\n",
       "| \"ENSG00000149527\"        |                          NA |\n",
       "| \"8764\"                   |                          NA |\n",
       "| \"ENSG00000130764\"        |                          NA |\n",
       "+--------------------------+-----------------------------+\n",
       "\n",
       "+------------------------------+-------------------------------------+\n",
       "| interesting_cnsq.gene_symbol | interesting_cnsq.gene_symbol_source |\n",
       "+------------------------------+-------------------------------------+\n",
       "| str                          | str                                 |\n",
       "+------------------------------+-------------------------------------+\n",
       "| \"INTS11\"                     | \"HGNC\"                              |\n",
       "| \"INTS11\"                     | \"HGNC\"                              |\n",
       "| \"PLCH2\"                      | \"HGNC\"                              |\n",
       "| \"TNFRSF14\"                   | \"EntrezGene\"                        |\n",
       "| \"LRRC47\"                     | \"HGNC\"                              |\n",
       "+------------------------------+-------------------------------------+\n",
       "\n",
       "+--------------------------+-------------------------------------+\n",
       "| interesting_cnsq.hgnc_id | interesting_cnsq.hgvsc              |\n",
       "+--------------------------+-------------------------------------+\n",
       "| str                      | str                                 |\n",
       "+--------------------------+-------------------------------------+\n",
       "| \"HGNC:26052\"             | \"ENST00000429572.5:c.850C>T\"        |\n",
       "| \"HGNC:26052\"             | \"ENST00000470679.3:c.153G>A\"        |\n",
       "| \"HGNC:29037\"             | \"ENST00000609981.5:c.112_115+18dup\" |\n",
       "| \"HGNC:11912\"             | \"XM_017002718.1:c.291C>A\"           |\n",
       "| \"HGNC:29207\"             | \"ENST00000479239.1:c.99C>A\"         |\n",
       "+--------------------------+-------------------------------------+\n",
       "\n",
       "+---------------------------------+------------------------------+\n",
       "| interesting_cnsq.hgvsp          | interesting_cnsq.hgvs_offset |\n",
       "+---------------------------------+------------------------------+\n",
       "| str                             |                        int32 |\n",
       "+---------------------------------+------------------------------+\n",
       "| \"ENSP00000481275.1:p.Gln284Ter\" |                           NA |\n",
       "| \"ENSP00000434782.1:p.Trp51Ter\"  |                           NA |\n",
       "| NA                              |                           NA |\n",
       "| \"XP_016858207.1:p.Cys97Ter\"     |                           NA |\n",
       "| \"ENSP00000462103.1:p.Tyr33Ter\"  |                           NA |\n",
       "+---------------------------------+------------------------------+\n",
       "\n",
       "+-------------------------+-------------------------+----------------------+\n",
       "| interesting_cnsq.impact | interesting_cnsq.intron | interesting_cnsq.lof |\n",
       "+-------------------------+-------------------------+----------------------+\n",
       "| str                     | str                     | str                  |\n",
       "+-------------------------+-------------------------+----------------------+\n",
       "| \"HIGH\"                  | NA                      | \"HC\"                 |\n",
       "| \"HIGH\"                  | NA                      | NA                   |\n",
       "| \"HIGH\"                  | NA                      | \"HC\"                 |\n",
       "| \"HIGH\"                  | NA                      | \"LC\"                 |\n",
       "| \"HIGH\"                  | NA                      | NA                   |\n",
       "+-------------------------+-------------------------+----------------------+\n",
       "\n",
       "+----------------------------+-----------------------------+\n",
       "| interesting_cnsq.lof_flags | interesting_cnsq.lof_filter |\n",
       "+----------------------------+-----------------------------+\n",
       "| str                        | str                         |\n",
       "+----------------------------+-----------------------------+\n",
       "| \"PHYLOCSF_WEAK\"            | NA                          |\n",
       "| NA                         | NA                          |\n",
       "| \"PHYLOCSF_WEAK\"            | NA                          |\n",
       "| NA                         | \"ANC_ALLELE\"                |\n",
       "| NA                         | NA                          |\n",
       "+----------------------------+-----------------------------+\n",
       "\n",
       "+------------------------------------------------------------------------------+\n",
       "| interesting_cnsq.lof_info                                                    |\n",
       "+------------------------------------------------------------------------------+\n",
       "| str                                                                          |\n",
       "+------------------------------------------------------------------------------+\n",
       "| \"PERCENTILE:0.977011494252874,GERP_DIST:-51.8999999761581,BP_DIST:20,DIST... |\n",
       "| NA                                                                           |\n",
       "| \"PERCENTILE:0.333333333333333,GERP_DIST:89.3913670599461,BP_DIST:219,DIST... |\n",
       "| \"PERCENTILE:0.267955801104972,GERP_DIST:-2622.01975149512,BP_DIST:1473,DI... |\n",
       "| NA                                                                           |\n",
       "+------------------------------------------------------------------------------+\n",
       "\n",
       "+----------------------------+--------------------------------------+\n",
       "| interesting_cnsq.minimised | interesting_cnsq.polyphen_prediction |\n",
       "+----------------------------+--------------------------------------+\n",
       "|                      int32 | str                                  |\n",
       "+----------------------------+--------------------------------------+\n",
       "|                         NA | NA                                   |\n",
       "|                         NA | NA                                   |\n",
       "|                         NA | NA                                   |\n",
       "|                         NA | NA                                   |\n",
       "|                         NA | NA                                   |\n",
       "+----------------------------+--------------------------------------+\n",
       "\n",
       "+---------------------------------+------------------------------+\n",
       "| interesting_cnsq.polyphen_score | interesting_cnsq.protein_end |\n",
       "+---------------------------------+------------------------------+\n",
       "|                         float64 |                        int32 |\n",
       "+---------------------------------+------------------------------+\n",
       "|                              NA |                          284 |\n",
       "|                              NA |                           51 |\n",
       "|                              NA |                           38 |\n",
       "|                              NA |                           97 |\n",
       "|                              NA |                           33 |\n",
       "+---------------------------------+------------------------------+\n",
       "\n",
       "+--------------------------------+-----------------------------+\n",
       "| interesting_cnsq.protein_start | interesting_cnsq.protein_id |\n",
       "+--------------------------------+-----------------------------+\n",
       "|                          int32 | str                         |\n",
       "+--------------------------------+-----------------------------+\n",
       "|                            284 | \"ENSP00000481275\"           |\n",
       "|                             51 | \"ENSP00000434782\"           |\n",
       "|                             37 | \"ENSP00000476436\"           |\n",
       "|                             97 | \"XP_016858207.1\"            |\n",
       "|                             33 | \"ENSP00000462103\"           |\n",
       "+--------------------------------+-----------------------------+\n",
       "\n",
       "+----------------------------------+-----------------------------+\n",
       "| interesting_cnsq.sift_prediction | interesting_cnsq.sift_score |\n",
       "+----------------------------------+-----------------------------+\n",
       "| str                              |                     float64 |\n",
       "+----------------------------------+-----------------------------+\n",
       "| NA                               |                          NA |\n",
       "| NA                               |                          NA |\n",
       "| NA                               |                          NA |\n",
       "| NA                               |                          NA |\n",
       "| NA                               |                          NA |\n",
       "+----------------------------------+-----------------------------+\n",
       "\n",
       "+-------------------------+----------------------------+\n",
       "| interesting_cnsq.strand | interesting_cnsq.swissprot |\n",
       "+-------------------------+----------------------------+\n",
       "|                   int32 | str                        |\n",
       "+-------------------------+----------------------------+\n",
       "|                      -1 | NA                         |\n",
       "|                      -1 | NA                         |\n",
       "|                       1 | NA                         |\n",
       "|                       1 | NA                         |\n",
       "|                      -1 | NA                         |\n",
       "+-------------------------+----------------------------+\n",
       "\n",
       "+--------------------------------+-------------------------+\n",
       "| interesting_cnsq.transcript_id | interesting_cnsq.trembl |\n",
       "+--------------------------------+-------------------------+\n",
       "| str                            | str                     |\n",
       "+--------------------------------+-------------------------+\n",
       "| \"ENST00000429572\"              | NA                      |\n",
       "| \"ENST00000470679\"              | NA                      |\n",
       "| \"ENST00000609981\"              | NA                      |\n",
       "| \"XM_017002718.1\"               | NA                      |\n",
       "| \"ENST00000479239\"              | NA                      |\n",
       "+--------------------------------+-------------------------+\n",
       "\n",
       "+----------------------+--------------------------+\n",
       "| interesting_cnsq.tsl | interesting_cnsq.uniparc |\n",
       "+----------------------+--------------------------+\n",
       "|                int32 | str                      |\n",
       "+----------------------+--------------------------+\n",
       "|                    2 | NA                       |\n",
       "|                    5 | NA                       |\n",
       "|                    5 | NA                       |\n",
       "|                   NA | NA                       |\n",
       "|                    3 | NA                       |\n",
       "+----------------------+--------------------------+\n",
       "\n",
       "+---------------------------------+\n",
       "| interesting_cnsq.variant_allele |\n",
       "+---------------------------------+\n",
       "| str                             |\n",
       "+---------------------------------+\n",
       "| \"A\"                             |\n",
       "| \"T\"                             |\n",
       "| \"GTGGGTGAGTGAGGCCCTGGCT\"        |\n",
       "| \"A\"                             |\n",
       "| \"T\"                             |\n",
       "+---------------------------------+"
      ]
     },
     "metadata": {},
     "output_type": "display_data"
    }
   ],
   "source": [
    "mt = mt.annotate_rows(\n",
    "    interesting_cnsq = mt.vep.transcript_consequences.find(lambda x: x.consequence_terms.contains(\"stop_gained\"))\n",
    ")\n",
    "mt = mt.filter_rows(hl.is_defined(mt.interesting_cnsq))\n",
    "mt.interesting_cnsq.show(n=30)"
   ]
  },
  {
   "cell_type": "code",
   "execution_count": null,
   "id": "e0144a76",
   "metadata": {},
   "outputs": [],
   "source": []
  }
 ],
 "metadata": {
  "kernelspec": {
   "display_name": "Python 3 (ipykernel)",
   "language": "python",
   "name": "python3"
  },
  "language_info": {
   "codemirror_mode": {
    "name": "ipython",
    "version": 3
   },
   "file_extension": ".py",
   "mimetype": "text/x-python",
   "name": "python",
   "nbconvert_exporter": "python",
   "pygments_lexer": "ipython3",
   "version": "3.9.12"
  }
 },
 "nbformat": 4,
 "nbformat_minor": 5
}
